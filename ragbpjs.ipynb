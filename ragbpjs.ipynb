{
  "cells": [
    {
      "cell_type": "code",
      "execution_count": null,
      "metadata": {
        "colab": {
          "base_uri": "https://localhost:8080/"
        },
        "id": "KUwIi0r9yVlQ",
        "outputId": "48430fdf-d761-4015-ee88-6ffb568e0b53"
      },
      "outputs": [
        {
          "name": "stdout",
          "output_type": "stream",
          "text": [
            "Mounted at /content/drive\n"
          ]
        }
      ],
      "source": [
        "from google.colab import drive\n",
        "drive.mount('/content/drive')"
      ]
    },
    {
      "cell_type": "code",
      "execution_count": null,
      "metadata": {
        "colab": {
          "base_uri": "https://localhost:8080/"
        },
        "id": "kqZlMZRL05Gu",
        "outputId": "25c632b4-bee5-47a2-ac74-21b338d18adc"
      },
      "outputs": [
        {
          "name": "stdout",
          "output_type": "stream",
          "text": [
            "\u001b[?25l     \u001b[90m━━━━━━━━━━━━━━━━━━━━━━━━━━━━━━━━━━━━━━━━\u001b[0m \u001b[32m0.0/67.3 kB\u001b[0m \u001b[31m?\u001b[0m eta \u001b[36m-:--:--\u001b[0m\r\u001b[2K     \u001b[90m━━━━━━━━━━━━━━━━━━━━━━━━━━━━━━━━━━━━━━━━\u001b[0m \u001b[32m67.3/67.3 kB\u001b[0m \u001b[31m5.4 MB/s\u001b[0m eta \u001b[36m0:00:00\u001b[0m\n",
            "\u001b[?25h  Installing build dependencies ... \u001b[?25l\u001b[?25hdone\n",
            "  Getting requirements to build wheel ... \u001b[?25l\u001b[?25hdone\n",
            "  Preparing metadata (pyproject.toml) ... \u001b[?25l\u001b[?25hdone\n",
            "\u001b[2K     \u001b[90m━━━━━━━━━━━━━━━━━━━━━━━━━━━━━━━━━━━━━━\u001b[0m \u001b[32m981.5/981.5 kB\u001b[0m \u001b[31m50.9 MB/s\u001b[0m eta \u001b[36m0:00:00\u001b[0m\n",
            "\u001b[?25h  Preparing metadata (setup.py) ... \u001b[?25l\u001b[?25hdone\n",
            "\u001b[2K   \u001b[90m━━━━━━━━━━━━━━━━━━━━━━━━━━━━━━━━━━━━━━━━\u001b[0m \u001b[32m2.5/2.5 MB\u001b[0m \u001b[31m69.8 MB/s\u001b[0m eta \u001b[36m0:00:00\u001b[0m\n",
            "\u001b[2K   \u001b[90m━━━━━━━━━━━━━━━━━━━━━━━━━━━━━━━━━━━━━━━━\u001b[0m \u001b[32m19.7/19.7 MB\u001b[0m \u001b[31m79.6 MB/s\u001b[0m eta \u001b[36m0:00:00\u001b[0m\n",
            "\u001b[2K   \u001b[90m━━━━━━━━━━━━━━━━━━━━━━━━━━━━━━━━━━━━━━━━\u001b[0m \u001b[32m1.8/1.8 MB\u001b[0m \u001b[31m24.1 MB/s\u001b[0m eta \u001b[36m0:00:00\u001b[0m\n",
            "\u001b[2K   \u001b[90m━━━━━━━━━━━━━━━━━━━━━━━━━━━━━━━━━━━━━━━━\u001b[0m \u001b[32m284.2/284.2 kB\u001b[0m \u001b[31m20.5 MB/s\u001b[0m eta \u001b[36m0:00:00\u001b[0m\n",
            "\u001b[2K   \u001b[90m━━━━━━━━━━━━━━━━━━━━━━━━━━━━━━━━━━━━━━━━\u001b[0m \u001b[32m1.9/1.9 MB\u001b[0m \u001b[31m73.2 MB/s\u001b[0m eta \u001b[36m0:00:00\u001b[0m\n",
            "\u001b[2K   \u001b[90m━━━━━━━━━━━━━━━━━━━━━━━━━━━━━━━━━━━━━━━━\u001b[0m \u001b[32m103.1/103.1 kB\u001b[0m \u001b[31m8.0 MB/s\u001b[0m eta \u001b[36m0:00:00\u001b[0m\n",
            "\u001b[2K   \u001b[90m━━━━━━━━━━━━━━━━━━━━━━━━━━━━━━━━━━━━━━━━\u001b[0m \u001b[32m16.5/16.5 MB\u001b[0m \u001b[31m38.1 MB/s\u001b[0m eta \u001b[36m0:00:00\u001b[0m\n",
            "\u001b[2K   \u001b[90m━━━━━━━━━━━━━━━━━━━━━━━━━━━━━━━━━━━━━━━━\u001b[0m \u001b[32m65.6/65.6 kB\u001b[0m \u001b[31m4.4 MB/s\u001b[0m eta \u001b[36m0:00:00\u001b[0m\n",
            "\u001b[2K   \u001b[90m━━━━━━━━━━━━━━━━━━━━━━━━━━━━━━━━━━━━━━━━\u001b[0m \u001b[32m72.5/72.5 kB\u001b[0m \u001b[31m5.2 MB/s\u001b[0m eta \u001b[36m0:00:00\u001b[0m\n",
            "\u001b[2K   \u001b[90m━━━━━━━━━━━━━━━━━━━━━━━━━━━━━━━━━━━━━━━━\u001b[0m \u001b[32m120.0/120.0 kB\u001b[0m \u001b[31m9.4 MB/s\u001b[0m eta \u001b[36m0:00:00\u001b[0m\n",
            "\u001b[2K   \u001b[90m━━━━━━━━━━━━━━━━━━━━━━━━━━━━━━━━━━━━━━━━\u001b[0m \u001b[32m201.6/201.6 kB\u001b[0m \u001b[31m15.1 MB/s\u001b[0m eta \u001b[36m0:00:00\u001b[0m\n",
            "\u001b[2K   \u001b[90m━━━━━━━━━━━━━━━━━━━━━━━━━━━━━━━━━━━━━━━━\u001b[0m \u001b[32m105.4/105.4 kB\u001b[0m \u001b[31m9.0 MB/s\u001b[0m eta \u001b[36m0:00:00\u001b[0m\n",
            "\u001b[2K   \u001b[90m━━━━━━━━━━━━━━━━━━━━━━━━━━━━━━━━━━━━━━━━\u001b[0m \u001b[32m71.4/71.4 kB\u001b[0m \u001b[31m5.5 MB/s\u001b[0m eta \u001b[36m0:00:00\u001b[0m\n",
            "\u001b[2K   \u001b[90m━━━━━━━━━━━━━━━━━━━━━━━━━━━━━━━━━━━━━━━━\u001b[0m \u001b[32m45.2/45.2 kB\u001b[0m \u001b[31m3.5 MB/s\u001b[0m eta \u001b[36m0:00:00\u001b[0m\n",
            "\u001b[2K   \u001b[90m━━━━━━━━━━━━━━━━━━━━━━━━━━━━━━━━━━━━━━━━\u001b[0m \u001b[32m363.4/363.4 MB\u001b[0m \u001b[31m4.4 MB/s\u001b[0m eta \u001b[36m0:00:00\u001b[0m\n",
            "\u001b[2K   \u001b[90m━━━━━━━━━━━━━━━━━━━━━━━━━━━━━━━━━━━━━━━━\u001b[0m \u001b[32m13.8/13.8 MB\u001b[0m \u001b[31m108.7 MB/s\u001b[0m eta \u001b[36m0:00:00\u001b[0m\n",
            "\u001b[2K   \u001b[90m━━━━━━━━━━━━━━━━━━━━━━━━━━━━━━━━━━━━━━━━\u001b[0m \u001b[32m24.6/24.6 MB\u001b[0m \u001b[31m84.9 MB/s\u001b[0m eta \u001b[36m0:00:00\u001b[0m\n",
            "\u001b[2K   \u001b[90m━━━━━━━━━━━━━━━━━━━━━━━━━━━━━━━━━━━━━━━━\u001b[0m \u001b[32m883.7/883.7 kB\u001b[0m \u001b[31m44.2 MB/s\u001b[0m eta \u001b[36m0:00:00\u001b[0m\n",
            "\u001b[2K   \u001b[90m━━━━━━━━━━━━━━━━━━━━━━━━━━━━━━━━━━━━━━━━\u001b[0m \u001b[32m664.8/664.8 MB\u001b[0m \u001b[31m2.9 MB/s\u001b[0m eta \u001b[36m0:00:00\u001b[0m\n",
            "\u001b[2K   \u001b[90m━━━━━━━━━━━━━━━━━━━━━━━━━━━━━━━━━━━━━━━━\u001b[0m \u001b[32m211.5/211.5 MB\u001b[0m \u001b[31m5.5 MB/s\u001b[0m eta \u001b[36m0:00:00\u001b[0m\n",
            "\u001b[2K   \u001b[90m━━━━━━━━━━━━━━━━━━━━━━━━━━━━━━━━━━━━━━━━\u001b[0m \u001b[32m56.3/56.3 MB\u001b[0m \u001b[31m15.5 MB/s\u001b[0m eta \u001b[36m0:00:00\u001b[0m\n",
            "\u001b[2K   \u001b[90m━━━━━━━━━━━━━━━━━━━━━━━━━━━━━━━━━━━━━━━━\u001b[0m \u001b[32m127.9/127.9 MB\u001b[0m \u001b[31m7.6 MB/s\u001b[0m eta \u001b[36m0:00:00\u001b[0m\n",
            "\u001b[2K   \u001b[90m━━━━━━━━━━━━━━━━━━━━━━━━━━━━━━━━━━━━━━━━\u001b[0m \u001b[32m207.5/207.5 MB\u001b[0m \u001b[31m5.6 MB/s\u001b[0m eta \u001b[36m0:00:00\u001b[0m\n",
            "\u001b[2K   \u001b[90m━━━━━━━━━━━━━━━━━━━━━━━━━━━━━━━━━━━━━━━━\u001b[0m \u001b[32m188.7/188.7 MB\u001b[0m \u001b[31m6.0 MB/s\u001b[0m eta \u001b[36m0:00:00\u001b[0m\n",
            "\u001b[2K   \u001b[90m━━━━━━━━━━━━━━━━━━━━━━━━━━━━━━━━━━━━━━━━\u001b[0m \u001b[32m21.1/21.1 MB\u001b[0m \u001b[31m56.6 MB/s\u001b[0m eta \u001b[36m0:00:00\u001b[0m\n",
            "\u001b[2K   \u001b[90m━━━━━━━━━━━━━━━━━━━━━━━━━━━━━━━━━━━━━━━━\u001b[0m \u001b[32m590.6/590.6 kB\u001b[0m \u001b[31m32.7 MB/s\u001b[0m eta \u001b[36m0:00:00\u001b[0m\n",
            "\u001b[2K   \u001b[90m━━━━━━━━━━━━━━━━━━━━━━━━━━━━━━━━━━━━━━━━\u001b[0m \u001b[32m167.6/167.6 kB\u001b[0m \u001b[31m12.2 MB/s\u001b[0m eta \u001b[36m0:00:00\u001b[0m\n",
            "\u001b[2K   \u001b[90m━━━━━━━━━━━━━━━━━━━━━━━━━━━━━━━━━━━━━━━━\u001b[0m \u001b[32m3.1/3.1 MB\u001b[0m \u001b[31m85.0 MB/s\u001b[0m eta \u001b[36m0:00:00\u001b[0m\n",
            "\u001b[2K   \u001b[90m━━━━━━━━━━━━━━━━━━━━━━━━━━━━━━━━━━━━━━━━\u001b[0m \u001b[32m207.8/207.8 kB\u001b[0m \u001b[31m15.9 MB/s\u001b[0m eta \u001b[36m0:00:00\u001b[0m\n",
            "\u001b[2K   \u001b[90m━━━━━━━━━━━━━━━━━━━━━━━━━━━━━━━━━━━━━━━━\u001b[0m \u001b[32m459.8/459.8 kB\u001b[0m \u001b[31m26.6 MB/s\u001b[0m eta \u001b[36m0:00:00\u001b[0m\n",
            "\u001b[2K   \u001b[90m━━━━━━━━━━━━━━━━━━━━━━━━━━━━━━━━━━━━━━━━\u001b[0m \u001b[32m50.9/50.9 kB\u001b[0m \u001b[31m3.8 MB/s\u001b[0m eta \u001b[36m0:00:00\u001b[0m\n",
            "\u001b[2K   \u001b[90m━━━━━━━━━━━━━━━━━━━━━━━━━━━━━━━━━━━━━━━━\u001b[0m \u001b[32m310.5/310.5 kB\u001b[0m \u001b[31m22.3 MB/s\u001b[0m eta \u001b[36m0:00:00\u001b[0m\n",
            "\u001b[2K   \u001b[90m━━━━━━━━━━━━━━━━━━━━━━━━━━━━━━━━━━━━━━━━\u001b[0m \u001b[32m4.0/4.0 MB\u001b[0m \u001b[31m67.7 MB/s\u001b[0m eta \u001b[36m0:00:00\u001b[0m\n",
            "\u001b[2K   \u001b[90m━━━━━━━━━━━━━━━━━━━━━━━━━━━━━━━━━━━━━━━━\u001b[0m \u001b[32m453.1/453.1 kB\u001b[0m \u001b[31m32.2 MB/s\u001b[0m eta \u001b[36m0:00:00\u001b[0m\n",
            "\u001b[2K   \u001b[90m━━━━━━━━━━━━━━━━━━━━━━━━━━━━━━━━━━━━━━━━\u001b[0m \u001b[32m46.0/46.0 kB\u001b[0m \u001b[31m3.7 MB/s\u001b[0m eta \u001b[36m0:00:00\u001b[0m\n",
            "\u001b[2K   \u001b[90m━━━━━━━━━━━━━━━━━━━━━━━━━━━━━━━━━━━━━━━━\u001b[0m \u001b[32m114.6/114.6 kB\u001b[0m \u001b[31m9.0 MB/s\u001b[0m eta \u001b[36m0:00:00\u001b[0m\n",
            "\u001b[2K   \u001b[90m━━━━━━━━━━━━━━━━━━━━━━━━━━━━━━━━━━━━━━━━\u001b[0m \u001b[32m86.8/86.8 kB\u001b[0m \u001b[31m6.3 MB/s\u001b[0m eta \u001b[36m0:00:00\u001b[0m\n",
            "\u001b[?25h  Building wheel for pypika (pyproject.toml) ... \u001b[?25l\u001b[?25hdone\n",
            "  Building wheel for langdetect (setup.py) ... \u001b[?25l\u001b[?25hdone\n"
          ]
        }
      ],
      "source": [
        "# === 1. Install dependensi yang diperlukan ===\n",
        "!pip install -q langchain langchain-community langchain-huggingface chromadb sentence-transformers unstructured beautifulsoup4 google-generativeai\n"
      ]
    },
    {
      "cell_type": "code",
      "execution_count": null,
      "metadata": {
        "id": "WJcDT02M05T6"
      },
      "outputs": [],
      "source": [
        "data = \"/content/drive/MyDrive/RisetQA/dataset_qa.json\""
      ]
    },
    {
      "cell_type": "code",
      "execution_count": null,
      "metadata": {
        "id": "Y0j6AKMT3LF7"
      },
      "outputs": [],
      "source": [
        "from langchain.schema import Document\n",
        "import json\n",
        "\n",
        "# Misal dataset kamu disimpan di file: bpjs_qa.json\n",
        "with open(data, \"r\", encoding=\"utf-8\") as f:\n",
        "    data = json.load(f)\n",
        "\n",
        "# Konversi ke list Document\n",
        "documents = []\n",
        "for item in data:\n",
        "    doc = Document(\n",
        "        page_content=f\"Pertanyaan: {item['question']}\\nJawaban: {item['answer']}\",\n",
        "        metadata={\"source\": \"bpjs_qa_dataset\"}\n",
        "    )\n",
        "    documents.append(doc)"
      ]
    },
    {
      "cell_type": "code",
      "execution_count": null,
      "metadata": {
        "colab": {
          "base_uri": "https://localhost:8080/"
        },
        "id": "SEnbY9B63OBd",
        "outputId": "5d5a07e1-8d9f-4ca5-c346-3ec336401914"
      },
      "outputs": [
        {
          "data": {
            "text/plain": [
              "[Document(metadata={'source': 'bpjs_qa_dataset'}, page_content='Pertanyaan: Bagaimana kebijakan pengenaan  denda  akibat keterlambatan pembayaran iuran Jaminan Kesehatan   ?\\nJawaban: 1 . Bahwa apabila dalam waktu 45 (empat puluh lima) hari sejak status kepesertaan aktif kembali, Peserta wajib membayar denda kepada BPJS Kesehatan untuk satu kali rawat inap tingkat lanjutan yang diperolehnya.\\n2. Denda tersebut dikenakan atas pelayanan kesehatan yang tagihan dendanya pertama kali dicetak.\\n3. Denda sebesar 5% (lima persen) dari perkiraan biaya paket Indonestan Case Based  Groups berdasarkan diagnosa dan prosedur awal untuk setiap bulan tertunggak dengan ketentuan:\\n    a. Jumlah bulan tertunggak paling banyak 12 (dua belas) bulan; dan\\n    b. Besar denda paling tinggi Rp20.000.000,00 (dua puluh juta rupiah).'),\n",
              " Document(metadata={'source': 'bpjs_qa_dataset'}, page_content='Pertanyaan: Dokumen Pendukung yang Dibutuhkan Dalam Mengajukan Penjaminan 6 Bulan Bagi Pekerja yang terkena PHK\\nJawaban: 1.     Dokumen data Peserta dan anggota keluarga PHK berupa nama, NIK, tanggal lahir, nomor identitas Peserta JKN, Alamat, No HP & Email\\n2.     Dokumen pembuktian PHK, meliputi:\\na.\\tbukti diterimanya Pemutusan Hubungan Kerja oleh Pekerja dan tanda terima laporan Pemutusan Hubungan Kerja dari dinas daerah kabupaten/kota yang menyelenggarakan urusan pemerintahan di bidang ketenagakerjaan; \\nb.\\tperjanjian bersama dan tanda terima laporan Pemutusan Hubungan Kerja dari dinas daerah kabupaten/kota yang menyelenggarakan urusan pemerintahan di bidang ketenagakerjaan atau akta bukti pendaftaran perjanjian bersama; atau \\nc.\\tpetikan atau putusan pengadilan hubungan industrial'),\n",
              " Document(metadata={'source': 'bpjs_qa_dataset'}, page_content='Pertanyaan: Bagaimana Ketentuan Mengenai Penjaminan 6 Bulan Bagi Pekerja yang terkena PHK\\nJawaban: a.\\tPeserta PPU yang mengalami PHK dan membutuhkan pelayanan rawat inap diberikan manfaat pelayanan kelas rawat inap standar atau di ruang perawatan kelas 3 untuk rumah sakit yang belum menerapkan KRIS.\\nb.\\tPeserta tidak dapat meningkatkan perawatan yang lebih tinggi dari haknya termasuk rawat jalan.\\nc.\\tJika perselisihan PHK masih dalam proses penyelesaian, Pemberi Kerja dan Pekerja tetap melaksanakan kewajiban iuran sampai dengan adanya putusan PHK yang inkracht.\\nd.\\tManfaat penjaminan diberikan setelah kelengkapan dokumen dipenuhi, dan TMT Penjaminan diberikan tanggal 1 (satu) bulan berikutnya.\\ne.   Peserta PPU yang mengalami PHK yang telah bekerja kembali wajib memperpanjang atau melanjutkan status kepesertaanya dengan didaftarkan oleh Pemberi Kerja atau dengan mendaftarkan diri sendiri.\\nf. Dalam hal Peserta PPU yang mengalami PHK tidak bekerja kembali dan tidak mampu, Peserta melaporkan dirinya dan anggota keluarganya ke dinas sosial untuk didaftarkan sebagai Peserta PBI Jaminan Kesehatan.\\ng.  Peserta PHK wajib melaporkan pengaktifan kembali status kepesertaan sebagai Peserta PHK melalui Kantor Cabang setiap bulan sampai dengan Peserta kembali bekerja atau paling lama 6 bulan sejak terjadinya PHK.'),\n",
              " Document(metadata={'source': 'bpjs_qa_dataset'}, page_content='Pertanyaan: Mekanisme Pelaporan Pekerja Terkena PHK\\nJawaban: a.\\tBukti PHK sesuai ketentuan, disampaikan oleh pemberi kerja dan/atau pekerja kepada BPJS Kesehatan.\\nb.\\tPelaporan pertama kali dilakukan paling lambat tgl 20 setiap bulan berjalan\\nc.\\tBPJS Kesehatan memberikan persetujuan tertulis atas pelaporan PHK untuk kemudian diberikan manfaat penjaminan tanpa bayar iuran paling lama 6 bulan'),\n",
              " Document(metadata={'source': 'bpjs_qa_dataset'}, page_content='Pertanyaan: Bukti Pekerja terkena PHK yang mendapat Jaminan 6 Bulan tanpa membayar iuran?\\nJawaban: 1. dibuktikan dengan:\\na.\\tbukti diterimanya Pemutusan Hubungan Kerja oleh Pekerja dan tanda terima laporan Pemutusan Hubungan Kerja dari dinas daerah kabupaten/kota yang menyelenggarakan urusan pemerintahan di bidang ketenagakerjaan; \\nb.\\tperjanjian bersama dan tanda terima laporan Pemutusan Hubungan Kerja dari dinas daerah kabupaten/kota yang menyelenggarakan urusan pemerintahan di bidang ketenagakerjaan atau akta bukti pendaftaran perjanjian bersama; atau \\nc.\\tpetikan atau putusan pengadilan hubungan industrial. \\n2.  Bukti PHK di atas, selanjutnya disampaikan oleh pemberi kerja dan/atau pekerja kepada BPJS Kesehatan.'),\n",
              " Document(metadata={'source': 'bpjs_qa_dataset'}, page_content='Pertanyaan: cara Melakukan Perubahan Fasilitas Kesehatan Tingkat Pertama (FKTP)\\nJawaban: 1.\\tPerubahan FKTP dapat dilakukan paling cepat 3 (tiga) bulan sejak peserta terdaftar di FKTP  sebelumnya,  dan mulai berlaku pada tanggal 1 (satu) pada bulan berikutnya. Jika perubahan FKTP dilakukan pada bulan berjalan maka peserta tetap dilayani di FKTP  sebelumnya. Adapun persyaratan sebagai berikut:\\na)  Kartu JKN-KIS seluruh peserta yang akan berubah FKTP.\\nb)  Kartu Keluarga.\\n2.\\tPenggantian FKTP dapat dilakukan dalam jangka waktu kurang dari 3 bulan bagi Peserta yang memenuhi kriteria:\\na.\\tPeserta pindah domisili yang dibuktikan dengan surat keterangan domisili.\\nb.\\tPeserta dalam penugasan dinas atau pelatihan yang dibuktikan dengan surat keterangan penugasan atau pelatihan. \\nc.\\tPeserta yang didaftarkan oleh pihak lain atas nama Peserta.\\n3.\\tBPJS Kesehatan dapat melakukan pemindahan peserta ke FKTP lain setelah mendapatkan persetujuan dari Peserta yang bertujuan untuk pemerataan, peningakan akses, dan peningkatan mutu layanan kesehatan. \\n4.\\tUntuk pemindahan peserta dari unsur Prajurit atau Anggota POLRI, BPJS Kesehatan wajib berkoordinasi dengan TNI dan POLRI.\\n5.\\tKarena proses redistribusi (pemindahan Peserta yang belum merata) dan ingin kembali terdaftar di FKTP sebelumnya. Adapun persyaratan sebagai berikut:\\n•  Kartu JKN seluruh peserta yang akan berubah FKTP.\\n•  Kartu Keluarga\\n•  Surat keterangan domisili/surat pindah tugas/surat keterangan kuliah.'),\n",
              " Document(metadata={'source': 'bpjs_qa_dataset'}, page_content='Pertanyaan: Bagaimana menentukan Fasiltas Kesehatan Tingkat Pertama (FKTP)  bagi  Peserta pertama kali ?\\nJawaban: 1. Peserta berhak menentukan FKTP yang diinginkan saat mendaftar pada BPJS  Kesehatan.\\n2. Dalam hal Peserta didaftarkan oleh pihak lain atas nama peserta, maka penentuan FKTP untuk pertama kali dapat dilakukan oleh pihak lain atas \\nnama peserta.\\n3. Bagi Peserta PBI, penentuan FKTP untuk pertama kali dapat dilakukan oleh BPJS Kesehatan sesuai domisili Peserta terdaftar.\\n4. Penentuan FKTP untuk pertama kali oleh BPJS Kesehatan sebagaimana dimaksud pada ayat (2) harus diinformasikan kepada Peserta.'),\n",
              " Document(metadata={'source': 'bpjs_qa_dataset'}, page_content='Pertanyaan: Bagaimana keikutsertaan Penduduk Indonesia dalam Program JKN ?\\nJawaban: Setiap penduduk Indonesia wajib ikut serta dalam Program Jaminan Kesehatan dengan cara mendaftar atau didaftarkan pada BPJS Kesehatan, sebagai Peserta.'),\n",
              " Document(metadata={'source': 'bpjs_qa_dataset'}, page_content='Pertanyaan: Siapa yang menanggung denda layanan bagi peserta PPU ?\\nJawaban: Bagi Peserta PPU, pembayaran denda layanan ditanggung oleh Pemberi Kerja.'),\n",
              " Document(metadata={'source': 'bpjs_qa_dataset'}, page_content='Pertanyaan: Apakah Jam operasional layanan peserta di Kantor Cabang BPJS Kesehatan berbeda selama bulan Ramadan 1445H?\\nJawaban: Jam operasional layanan peserta di Kantor Cabang selama bulan Ramadan dilaksanakan pada pukul 08.00-13.30 waktu setempat.'),\n",
              " Document(metadata={'source': 'bpjs_qa_dataset'}, page_content='Pertanyaan: Bagaimana cara mengaktifkan kartu anak Pekerja Penerima Upah (PPU) yang masih kuliah\\nJawaban: Untuk anak 21 tahun yang masih kuliah/belum menikah/belum bekerja dapat dilakukan perpanjangan masa berlaku kepesertaan sampai dengan usia anak 25 Tahun melalui HRD/PIC perusahaan/satuan kerja atau melalui Kanal Pandawa dengan chat ke Nomor Whatsapp 08118165165 atau ke Kantor BPJS Kesehatan terdekat dengan melampirkan:\\n1.  Surat keterangan resmi yang dikeluarkan oleh Sekolah/Perguruan Tinggi/Lembaga Pendidikan Formal yang masa pendidikannya minimal 1 (satu) tahun; atau \\n2. Bukti pembayaran uang pendidikan yang masih berlaku sampai dengan bulan pengaktifan'),\n",
              " Document(metadata={'source': 'bpjs_qa_dataset'}, page_content='Pertanyaan: Bagaimana Jika Kartu Peserta Hilang\\nJawaban: Jika kartu peserta hilang maka dapat melakukan pencetakan kartu menggunakan aplikasi Mobile JKN pada menu \"kartu peserta\" atau menggunakan nomor NIK (Kartu Tanda Penduduk/Kartu Identitas Anak/Kartu Keluarga) jika membutuhkan pelayanan kesehatan di Fasilitas Kesehatan tingkat pertama atau Rumah Sakit'),\n",
              " Document(metadata={'source': 'bpjs_qa_dataset'}, page_content='Pertanyaan: Syarat dan Cara Daftar Bayi Baru Lahir?\\nJawaban: 1. Nomor JKN dan NIK Ibu Kandung\\n2. Asli/Fotocopy Surat keterangan lahir dari Dokter atau Bidan Puskesmas/Klinik/Rumah Sakit.\\n3. Jika peserta belum melakukan autodebet tabungan dilengkapi dengan:\\n     a)Fotocopy buku rekening tabungan BNI/ BRI, Mandiri, BNI, BTN, BCA, Bank Jateng dan Bank Panin, dapat menggunakan rekening tabungan Kepala Keluarga/Anggota Keluarga dalam Kartu Keluarga/Penanggung\\n     b)Formulir autodebet pembayaran iuran BPJS Kesehatan bermaterai Rp 10.000,00 (sepuluh ribu rupiah).\\n5. Melakukan perubahan data bayi selambat- lambatnya 3 (tiga) bulan setelah kelahiran yang meliputi nama, tanggal lahir, jenis kelamin, dan NIK.\\n6. Pendaftaran dilakukan melalui Rumah Sakit,  fasilitas kesehatan tingkat pertama, BPJS Keliling, Mall Pelayanan Publik dan Kantor Cabang dan Kantor Kabupaten/Kota'),\n",
              " Document(metadata={'source': 'bpjs_qa_dataset'}, page_content='Pertanyaan: Bagaimana Jika Peserta Menginginkan Kenaikan Kelas Perawatan atau pelayanan rawat jalan eksekutif\\nJawaban: Peserta yang menginginkan pelayanan rawat jalan eksekutif atau rawat inap yang lebih tinggi dari haknya harus membayar selisih biaya setiap episode rawat jalan eksekutif atau rawat inap dengan ketentuan: \\nI. Rawat jalan eksekutif  : paling banyak sebesar Rp. 400.000,00 (empat ratus ribu rupiah)\\nII. Hak rawat kelas 2 naik ke kelas 1 : Selisih tarif INA-CBG pada kelas rawat inap Kelas 1 dengan tarif INA-CBG pada kelas rawat inap kelas 2\\nIII. Hak rawat kelas 1 naik ke kelas di atas kelas 1  :  Selisih tarif INA-CBG kelas 1 dengan tarif kelas di atas kelas 1 yaitu paling banyak sebesar 75% (tujuh puluh lima persen) dari tarif INACBG kelas 1\\nIV. Hak rawat kelas 2 naik ke kelas di atas kelas 1 :   Selisih tarif INA-CBG antara kelas 1 dengan kelas 2 ditambah  paling banyak sebesar 75% (tujuh puluh lima persen) dari tarif INACBG kelas 1\\n\\nketentuan kenaikan kelas perawatan atau pelayanan rawat jalan eksekutif diatas tidak berlaku untuk :\\na. Peserta Penerima Bantuan Iuran Jaminan Kesehatan (PBI JK);\\nb.  Peserta Pekerja Bukan Penerima Upah (PBPU) kelas 3;\\nc. Peserta Bukan Pekerja kelas 3;\\nd. Peserta yang didaftarkan oleh Pemerintah Daerah; atau \\ne. Peserta Pekerja Penerima Upah yang mengalami PHK dan anggota keluarganya.'),\n",
              " Document(metadata={'source': 'bpjs_qa_dataset'}, page_content='Pertanyaan: Ketentuan Penjaminan Kaca Mata?\\nJawaban: 1.Pemeriksaan Refraksi mata diberikan atas rekomendasi dari dokter di FKTP yang dapat dibantu oleh refraksionis, atau dirujuk  ke spesialis Mata di FKRTL apabila memenuhi kriteria Rujukan dan atau TACC\\n2. Pelayanan alat bantu kaca mata pada Optik yang bekerjasama dengan BPJS Kesehatan\\n3. Ketentuan penjaminan kacamata yang dijamin oleh BPJS Kesehatan diberikan maksimal 1 kali dalam 2 (dua) tahun dengan ukuran sebagai berikut:\\n     - Untuk lensa spheris, minimal 0.5 Dioptri\\n     - Untuk lensa silindris minimal 0.25 Dioptri\\n4. Penjaminan kacamata tidak dapat diberikan jika:\\n     - tidak memenuhi indikasi medis atau sebelum 2 (dua) tahun sejak tanggal legalisasi kacamata;\\n     - pada kasus penggantian bingkai kacamata saja;\\n     - pada kasus ADD (Additional Value) saja, yaitu untuk mengoreksi presbiopia (rabun tua) atau untuk kebutuhan baca\\n5. Apabila sebelum 2 tahun diperlukan penggantian kacamata oleh sebab apapun (perubahan ukuran, hilang, rusak dan sebab lain) maka BPJS Kesehatan tidak menjamin\\n6. Besaran maksimal bantuan alat kesehatan kaca mata adalah sebagai berikut:\\n     - PBI/Hak rawat kelas 3: Rp 165.000,00\\n     - Hak rawat kelas 2: Rp 220.000,00\\n     - Hak rawat kelas 1: Rp 330.000,00'),\n",
              " Document(metadata={'source': 'bpjs_qa_dataset'}, page_content='Pertanyaan: Apa syarat pendaftaran Rumah Ibadah Asosiasi / organisasi\\nJawaban: Syarat Pendaftaran antara lain :\\nAkta Pendirian tanpa NPWP'),\n",
              " Document(metadata={'source': 'bpjs_qa_dataset'}, page_content='Pertanyaan: Apa syarat pendaftaran LSM Asing\\nJawaban: Syarat Pendaftaran antara lain :\\nMOU/PKS dengan Pemerintah dan NPWP Badan'),\n",
              " Document(metadata={'source': 'bpjs_qa_dataset'}, page_content='Pertanyaan: Apa syarat pendaftaran LSM\\nJawaban: Syarat Pendaftaran antara lain :\\nAkta Yayasan dan NPWP Badan'),\n",
              " Document(metadata={'source': 'bpjs_qa_dataset'}, page_content='Pertanyaan: Apa syarat pendaftaran Yayasan\\nJawaban: Syarat Pendaftaran antara lain :\\nAkta yayasan dan NPWP Badan'),\n",
              " Document(metadata={'source': 'bpjs_qa_dataset'}, page_content='Pertanyaan: Apa syarat pendaftaran Perusahaan Asing\\nJawaban: Syarat Pendaftaran antara lain :\\nNIB/MOU/PKS dengan Pemerintah dan NPWP Badan'),\n",
              " Document(metadata={'source': 'bpjs_qa_dataset'}, page_content='Pertanyaan: Apa syarat pendaftaran Usaha Mikro Kecil\\nJawaban: Syarat Pendaftaran antara lain :\\nNIB/Surat Izin Usaha Mikro Kecil/Surat Izin lainnya sesuai kebijakan Pemerintah Setempat dan NPWP Badan / Perorangan'),\n",
              " Document(metadata={'source': 'bpjs_qa_dataset'}, page_content='Pertanyaan: Apa syarat pendaftaran CV\\nJawaban: Syarat Pendaftaran antara lain :\\nNIB/Surat Izin dan NPWP Badan / Perorangan'),\n",
              " Document(metadata={'source': 'bpjs_qa_dataset'}, page_content='Pertanyaan: Apa syarat pendaftaran Firma\\nJawaban: Syarat Pendaftaran antara lain :\\nNIB/Surat Izin dan NPWP Badan/Perorangan'),\n",
              " Document(metadata={'source': 'bpjs_qa_dataset'}, page_content='Pertanyaan: Apa syarat pendaftaran PT / Perseroan Terbatas\\nJawaban: Syarat Pendaftaran antara lain :\\nNIB/Surat Izin Usaha/Tanda Daftar Perusahaan dan NPWP Badan\"'),\n",
              " Document(metadata={'source': 'bpjs_qa_dataset'}, page_content='Pertanyaan: Apa syarat pendaftaran Veteran\\nJawaban: \"Pendaftaran dapat dilakukan secara perorangan maupun kolektif dengan cara mengisi Formulir Daftar Isian Peserta (FDIP) beserta persyaratannya, yaitu\\n1. Asli KTP\\n2. Fotocopi KK\\n3. Asli/Fotokopi surat tanda bukti penerima pensiun atau KARIP\\n4. Asli/fotokopi piagam petikan SK Pengesahan Gelar Kehormatan Veteran\\n5. Asli/Fotokopi Surat keputusan Janda/Duda/Anak Yatim/Anak Piatu dan atau Anak Yatim Piatu\\n6. Surat Keterangan dari Sekolah/Perguruan tinggi (bagi anak berusia lebih dari 21 (dua puluh satu) tahun sampai dengan 25 (dua puluh lima) tahun.\"'),\n",
              " Document(metadata={'source': 'bpjs_qa_dataset'}, page_content='Pertanyaan: Apa syarat pendaftaran Perintis Kemerdekaan\\nJawaban: \"Pendaftaran dapat dilakukan secara perorangan maupun kolektif dengan cara mengisi Formulir Daftar Isian Peserta (FDIP) beserta persyaratannya, yaitu\\n1. Asli KTP\\n2. Fotocopi KK\\n3. Asli/Fotokopi surat tanda bukti penerima pensiun atau KARIP\\n4. Asli/fotokopi piagam petikan SK Pengesahan Gelar Kehormatan Veteran\\n5. Asli/Fotokopi Surat keputusan Janda/Duda/Anak Yatim/Anak Piatu dan atau Anak Yatim Piatu\\n6. Surat Keterangan dari Sekolah/Perguruan tinggi (bagi anak berusia lebih dari 21 (dua puluh satu) tahun sampai dengan 25 (dua puluh lima) tahun.\"'),\n",
              " Document(metadata={'source': 'bpjs_qa_dataset'}, page_content='Pertanyaan: Apa syarat pendaftaran Peserta Pensiun Polri\\nJawaban: \"Pendaftaran dapat dilakukan secara perorangan maupun kolektif dengan cara mengisi Formulir Daftar Isian Peserta (FDIP) beserta persyaratannya, yaitu\\n1. Asli KTP\\n2. Fotocopi KK\\n3. Asli/Fotokopi surat tanda bukti penerima pensiun atau KARIP\\n4. Asli/fotokopi surat tanda bukti penerima pensiun atau Kartu Tanda Peserta ASABRI\\n5. Asli/Fotokopi Surat keputusan Janda/Duda/Anak Yatim/Anak Piatu dan atau Anak Yatim Piatu\\n6. Surat Keterangan dari Sekolah/Perguruan tinggi (bagi anak berusia lebih dari 21 (dua puluh satu) tahun sampai dengan 25 (dua puluh lima) tahun.\"'),\n",
              " Document(metadata={'source': 'bpjs_qa_dataset'}, page_content='Pertanyaan: Apa syarat pendaftaran Peserta Pensiun TNI\\nJawaban: \"Pendaftaran dapat dilakukan secara perorangan maupun kolektif dengan cara mengisi Formulir Daftar Isian Peserta (FDIP) beserta persyaratannya, yaitu\\n1. Asli KTP\\n2. Fotocopi KK\\n3. Asli/Fotokopi surat tanda bukti penerima pensiun atau KARIP\\n4. Asli/fotokopi surat tanda bukti penerima pensiun atau Kartu Tanda Peserta ASABRI\\n5. Asli/Fotokopi Surat keputusan Janda/Duda/Anak Yatim/Anak Piatu dan atau Anak Yatim Piatu\\n6. Surat Keterangan dari Sekolah/Perguruan tinggi (bagi anak berusia lebih dari 21 (dua puluh satu) tahun sampai dengan 25 (dua puluh lima) tahun.\"'),\n",
              " Document(metadata={'source': 'bpjs_qa_dataset'}, page_content='Pertanyaan: Apa syarat pendaftaran Peserta Pensiun PNS Pusat/Daerah\\nJawaban: Pendaftaran dapat dilakukan secara perorangan maupun kolektif dengan cara mengisi Formulir Daftar Isian Peserta (FDIP) beserta persyaratannya, yaitu\\n1. Asli KTP\\n2. Fotocopi KK\\n3. Asli/Fotokopi surat tanda bukti penerima pensiun atau KARIP\\n4. Asli/fotokopi surat tanda bukti penerima pensiun atau Kartu Tanda Peserta ASABRI\\n5. Asli/Fotokopi Surat keputusan Janda/Duda/Anak Yatim/Anak Piatu dan atau Anak Yatim Piatu\\n6. Surat Keterangan dari Sekolah/Perguruan tinggi (bagi anak berusia lebih dari 21 (dua puluh satu) tahun sampai dengan 25 (dua puluh lima) tahun'),\n",
              " Document(metadata={'source': 'bpjs_qa_dataset'}, page_content='Pertanyaan: Apa syarat pendaftaran Peserta Pensiun Pejabat Negara\\nJawaban: Pendaftaran dapat dilakukan secara perorangan maupun kolektif dengan cara mengisi Formulir Daftar Isian Peserta (FDIP) beserta persyaratannya, yaitu\\n1. Asli KTP\\n2. Fotocopi KK\\n3. Asli/Fotokopi surat tanda bukti penerima pensiun atau KARIP\\n4. Asli/fotokopi surat tanda bukti penerima pensiun atau Kartu Tanda Peserta ASABRI\\n5. Asli/Fotokopi Surat keputusan Janda/Duda/Anak Yatim/Anak Piatu dan atau Anak Yatim Piatu\\n6. Surat Keterangan dari Sekolah/Perguruan tinggi (bagi anak berusia lebih dari 21 (dua puluh satu) tahun sampai dengan 25 (dua puluh lima) tahun'),\n",
              " Document(metadata={'source': 'bpjs_qa_dataset'}, page_content='Pertanyaan: Bagaimana cara Pendaftaran- peserta  TNI/POLRI\\nJawaban: Peserta bisa mengajukan pendaftaran baru melalui chat pandawa dengan melampirkan syarat, yaitu\\n1. Asli KTP dan KK\\n2. SK Pengangkatan prajurit\\n3. Slip Daftar Gaji'),\n",
              " Document(metadata={'source': 'bpjs_qa_dataset'}, page_content='Pertanyaan: Bagaimana cara pendaftaran pendaftara PPNPN\\nJawaban: Pendaftaran bisa dikonfirmasikan ke Satuan Kerja Pemda masing-masing\\n1. PIC Satuan Kerja menyampaikan formulir registrasi entitas Satuan Kerja yang disahkan oleh Pejabat yang berwenang dan dokumen pendukung\\n2. Pendaftaran secara kolektif dilakukan dengan pengisian Formulir Pendaftaran/ Pengisian Excel Format Migrasi\\n3. Melampirkan bukti setor iuran jaminan kesehatan dengan daftar rincian pekerja dan anggota keluarganya\\n4. Pendaftaran anak berusia lebih dari 21 tahun s.d 25 tahun dilengkapi dengan surat keterangan sekolah/kuliah'),\n",
              " Document(metadata={'source': 'bpjs_qa_dataset'}, page_content='Pertanyaan: Bagaimana cara Pendaftaran PPU PN (PNS)\\nJawaban: Peserta bisa mengajukan pendaftaran baru melalui chat pandawa dengan melampirkan syarat, yaitu\\n1. Asli KTP dan KK\\n2. SK PNS\\n3. Slip Daftar Gaji atau Pembuatan/Pencetakan Daftar Gaji (NCR)'),\n",
              " Document(metadata={'source': 'bpjs_qa_dataset'}, page_content='Pertanyaan: Bagaimana cara mendaftarkan peserta PPU melalui E Dabu\\nJawaban: 1) Langkah 1 – pencarian calon peserta\\na. Pilih menu peserta >> input data\\nb. Pilih kategori pencarian berdasarkan NIK\\nc. Input NIK pada text field ‘masukkan NIK’\\nd. Tekan tombol selanjutnya\\n2) Langkah 2 – pemilihan mutase tambah\\na. Pastikan nama calon peserta dan nik benar\\nb. Pastikan No JKN KIS bernilai null dan kolom Terdaftar di bernilai belum terdaftar\\nc. Pilih mutase Tambahkan Sebagai Pekerja\\nd. Tekan tombol panah biru\\n3) Langkah 3 – Review dan lengkapi data pribadi calon peserta\\nLakukan r'),\n",
              " Document(metadata={'source': 'bpjs_qa_dataset'}, page_content='Pertanyaan: Apa syarat pendaftaran bagi peserta yang tidak didaftarkan oleh BU\\nJawaban: Dokumen Pendaftaran Pekerja yang mendaftarkan diri sebagai PPU; Pemberi Kerja secara nyata tidak mendaftarkan Pekerjanya\\n1. Bukti penerimaan gaji/upah bulan terakhir\\n2. Identitas yang membuktikan sebagai Pekerja yang diterbitkan oleh Pemberi Kerja\\n3. Surat pernyataan status aktif sebagai Pekerja dari Pemberi Kerja\\n4. Perjanjian Kerja\\n*Dokumen nomor 1 wajib dipenuhi dan dilampirkan oleh pekerja\\n*Dokumen nomor 2, 3 dan 4 wajib dipenuhi salah satu dan dilampirkan.'),\n",
              " Document(metadata={'source': 'bpjs_qa_dataset'}, page_content='Pertanyaan: Bagaimana jika saya sudah bekerja namun tidak didaftarkan oleh BU\\nJawaban: Berdasarkan Perpres 82 tahun 2018, setiap Pemberi Kerja wajib mendaftarkan seluruh pekerja dan anggota keluarga. Apabila Ibu/Bapak belum didaftarkan oleh Badan Usaha maka Bapak/Ibu dapat menkonfirmasi ke Kantor BPJS Kesehatan terdekat'),\n",
              " Document(metadata={'source': 'bpjs_qa_dataset'}, page_content='Pertanyaan: Apa syarat Pendaftaran Peserta PBPU\\nJawaban: Syarat pendaftaran apabila pendaftaran dilakukan secara perorangan yaitu dengan menunjukkan:\\na. Kartu Keluarga\\nb. Buku tabungan Bank yang melayani autodebit BRI, Mandiri, BNI, BTN, BCA, Bank Jateng dan Bank Panin (dapat menggunakan rekening tabungan Kepala Keluarga/ anggota keluarga dalam Kartu Keluarga/ penanggung).\\n*Jika rekening peserta terdaftar tanpa buku tabungan (program dari Bank) maka tidak bisa didaftarkan melalui KC/CC, silahkan buat rekening baru dengan buu tabungan atau bisa dilanjutkan pedaftaran melalui Mobile JKN (dilihat dari nomor rekening)\\nc. Formulir surat kuasa autodebit pembayaran iuran BPJS Kesehatan bermaterai Rp10.000,00 (Sepuluh Ribu Rupiah) yang ditanda tangani pemilik rekening yang bersangkutan. Surat kuasa wajib ditanda tangani oleh pemilik rekening walaupun calon peserta yang mendaftar bukan pemilik rekening.\\nCalon peserta dapat melakukan pembayaran iuran pertama dalam waktu paling cepat 14 (empat belas) hari atau paling lambat 30 (tiga puluh) hari setelah pendaftaran'),\n",
              " Document(metadata={'source': 'bpjs_qa_dataset'}, page_content='Pertanyaan: Pelayanan Kesehatan yang dijamin BPJS Kesehatan yaitu\\nJawaban: 1. Pelayanan Kesehatan tingkat pertama \\n2. Pelayanan Kesehatan rujukan tingkat lanjut\\n3. Pelayanan Ambulan darat atau air'),\n",
              " Document(metadata={'source': 'bpjs_qa_dataset'}, page_content='Pertanyaan: Pelayanan Kesehatan tingkat pertama yang dijamin BPJS Kesehatan yaitu\\nJawaban: 1. Administrasi Pelayanan\\n2. Pelayanan Promotif dan preventif\\n3. Pemeriksaaan, pengobatan dan konsultasi medis\\n4. Tindakan medis nonspesialistik\\n5. Pelayanan obat, alat kesehatan dan bahas medis habis pakai\\n6. Pemeriksaan penunjang diagnostik labiratorium tingkat pratama\\n7. Rawat inap tingkat pertama sesuai dengan indikasi medis'),\n",
              " Document(metadata={'source': 'bpjs_qa_dataset'}, page_content='Pertanyaan: Pelayanan Kesehatan rujukan tingkat lanjut yang dijamin BPJS Kesehatan yaitu\\nJawaban: 1. Administrasi Pelayanan\\n2. Pemeriksaaan, pengobatan dan konsultasi medis dasar\\n3. Pemeriksaaan, pengobatan dan konsultasi spesialistik\\n4. Tindakan medis spesialistik, baik bedah maupun nonbedah sesuai indikasi medis\\n5. Pelayanan obat, alat kesehatan dan bahan medis habis pakai\\n6. Pelayana penunjang diagnostik lanjutan sesuai dengan indikasi medis\\n7. Rehabilitasi medis\\n8. Pelayanan Darah\\n9. Pemulasaran jenazah peserta yang meninggal di fasilitas kesehatan\\n10. pelayanan keluarga berencana\\n11. Pe'),\n",
              " Document(metadata={'source': 'bpjs_qa_dataset'}, page_content='Pertanyaan: Bagaimana Pelayanan di luar wilayah domisili\\nJawaban: Sesuai Pepres 82 Tahun 2018 untuk Pelayanan di luar wilayah domisili Peserta datang ke FKTP tempat Peserta terdaftar maupun FKTP lain diluar tempat peserta terdaftar serta menunjukkan kartu identitas peserta JKN-KIS/KIS Digital dengan status aktif dan/atau identitas lain yang diperlukan (KTP, SIM, KK).  Saat Bapak/Ibu sedang berada diluar daerah (dengan jarak tempuh yang tidak memungkinkan untuk menuju ke Faskes tingkat 1 terdaftar, maka dapat mengakses pelayanan kesehatan pada faskes tingkat 1 bekerjasama dengan BPJS Kesehatan terdekat maksimal untuk 3x kunjungan dalam waktu paling lama 1 bulan di FKTP yang sama'),\n",
              " Document(metadata={'source': 'bpjs_qa_dataset'}, page_content='Pertanyaan: Cara Mendapatkan Pelayanan Program Rujuk Balik (PRB)\\nJawaban: Pelayanan Program Rujuk Balik adalah pelayanan bagi pasien dengan diagnosa penyakit kronis Diabetes Mellitus, Hipertensi, Jantung, Asma, Penyakit Paru Obstruktif Kronik (PPOK), Epilepsy, Schizophrenia, Stroke, dan Systemic Lupus Erythematosus (SLE) yang telah ditetapkan dalam kondisi terkontrol/stabil oleh Dokter Spesialis/Sub Spesialis sesuai dengan standar profesi terkait dan telah mendapatkan surat rujuk balik (SRB) dan mendaftarkan diri untuk menjadi peserta PRB.\\nPenjaminan pelayanan bagi peserta PRB adalah pemeriksaan dokter di FKTP dan pemberian obat PRB yang termasuk dalam daftar obat PRB di Formularium Nasional oleh ruang farmasi, instalasi farmasi klinik pratama, atau apotek yang bekerja sama dengan BPJS Kesehatan untuk kebutuhan maksimal 30 (tiga puluh) hari.'),\n",
              " Document(metadata={'source': 'bpjs_qa_dataset'}, page_content='Pertanyaan: Pelayanan Ambulan yang tidak dijamin\\nJawaban: a.\\tjemput pasien selain dari fasilitas kesehatan (rumah, jalan, lokasi lain); \\nb.\\tmengantar pasien ke selain fasilitas kesehatan; \\nc.\\trujukan parsial (antar jemput pasien atau spesimen dalam rangka mendapatkan pemeriksaan penunjang atau tindakan, yang merupakan rangkaian perawatan pasien di salah satu fasilitas kesehatan); \\nd.\\tmengantar jenazah; dan \\ne.\\tpasien rujuk balik rawat jalan.'),\n",
              " Document(metadata={'source': 'bpjs_qa_dataset'}, page_content='Pertanyaan: Cara Mendapatkan Pelayanan Ambulan\\nJawaban: Pelayanan Ambulan merupakan pelayanan transportasi pasien rujukan dengan kondisi tertentu antar fasilitas kesehatan untuk menjaga kestabilan kondisi dan keselamatan pasien yang meliputi pelayanan ambulan darat dan ambulan air untuk rujukan pada:\\na.\\tantar fasilitas kesehatan tingkat pertama;\\nb.\\tdari fasilitas kesehatan tingkat pertama ke fasilitas kesehatan rujukan tingkat lanjut;\\nc.\\tantar fasilitas kesehatan rujukan tingkat lanjutan\\nAdapun prosedur pelayanan ambulan sebagai berikut:\\na.\\tPasien yang mendapatkan pelayanan ambulan adalah pasien yang memerlukan evakuasi ke fasilitas kesehatan lain sesuai indikasi medis dan ketentuan penjaminan ambulan.\\nb.\\tPelayanan ambulan dijamin bila rujukan dilakukan pada fasilitas kesehatan yang bekerja sama dengan BPJS Kesehatan atau pada kasus gawat darurat dari fasilitas kesehatan yang tidak bekerja sama ke fasilitas kesehatan yang bekerja sama dengan BPJS Kesehatan.\\nc.\\tFasilitas kesehatan yang memiliki fasilitas ambulan dapat langsung memberikan pelayanan ambulan bagi pasien.\\nd.\\tFasilitas kesehatan yang tidak memiliki fasilitas ambulan, maka Fasilitas kesehatan berkoordinasi dengan penyedia ambulan'),\n",
              " Document(metadata={'source': 'bpjs_qa_dataset'}, page_content='Pertanyaan: Prosedur refund (pengembalian kelebihan pembayaran)\\nJawaban: I.\\tPengembalian iuran (refund) dapat dilakukan dengan alasan sebagai berikut:\\n1.\\tKelebihan pembayaran iuran oleh peserta atau pemberi kerja\\n2.\\tKelebihan pembayaran iuran oleh pemerintah daerah bagi PBPU/BP Pemda\\n3.\\tPeserta meninggal dunia\\n4.\\tKepesertaan ganda\\n5.\\tSalah setor rekening\\n6.\\tKesalahan pencatatan oleh Bank atau PPOB\\n7.\\tSalah setor Virtual Account\\nPengajuan pengembalian iuran paling lama dilakukan 15 hari sejak tanggal pengajuan pengembalian disampaikan kepada BPJS Kesehatan dan berkas dinyatakan Lengkap.\\nII.\\tKelengkapan berkas untuk proses penembalian iuran adalah sebagai berikut\\n1.\\tSurat permohonan pengembalian iuran oleh peserta/ pemberi kerja/ keluarga peserta dilengkapi materi 10.000\\n2.\\tSalinan KTP Pengaju\\n3.\\tSalinan Kartu Keluarga\\n4.\\tBukti Bayar (asli) \\n5.\\tSalinan buku tabungan peserta/pemberi kerja/keluarga peserta yang masih aktif\\n6.\\tSalinan Kartu JKN/KIS\\n7.\\tSurat Kuasa (apabila permohonan pengembalian kelebihan pembayaran dilakukan oleh keluarga peserta)\\n8.\\tSurat keterangan kematian (apabila meninggal) \\n9.\\tBerita acara rekonsiliasi (apabila kepesertaan ganda)'),\n",
              " Document(metadata={'source': 'bpjs_qa_dataset'}, page_content='Pertanyaan: Bagaimana jika terdapat ketidaksesuaian tagihan\\nJawaban: Apabila terdapat selisih atau perbedaan iuran, Bpk/Ibu dapat melaporkan kekantor BPJS Kesehatan terdekat, dengan membawa serta diantaranya : \\n1.\\tPeserta meninggal : Peserta melengkapi surat keterangan kematian dan wajib membayar tunggakan sampai dengan bulan peserta meninggal. \\n2.\\tperalihan segmen ke Pekerja Penerima Upah (PPU) : Peserta membawa serta Surat Keputusan pengangkatan sebagai PPU dan kartu keluarga. \\n3.\\tData ganda : Peserta membawa serta identitas (KK/KTP) dan kartu Indonesia Sehat. \\n4.\\tPindah kewarganegaraan : Peserta melengkapi dokumen penetapan pindah kewarganegaraan (dibuktikan dengan surat penetapan pindah kewarganegaraan dari instansi berwenang).\\n5.\\tnominal iuran peserta muncul lebih dari satu kali pada satu periode bulan tagihan : Peserta membawa serta identitas (KK/KTP) dan kartu Indonesia Sehat. \\n6.\\tBayi Baru Lahir : Perhitungan tagihan iuran atas bayi baru lahir dihitung sejak bulan bayi dilahirkan dengan tagihan maksimal 24 bulan dengan membawa surat keterangan kelahiran, kartu keluarga, persyaratan autodebet (Buku Rekening dan KTP Pemilik Rekening)'),\n",
              " Document(metadata={'source': 'bpjs_qa_dataset'}, page_content='Pertanyaan: Syarat Pendaftaran Autodebet\\nJawaban: I.\\tBank mitra kerjasama (BNI/BCA/MANDIRI/BRI/BTN/BANK JATENG/BANK NAGARI selain jenis syariah dan tabunganku) dan dapat melalui Kantor BPJS Kesehatan dengan persyaratan sebagaimana terlampir :\\n1.\\tFC Buku Rekening Tabungan \\n2.\\tFC KK dan FC KTP peserta \\n3.\\tFC KK dan FC  KTP pemilik rekening\\n4.\\tMaterai Rp. 10.000,- 1 lembar\\n5.\\tMengisi formulir autodebet yang ditanda tangani pemilik rekening\\nII.\\tOnline (Bank/Non Perbankan) melalui Aplikasi Mobile JKN, Aplikasi Mitra BPJS Kesehatan dan USSD :\\n1.\\tAplikasi Mobile JKN (BRI/MANDIRI/BTN/BCA/Finpay/Doku/I-Saku/Visa Master)\\n2.\\tAplikasi i-saku\\n3.\\tAplikasi Tokopedia\\n4.\\tAplikasi Gojek\\n5.\\tAplikasi DANA\\n6.\\tVia USSD\\n7.\\tWebsite BPJS Kesehatan (MANDIRI/BCA/Visa Master)'),\n",
              " Document(metadata={'source': 'bpjs_qa_dataset'}, page_content='Pertanyaan: Cara Membayar Iuran\\nJawaban: Pembayaran iuran bagi peserta dapat dilakukan dengan tahapan sebagai berikut:\\nI.\\tPeserta dan calon peserta PBPU Kelas I dan II wajib menggunakan fasilitas pembayaran auto debit (bank/non bank).\\nII.\\tPeserta melakukan registrasi autodebet melalui :\\na.\\tKantor BPJS Kesehatan dengan mengisi form autodebit yang tersedia dengan melengkapi persyaratan  pendaftaran berupa Fotocopy Kartu Keluarga/KTP dan Buku Rekening\\nb.\\tKanal Online seperti\\n•\\tMobile JKN\\n•\\tWebsite BPJS Kesehatan\\n•\\tKanal Bank\\n•\\tAplikasi E-Commerce\\n•\\tUSSD\\nIII.\\tIuran pertama peserta akan otomatis terdebit pada periode tanggal 5 atau tanggal 20 setiap bulannya\\nIV.\\tUntuk kelancaran proses pendaftaran Autodebit pada Bank\\nPastikan Nomor Telepon yang digunakan benar atau sesuai dengan Nomoor Telepon yang digunakan saat pembukaan rekening di Bank untuk menerima Pin OTP dan pastikan memiliki saldo pulsa.'),\n",
              " Document(metadata={'source': 'bpjs_qa_dataset'}, page_content='Pertanyaan: cara mengaktifkan kartu peserta diatas 90 tahun yang dinonaktifkan\\nJawaban: Untuk pengaktifan kembali bagi peserta yang di nonaktifkan karena usia > 90 tahun dengan menunjukan :\\na.\\tKartu JKN KIS ( Jaminan Kesehatan Nasional - Kartu Indonesia Sehat )\\nb.\\tSK pensiun\\nc.\\tKTP\\nd.\\tKartu Keluarga\\nPelaporan dapat dilakukan melalui Kantor Cabang atau Pelayanan Whatsapp Administrasi (PANDAWA)'),\n",
              " Document(metadata={'source': 'bpjs_qa_dataset'}, page_content='Pertanyaan: cara mengaktifkan kartu anak PPU yang masih kuliah\\nJawaban: Untuk anak 21 tahun yang masih kuliah/belum menikah/belum bekerja dapat dilakukan perpanjangan masa berlaku kepesertaan melalui HRD/PIC perusahaan/satuan kerja dengan melampirkan surat keterangan sekolah/perguruan tinggi semester berjalan'),\n",
              " Document(metadata={'source': 'bpjs_qa_dataset'}, page_content='Pertanyaan: cara Melakukan Perubahan Kelas Rawat\\nJawaban: I.\\tPeserta PPU \\nSyarat perubahan kelas rawat \\na.\\tKartu Keluarga\\nb.\\tDaftar gaji asli dari pemberi kerja\\nc.\\tPerubahan gaji/upah yang dilakukan pada bulan berjalan, maka kelas perawatan baru akan berlaku pada bulan selanjutnya..\\nII.\\tPeserta PBPU/BP\\nSyarat perubahan kelas rawat \\na.\\tPerubahan kelas rawat dapat dilakukan setelah 1 (satu) tahun dan harus diikuti perubahan kelas rawat seluruh anggota keluarga. \\nb.\\tPeserta yang melakukan perubahan kelas perawatan pada bulan berjalan, maka kelas perawatan barunya berlaku pada bulan selanjutnya.\\nc.\\tAdapun persyaratan perubahan kelas rawat yaitu asli/fotokopi Kartu Keluarga.\\nd.\\tBagi peserta yang belum melakukan Autodebit rekening tabungan dilengkapi dengan:\\n1)\\tFotokopi buku rekening tabungan BRI, Mandiri, BNI, BTN, dan BCA (dapat menggunakan rekening tabungan Kepala Keluarga/ anggota keluarga dalam Kartu Keluarga/penanggung.\\n2)\\tFormulir  Autodebit   pembayaran iuran BPJS Kesehatan bermaterai Rp10.000,00 (Sepuluh Ribu Rupiah).'),\n",
              " Document(metadata={'source': 'bpjs_qa_dataset'}, page_content='Pertanyaan: cara Melakukan Perubahan Domisili, Nomor Handphone dan Alamat Email\\nJawaban: Perubahan domisili, nomor handphone dan alamat email diperlukan untuk kemudahan korespodensi maupun penyampaian informasi kepada peserta.\\nPeserta melaporkan perubahan domisili, nomor handphone dan alamat email melalui kanal layanan yang disediakan oleh BPJS Kesehatan'),\n",
              " Document(metadata={'source': 'bpjs_qa_dataset'}, page_content='Pertanyaan: Cara Melakukan Perubahan Alamat\\nJawaban: Peserta melaporkan perubahan alamat ke Kantor BPJS Kesehatan setempat, dengan persyaratan:\\na.\\tKartu identitas peserta JKN-KIS;\\nb.\\tKartu Tanda Penduduk elektronik dan Kartu Keluarga'),\n",
              " Document(metadata={'source': 'bpjs_qa_dataset'}, page_content='Pertanyaan: Cara Melakukan Perubahan Data Kependudukan\\nJawaban: Perubahan data kependudukan pada identitas peserta JKN-KIS yang meliputi data NIK, Nama, Tanggal Lahir dan Jenis Kelamin. Peserta melaporkan data kependudukan melalui kanal layanan yang disediakan oleh BPJS Kesehatan, dengan persyaratan:\\na.\\tKartu Keluarga dan KTP\\nb.\\tKartu Identitas Peserta JKN-KIS'),\n",
              " Document(metadata={'source': 'bpjs_qa_dataset'}, page_content='Pertanyaan: Pengurangan anggota keluarga pernikahan/perceraian\\nJawaban: a.\\tPeserta PBI\\nPeserta melaporkan ke Dinas Sosial setempat, dengan menunjukkan surat nikah/cerai.\\nb.\\tPeserta PPU\\nBagi PPU Penyelenggara Negara laporan peserta meninggal disampaikan ke Kantor BPJS Kesehatan setempat. Sedangkan bagi PPU Non Penyelenggara Negara laporan peserta menikah/cerai disampaikan ke PIC Badan Usaha, dengan menunjukkan surat nikah/cerai.\\nc.\\tPeserta PBPU/BP\\nPeserta melaporkan ke kantor BPJS Kesehatan, dengan syarat: \\n1.\\tsurat nikah/cerai\\n2.\\tKartu Keluarga\\n3.\\tKartu Identitas Peserta JKN-KIS.'),\n",
              " Document(metadata={'source': 'bpjs_qa_dataset'}, page_content='Pertanyaan: Cara Melakukan Perubahan Tambah  Peserta Dan Anggota Keluarga\\nJawaban: Perubahan penambahan peserta dan anggota keluarga mengikuti mekanisme pendaftaran peserta baru sesuai dengan jenis kepesertaan, dengan syarat sebagai berikut:\\n1.\\tKartu Keluarga\\n2.\\tBuku rekening tabungan BRI, Mandiri, BNI, BTN, dan BCA (dapat menggunakan rekening tabungan Kepala Keluarga/anggota keluarga dalam Kartu Keluarga/ penanggung).\\n3.\\tFormulir Autodebit pembayaran iuran BPJS Kesehatan bermaterai Rp.10.000,00 (Sepuluh Ribu Rupiah)'),\n",
              " Document(metadata={'source': 'bpjs_qa_dataset'}, page_content='Pertanyaan: Ketentuan penonaktifan peserta meninggal\\nJawaban: .a\\tPeserta PBI\\nAnggota keluarga Peserta/yang mewakili melaporkan ke kantor BPJS Kesehatan atau Dinas Sosial setempat, dengan syarat: \\n1.\\tsurat keterangan kematian dari desa/kelurahan\\n2.\\tKartu Identitas Peserta JKN-KIS. \\nb.\\tPeserta PPU\\nBagi PPU Penyelenggara Negara laporan peserta meninggal disampaikan ke Kantor BPJS Kesehatan setempat. Sedangkan bagi PPU Non Penyelenggara Negara laporan peserta meninggal disampaikan ke PIC Badan Usaha. Syarat yang dibutuhkan: \\n1.\\tsurat keterangan kematian dari desa/kelurahan\\n2.\\tKartu Identitas Peserta JKN-KIS. \\nc.\\tPeserta PBPU/BP\\nAnggota keluarga Peserta/yang mewakili melaporkan ke kantor BPJS Kesehatan, dengan syarat: \\n1)\\tSurat keterangan kematian dari Fasilitas Kesehatan/Desa/Kelurahan\\n2)\\tAsli Kartu identitas peserta JKN-KIS.\\n3)\\tAsli/Fotokopi Kartu Keluarga\\n4)\\tBukti pembayaran iuran'),\n",
              " Document(metadata={'source': 'bpjs_qa_dataset'}, page_content='Pertanyaan: Cara Melakukan Perubahan Jenis Kepesertaan Peserta PPU Penyelenggara Negara menjadi Bukan Pekerja/Pe\\nJawaban: 1)\\tAsli/Fotokopi Surat tanda bukti penerima pensiun/KARIP\\n2)\\tAsli/Fotokopi Surat Keputusan Janda/ Duda/ Anak yatim/Anak Piatu atau yatim piatu\\n3)\\tSurat keterangan dari sekolah/perguruan tinggi (bagi anak usia lebih dari 21 tahun s.d. 25 tahun yang masih sekolah/kuliah)'),\n",
              " Document(metadata={'source': 'bpjs_qa_dataset'}, page_content='Pertanyaan: Cara Melakukan Perubahan Jenis Kepesertaan Peserta PPU menjadi PPU\\nJawaban: Peserta PPU dialihkan menjadi PPU lainnya berdasarkan surat pengantar pendaftaran dari Pimpinan Perusahaan yang baru. Kondisi tersebut  berlaku  bagi  peserta PPU aktif maupun PPU non aktif karena Badan Usaha lama menunggak iuran. Jenis kepesertaan Peserta PPU berlaku untuk bulan selanjutnya'),\n",
              " Document(metadata={'source': 'bpjs_qa_dataset'}, page_content='Pertanyaan: Cara Melakukan Perubahan Jenis Kepesertaan Peserta PPU menjadi Peserta PBPU\\nJawaban: 1)\\tPekerja sudah tidak lagi sebagai PPU yang ditunjukkan dengan status peserta dinonaktifkan oleh Badan Usaha.\\n2)\\tPeserta PPU yang beralih menjadi Peserta PBPU/ BP pada bulan berjalan sebelum dinonaktifkan, maka pembayaran iuran baru dapat dibayarkan pada tanggal 1 bulan berikutnya dan status kepesertaan sebagai PBPU akan aktif sejak iuran dibayarkan.\\n3)\\tDalam hal peralihan dilakukan selambat- lambatnya 1 bulan sejak status PPU dinyatakan non aktif, maka Status Peserta langsung aktif (tanpa menunggu 14 hari). Jika melebihi 1 bulan, maka status peserta tidak langsung aktif (menunggu 14 hari).\\n4)\\tMelengkapi persayaratan sebagai berikut:\\na)\\tAsli Kartu JKN-KIS\\nb)\\tAsli/Fotocopy Kartu Keluarga\\nc)\\tFotokopi buku rekening tabungan BRI, Mandiri, BNI, BTN, dan BCA (dapat menggunakan rekening tabungan Kepala Keluarga/anggota keluarga dalam Kartu Keluarga/penanggung.\\nd)\\tFormulir  Autodebit   pembayaran iuran BPJS Kesehatan bermaterai Rp10.000,00 (Sepuluh Ribu Rupiah)'),\n",
              " Document(metadata={'source': 'bpjs_qa_dataset'}, page_content='Pertanyaan: Cara Melakukan Perubahan Jenis Kepesertaan Peserta PBPU menjadi peserta PPU\\nJawaban: 1)\\tBadan Usaha melakukan perubahan jenis kepesertaan pekerja melalui sistem informasi yang telah disediakan oleh BPJS Kesehatan.\\n2)\\tPerubahan status kepesertaan menjadi Peserta PPU mengikuti mekanisme cut off kepesertaan BPJS Kesehatan dan jumlah anggota keluarga yang ditanggung PPU.\\n3)\\tPerubahan status kepesertaan jumlah anggota keluarga tertanggung PPU, dalam hal jumlah anggota keluarga tertanggung melebihi hak peserta sebagai peserta PPU, maka anggota keluarga lain tetap terdaftar sebagai Peserta PBPU atau dapat didaftarkan sebagai keluarga tambahan dengan besaran iuran sebesar 1% dari gaji atau upah.\\n4)\\tMenyerahkan surat keterangan dari sekolah/perguruan tinggi (bagi anak usia lebih dari 21 tahun s.d 25 tahun yang masih sekolah/kuliah).'),\n",
              " Document(metadata={'source': 'bpjs_qa_dataset'}, page_content='Pertanyaan: Cara Melakukan Perubahan Jenis Kepesertaan Peserta PBI JK/PD Pemda menjadi peserta PPU\\nJawaban: 1)\\tBadan Usaha melakukan perubahan jenis kepesertaan pekerja melalui sistem informasi yang telah disediakan oleh BPJS Kesehatan.\\n2)\\tPerubahan status kepesertaan menjadi Peserta PPU mengikuti mekanisme cut off kepesertaan BPJS Kesehatan dan jumlah anggota keluarga yang ditanggung PPU.\\n3)\\tDalam hal jumlah anggota keluarga tertanggung melebihi hak peserta sebagai peserta PPU, maka anggota keluarga lainnya:\\na)\\tDidaftarkan melalui Badan Usaha sebagai keluarga tambahan dengan besaran iuran sebesar 1% dari gaji atau upah Peserta Pekerja Penerima Upah per orang per bulan (dengan melengkapi surat kuasa pemotongan gaji)\\nb)\\tDidaftarkan sebagai Peserta PBPU; atau\\nc)\\tTetap menjadi Peserta PBI JK/PD Pemda\\n4)\\tMeyerahkan surat keterangan dari sekolah/perguruan tinggi (bagi anak usia lebih dari 21 tahun s.d. 25 tahun yang masih sekolah/kuliah).'),\n",
              " Document(metadata={'source': 'bpjs_qa_dataset'}, page_content='Pertanyaan: Cara Melakukan Perubahan Jenis Kepesertaan Peserta PBI JK/PD Pemda menjadi peserta PBPU\\nJawaban: 1)\\tAsli Kartu JKN-KIS\\n2)\\tAsli/Fotocopy Kartu Keluarga\\n3)\\tFotokopi buku rekening tabungan BRI, Mandiri, BNI, BTN, dan BCA (dapat menggunakan rekening tabungan Kepala Keluarga/anggota keluarga dalam Kartu Keluarga/penanggung.\\n4)\\tFormulir  Autodebit   pembayaran iuran BPJS Kesehatan bermaterai Rp10.000,00 (Sepuluh Ribu Rupiah).\\n5)\\tPeserta PBI JK aktif yang beralih menjadi peserta PBPU pada bulan berjalan, maka pembayaran iuran dibayarkan pada tanggal 1 (satu) bulan berikutnya dan status kepesertaan sebagai PBPU akan aktif sejak iuran dibayarkan, apabila iurannya tidak dibayarkan setelah melewati 1 (satu) bulan, maka diberlakukan proses administrasi menunggu 14 (empat belas) hari'),\n",
              " Document(metadata={'source': 'bpjs_qa_dataset'}, page_content='Pertanyaan: Cara Mendaftar Menjadi Peserta Bukan Pekerja (BP) Penyelenggara Negara\\nJawaban: 1\\tAsli KTP\\n2\\tFotokopi Kartu Keluarga\\n3\\tAsli/Fotokopi surat tanda bukti penerima pensiun atau KARIP\\n4\\tAsli/Fotokopi surat tanda bukti penerima pensiun atau Kartu Tanda Peserta ASABRI\\n5\\tAsli/Fotokopi piagam petikan SK Pengesahan Gelar Kehormatan Veteran RI\\n6\\tAsli/Fotokopi Surat Keputusan Janda/Duda/Anak Yatim/Anak Piatu dan atau Anak Yatim Piatu\\n7\\tSurat Keterangan dari sekolah/Perguruan Tinggi (bagi anak berusia lebih dari 21 (dua puluh satu) tahun sampai dengan 25 (dua puluh lima) tahun'),\n",
              " Document(metadata={'source': 'bpjs_qa_dataset'}, page_content='Pertanyaan: Cara Mendaftar Menjadi Peserta PBPU/BP Non Penyelenggara Negara\\nJawaban: a.\\tKartu Keluarga\\nb.\\tBuku tabungan Bank yang melayani autodebit BRI, Mandiri, BNI, BTN, BCA, Bank Jateng dan Bank Panin (dapat menggunakan rekening tabungan Kepala Keluarga/ anggota keluarga dalam Kartu Keluarga/ penanggung).\\nc.\\tFormulir surat kuasa autodebit pembayaran iuran BPJS Kesehatan bermaterai Rp10.000,00 (Sepuluh Ribu Rupiah) yang ditanda tangani pemilik rekening yang bersangkutan. Surat kuasa wajib ditanda tangani oleh pemilik rekening walaupun calon peserta yang mendaftar bukan pemilik rekening.\\nd.\\tPaspor dan surat izin kerja yang diterbitkan instansi berwenang bagi Warga Negara Asing.\\nCalon peserta dapat melakukan pembayaran iuran pertama dalam waktu paling cepat 14 (empat belas) hari atau paling lambat 30 (tiga puluh) hari setelah pendaftaran'),\n",
              " Document(metadata={'source': 'bpjs_qa_dataset'}, page_content='Pertanyaan: Cara Mendaftar Menjadi Peserta PPU Penyelenggara Negara\\nJawaban: Pendaftaran dilakukan secara kolektif oleh PIC satuan kerja (satker) dan dapat juga dilakukan secara perorangan.\\n1.\\tSyarat pendaftaran apabila pendaftaran dilakukan secara perorangan yaitu dengan menunjukkan:\\na.\\tKartu Keluarga\\nb.\\tSK Penetapan pertama.\\nc.\\tSK Kepangkatan/pengangkatan terakhir dari Kementerian/Lembaga/Kepala Dinas (jika ada  perubahan)\\nd.\\tDaftar gaji yang mencantumkan gaji pokok dan tunjangan dan dilegalisasi oleh pimpinan unit  kerja.\\ne.\\tPenetapan Pengadilan Negeri untuk anak angkat (jika belum tercantum dalam Kartu Keluarga).\\nf.\\tAsli Surat keterangan dari sekolah/ Perguruan Tinggi (bagi anak usia di atas 21 tahun s.d. 25 tahun) yang berlaku 1 (satu) tahun.\\n2.\\tPendaftaran secara kolektif dilakukan melalui registrasi entitas satuan kerja oleh masing-masing PIC satuan kerja. Kemudian, pendaftaran pekerja dan anggota keluarganya dilakukan melalui proses migrasi dengan mengisi FDIPE (Formulir Daftar Isian Peserta Elektronik).\\nKhusus untuk kepesertaan dari Kepala Desa dan Perangkat Desa proses pendaftaran dan perubahan data dilakukan secara kolektif oleh penanggung jawab Pemerintah Daerah melalui sistem informasi yang telah disediakan oleh BPJS Kesehatan'),\n",
              " Document(metadata={'source': 'bpjs_qa_dataset'}, page_content='Pertanyaan: Cara Mendaftar Menjadi Peserta PBI APBD\\nJawaban: Pendaftaran dilakukan melalui pendataan oleh Pemerintah Daerah, yang selanjutnya didaftarkan kepada BPJS Kesehatan  sesuai dengan perjanijian kerjasama antara Pemerintah Kabupaten/Kota dengan BPJS Kesehatan'),\n",
              " Document(metadata={'source': 'bpjs_qa_dataset'}, page_content='Pertanyaan: Cara Mendaftar Menjadi Peserta PBI APBN\\nJawaban: Pendaftaran dilakukan melalui pendataan oleh Kementerian Sosial/Dinas Sosial Kabupaten/Kota. yang selanjutnya ditetapkan melalui Keputusan Menteri Sosial dan didaftarkan oleh Kementerian Kesehatan kepada BPJS Kesehatan'),\n",
              " Document(metadata={'source': 'bpjs_qa_dataset'}, page_content='Pertanyaan: Kriteria Pekerja yang Terkena PHK Namun tidak Mendapat Manfaat Penjaminan 6 Bulan\\nJawaban: a.\\tPekerja Meninggal dunia\\nb.\\tPekerja sudah habis Kontrak \\nc.\\tPekerja mengundurkan diri \\nd.\\tPekerja mangkir\\ne.\\tPekerja Pensiun\\nf.\\tPekerja mengundurkan diri\\ng.\\tPekerja dipecat atas kesepakatan Pekerja dan Pemberi Kerja'),\n",
              " Document(metadata={'source': 'bpjs_qa_dataset'}, page_content='Pertanyaan: Bagaimana tata cara pendaftaran Pekerja Penerima Upah, khususnya non Penyelenggara Negara seperti\\nJawaban: Tahapan pendaftaran Badan Usaha melalui website BPJS Kesehatan / Portal Bersama BPJS / Aplikasi Edabu Mobile : \\n•\\tBadan Usaha mengakses www.bpjs-kesehatan.go.id, www.bpjs.go.id  atau Aplikasi Edabu Mobile yan bisa diunduh melalui Google Playstore / Apps Store \\n•\\tBPJS Kesehatan mengirim link aktivasi ke email Badan Usaha \\n•\\tSetelah Badan Usaha aktivasi kepesertaan, BPJS Kesehatan mengirim nomor Virtual Account, Username, dan Password aplikasi Edabu ke email Badan Usaha \\n•\\tBadan Usaha mendaftarkan Pekerja dan anggota keluarga di Aplikasi Edabu \\n•\\tBadan Usaha mendapat tagihan iuran setelah melakukan approval pendaftaran di Edabu \\n•\\tStatus kepesertaan Aktif setelah BU membayar iuran \\n•\\tIdentitas Peserta berupa KIS Digital bisa diunduh di Aplikasi Mobile Jkn\\nTahapan pendaftaran Badan Usaha melalui Online Single Submission: \\n•\\tBadan Usaha mengakses www.oss.go.id lalu klik link aktivasi yang dikirim oleh BPJS Kesehatan ke email Badan Usaha \\n•\\tBPJS Kesehatan mengirimkan Virtual Account, User, dan Password Aplikasi Edabu  \\n•\\tBPJS Kesehata mengirim bukti kepesertaan Badan Usaha ke OSS dan Badan Usaha \\n•\\tBadan Usaha mendaftarkan Pekerja dan anggota keluarga di Aplikasi Edabu \\n•\\tTagihan iuran pertama terbit sejak Badan Usaa approval pendaftaran di Aplikasi Edabu \\n•\\tBadan Usaha membayar iuran JKN\\n•\\tApabila iuran sudah diterima BPJS Kesehatan, maka Badan Usaa diberikan email informasi kepesertaan \\n•\\tKepesertaan JKN Pekerja dan Anggota keluarga aktif. BPJS Kesehatan mengirimkan status status Badan Usaha ke OSS dan Badan Usaha \\n•\\tIdentitas Peserta berupa KIS Digital bisa diunduh di Aplikasi Mobile JKN'),\n",
              " Document(metadata={'source': 'bpjs_qa_dataset'}, page_content='Pertanyaan: Dimana saja tempat pendaftaran Peserta Pekerja Penerima Upah\\nJawaban: a.\\tWebsite BPJS Kesehatan www.bpjs-kesehatan.go.id \\nb.\\tPortal bersama BPJS www.bpjs.go.id \\nc.\\tONLINE SINGLE SUBMISSION (OSS)\\nd.\\tAplikasi Edabu Mobile yang bisa diunduh melalui Google Playstore dan Apps Store \\ne.\\tKantor Cabang/Kab/Kota'),\n",
              " Document(metadata={'source': 'bpjs_qa_dataset'}, page_content='Pertanyaan: Apa saja Persyaratan dalam mendaftarkan Badan Usaha ke dalam Program JKN\\nJawaban: Data-data yang disiapkan Badan Usaha antara lain:\\n•\\tNama Badan Usaha, alamat, kode pos, dan nomor telepon Badan Usaha \\n•\\tAlamat e-mail Badan Usaha\\n•\\tInformasi badan usaha yang tertera pada perizinan yang dimiliki, misalnya Surat Izin Usaha, Surat Tanda Daftar Perusahaan, Nomor Pokok Wajib Pajak Badan, serta dokumen legal lainnya\\n•\\tInformasi identitas Pemilik atau Kontak Person Badan Usaha, antara lain  nama lengkap,  jabatan, nomor telepon, dan handphone\\n•\\tData jumlah karyawan dan keluarga'),\n",
              " Document(metadata={'source': 'bpjs_qa_dataset'}, page_content='Pertanyaan: Berapa besaran iuran Peserta PBPU/Mandiri/Perseorangan?\\nJawaban: Iuran dibayarkan oleh yang bersangkutan/pihak lain atas nama peserta dengan besaran iuran antara lain:\\n•\\tKelas I sebesar Rp. 150.000 /orang/bulan\\n•\\tKelas II sebesar Rp. 100.000 /orang/bulan\\n•\\tKelas III sebesar Rp. 42.000 /orang/bulan'),\n",
              " Document(metadata={'source': 'bpjs_qa_dataset'}, page_content='Pertanyaan: Kanal Layanan BPJS Kesehatan?\\nJawaban: Kanal Layanan merupakan tempat/media yang dapat digunakan oleh calon peserta atau peserta JKN-KIS dalam melakukan proses administrasi kepesertaan berupa pendaftaran peserta, perubahan data peserta, pembayaran iuran, pemberian informasi dan penanganan pengaduan, yang terdiri dari:\\na.\\tAplikasi Mobile JKN.\\nb.\\tBPJS Kesehatan Care Center 165\\nc.\\tMobile Customer Service (MCS).\\nd.\\tWebsite BPJS Kesehatan\\ne.\\tMall Pelayanan Publik bekerjasama.\\nf.\\tPANDAWA (Pelayanan Administrasi Melalui Whatsapp)\\ng.\\tKantor Cabang dan Kantor Kabupaten/Kota.\\nh.\\tPIPP FKTP\\nI.\\tPIPP FKRTL'),\n",
              " Document(metadata={'source': 'bpjs_qa_dataset'}, page_content='Pertanyaan: Ketentuan Pelayanan Alat Bantu Gerak berupa Kruk penyangga tubuh?\\nJawaban: 1. Pelayanan Alat bantu gerak berupa kruk penyangga tubuh merupakan bagian dari pemeriksaan dan penanganan yang diberikan pada FKRTL yang bekerja sama dengan BPJS Kesehatan;\\n2. Alat bantu gerak berupa kruk penyangga tubuh dapat diberikan paling cepat 5 (lima) tahun sekali atas indikasi medis dengan besaran maksimal Rp. 350.000,- per peserta;\\n3. Apabila sebelum 5 tahun diperlukan penggantian kruk oleh sebab apapun maka BPJS Kesehatan tidak menjamin\\n4. Peserta mendapatkan pelayanan medis dan/atau tindakan medis di FKRTL yang bekerja sama dengan BPJS Kesehatan sesuai dengan prosedur pelayanan.\\n5. Peserta mengurus keabsahan administrasi kruk di FKRTL dengan membawa lembar salinan SEP dan resep kruk.\\n6. Peserta mengambil kruk pada Faskes atau Apotek yang bekerjasama dengan BPJS Kesehatan dengan menyerahkan lembar salinan SEP, resep kruk dan bukti keabsahan administrasi.\\n7. Petugas Faskes atau Apotek melakukan verifikasi resep dan bukti pendukung lain, kemudian menyerahkan kruk. \\n8. Peserta menandatangani bukti pelayanan'),\n",
              " Document(metadata={'source': 'bpjs_qa_dataset'}, page_content='Pertanyaan: Ketentuan Pelayanan Penyangga Leher (Collar Neck/Cervical Collar/ Neck Brace)?\\nJawaban: 1. Pelayanan Penyangga leher (collar neck/cervical collar/neck brace) merupakan bagian dari pemeriksaan dan penanganan yang diberikan pada FKRTL yang bekerja sama dengan BPJS Kesehatan;\\n2. Penyangga leher (collar neck/cervical collar/neck brace) dapat diberikan maksimal 1 kali dalam 2 (dua) tahun atas indikasi medis dengan besaran maksimal Rp. 150.000,-;\\n3. Apabila sebelum 2 tahun diperlukan penggantian collar neck oleh sebab apapun maka BPJS Kesehatan tidak menjamin.\\n4. Peserta mendapatkan pelayanan medis dan/atau tindakan medis di FKRTL yang bekerja sama dengan BPJS Kesehatan sesuai dengan prosedur pelayanan.\\n5. Peserta mengurus keabsahan administrasi Penyangga leher (collar neck/cervical collar/neck brace) di FKRTL dengan membawa lembar salinan SEP dan resep Penyangga leher (collar neck/cervical collar/neck brace).\\n6. Peserta mengambil Penyangga leher (collar neck/cervical collar/neck brace) pada Faskes atau Apotek yang bekerjasama dengan BPJS Kesehatan dengan menyerahkan lembar salinan SEP, resep Penyangga leher (collar        neck/cervical collar/neck brace) dan bukti keabsahan administrasi\\n7. Petugas Faskes atau Apotek melakukan verifikasi resep dan bukti pendukung lain, kemudian menyerahkan Penyangga leher (collar neck/cervical collar/neck brace). \\n8. Peserta menandatangani bukti pelayanan'),\n",
              " Document(metadata={'source': 'bpjs_qa_dataset'}, page_content='Pertanyaan: Ketentuan Pelayanan Korset Tulang Belakang / Corset?\\nJawaban: 1. Pelayanan Korset Tulang Belakang (Corset) merupakan bagian dari pemeriksaan dan penanganan yang diberikan pada FKRTL yang bekerja sama dengan BPJS Kesehatan;\\n2. Korset Tulang Belakang (Corset) dapat diberikan maksimal 1 kali dalam 2 (dua) tahun atas indikasi medis dengan besaran maksimal Rp. 350.000,00;\\n3. Apabila sebelum 2 tahun diperlukan penggantian Korset Tulang Belakang (Corset) oleh sebab apapun maka BPJS Kesehatan tidak menjamin\\n4. Peserta mendapatkan pelayanan medis dan/atau tindakan medis di FKRTL yang bekerja sama dengan BPJS Kesehatan sesuai dengan prosedur pelayanan;\\n5. Peserta mengurus keabsahan administrasi  Korset Tulang Belakang di FKRTL dengan membawa lembar salinan SEP dan resep Korset Tulang Belakang;\\n6. Peserta mengambil Korset Tulang Belakang pada Faskes atau Apotek yang bekerjasama dengan BPJS Kesehatan dengan menyerahkan lembar salinan SEP, resep Korset Tulang Belakang dan bukti keabsahan administrasi.\\n7. Petugas Faskes atau Apotek melakukan verifikasi resep dan bukti pendukung lain, kemudian menyerahkan Korset Tulang Belakang kepada Peserta. \\n8. Peserta menandatangani bukti pelayanan'),\n",
              " Document(metadata={'source': 'bpjs_qa_dataset'}, page_content='Pertanyaan: Ketentuan Pelayanan Protesa Gigi/ Gigi Palsu?\\nJawaban: 1. Pelayanan protesa gigi hanya diberikan atas rekomendasi dokter gigi pada FKTP atau dokter gigi spesialis prostodonsia pada FKRTL yang bekerja sama dengan BPJS Kesehatan.\\n2. Pada FKTP yang tidak memiliki dokter gigi/ jejaring dokter gigi, maka diprioritaskan melakukan rujukan horizontal antar FKTP.\\n3. Protesa gigi/gigi palsu dapat diberikan paling cepat 2 (dua) tahun sekali atas indikasi medis untuk gigi yang sama dengan total besaran maksimal Rp. 1.000.000,00. Dalam hal diperlukan pelayanan protesa gigi pada episode berbeda dalam periode 2 (dua) tahun maka berlaku ketentuan suplesi. Adapun besaran nilai bantuan alat kesehatan protesa gigi adalah sebagai berikut:\\n a. Full protesa gigi maksimal Rp. 1.000.000,00 (Masing masing rahang maksimal Rp. 500.000,00)\\n b. Rincian per rahang adalah:\\n      - 1 - 8 gigi: Rp. 250.000,- \\n      - 9 - 16 gigi: Rp. 500.000,-\\n4. Apabila penjaminan alat protesa gigi melibatkan elemen gigi yang sudah pernah diberikan bantuan dalam kurun waktu kurang dari 2 (dua) tahun maka tidak dapat dijamin oleh BPJS Kesehatan\\n5. Apabila sebelum 2 tahun diperlukan penggantian protesa gigi oleh sebab apapun maka BPJS Kesehatan tidak menjamin'),\n",
              " Document(metadata={'source': 'bpjs_qa_dataset'}, page_content='Pertanyaan: Ketentuan Pelayanan Protesa Alat Gerak?\\nJawaban: 1. Pelayanan Protesa alat gerak (kaki dan/atau tangan tiruan) merupakan bagian dari pemeriksaan dan penanganan yang diberikan pada FKRTL yang bekerja sama dengan BPJS Kesehatan;\\n2. Protesa alat gerak dapat diberikan satu kali per peserta dalam kurun waktu 5 (lima) tahun atas indikasi dengan besaran maksimal Rp. 2.500.000,00;\\n3. Apabila sebelum 5 tahun diperlukan penggantian protesa alat gerak oleh sebab apapun maka BPJS Kesehatan tidak menjamin\\n4. Peserta mendapatkan pelayanan medis dan/atau tindakan medis di FKRTL yang bekerja sama dengan BPJS Kesehatan sesuai dengan prosedur pelayanan;\\n5. Peserta mengurus keabsahan administrasi dengan membawa lembar salinan SEP dan resep protesa alat gerak (kaki dan/atau tangan tiruan);\\n6. Peserta mengambil protesa alat gerak pada Faskes atau Apotek yang bekerjasama dengan BPJS Kesehatan dengan menyerahkan lembar salinan SEP, resep protesa alat gerak (kaki dan/atau tangan tiruan) dan bukti keabsahan administrasi.\\n7. Petugas Faskes atau Apotek melakukan verifikasi resep dan bukti pendukung lain, kemudian menyerahkan protesa alat gerak (kaki dan/atau tangan tiruan) kepada Peserta. \\n8. Peserta menandatangani bukti pelayanan'),\n",
              " Document(metadata={'source': 'bpjs_qa_dataset'}, page_content='Pertanyaan: Ketentuan Pelayanan Alat Bantu Dengar (Hearing Aid)?\\nJawaban: 1. Pelayanan alat bantu dengar (hearing aid) diberikan atas rekomendasi dari dokter spesialis THT serta merupakan bagian dari pemeriksaan dan penanganan yang diberikan pada FKRTL yang bekerja sama dengan BPJS Kesehatan.\\n2. Alat bantu dengar dapat diberikan maksimal sekali dalam 5 (lima) tahun atas indikasi medis dengan besaran maksimal Rp. 1.000.000,- per peserta tanpa membedakan satu/dua telinga.\\n3. Apabila sebelum 5 tahun diperlukan penggantian alat bantu dengar (hearing aid) oleh sebab apapun (perubahan ukuran, hilang, rusak dan sebab lain) maka BPJS Kesehatan tidak menjamin\\n4. Peserta mendapatkan pelayanan medis dan/atau tindakan medis di FKRTL yang bekerja sama dengan BPJS Kesehatan sesuai dengan prosedur pelayanan RJTL;\\n5. Peserta mengurus keabsahan administrasi alat bantu dengar (hearing aid) di FKRTL dengan membawa lembar salinan SEP RJTL dan resep alat bantu dengar (hearing aid);\\n6. Peserta mengambil alat bantu dengar (hearing aid) pada Faskes atau Optik yang bekerjasama dengan BPJS Kesehatan dengan menyerahkan lembar salinan SEP RJTL, resep alat bantu dengar (hearing aid) dan bukti keabsahan administrasi.\\n7. Petugas FKRTL atau Optik melakukan verifikasi resep dan bukti pendukung lain, kemudian menyerahkan alat bantu dengar (hearing aid) kepada Peserta'),\n",
              " Document(metadata={'source': 'bpjs_qa_dataset'}, page_content='Pertanyaan: Jenis Alat Bantu Kesehatan yang dijamin?\\nJawaban: 1. Kacamata\\n2. Alat bantu dengar (hearing aid)\\n3. Protesa alat gerak (kaki dan/atau tangan tiruan)\\n4. Protesa gigi/gigi palsu\\n5. Korset Tulang Belakang (Corset)\\n6. Penyangga leher (collar neck/cervical collar/neck brace)\\n7. Alat bantu gerak berupa kruk penyangga tubuh'),\n",
              " Document(metadata={'source': 'bpjs_qa_dataset'}, page_content='Pertanyaan: Ketentuan Pelayanan Gawat Darurat?\\nJawaban: Syarat\\n1. Kriteria gawat darurat, \\n2. Pelayanan dilakukan di IGD dan \\n3. Sesuai tatalaksana gawatdarurat\\nKriteria Gawat Darurat:\\n1. mengancam nyawa, membahayakan diri dan orang lain/lingkungan; \\n2. adanya gangguan pada jalan nafas, pernafasan dan sirkulasi; \\n3. adanya penurunan kesadaran; \\n4. adanya gangguan hemodinamik; dan/atau \\n5. memerlukan tindakan segera'),\n",
              " Document(metadata={'source': 'bpjs_qa_dataset'}, page_content='Pertanyaan: Pelayanan Kesehatan yang tidak dijamin?\\nJawaban: 1. pelayanan kesehatan yang tidak sesuai dengan ketentuan peraturan perundang-undangan;\\n2. pelayanan kesehatan yang dilakukan di Fasilitas Kesehatan yang tidak bekerja sama dengan BPJS Kesehatan, kecuali dalam keadaan darurat;\\n3. pelayanan kesehatan terhadap penyakit atau cedera akibat Kecelakaan Kerja atau hubungan kerja yang telah dijamin oleh program jaminan Kecelakaan Kerja atau menjadi tanggungan Pemberi Kerja;\\n4. pelayanan kesehatan yang dijamin oleh program jaminan kecelakaan lalu lintas yang bersifat wajib sampai nilai yang ditanggung oleh program jaminan kecelakaan lalu lintas sesuai hak kelas rawat Peserta;\\n5. pelayanan kesehatan yang dilakukan di luar negeri;\\n6. pelayanan kesehatan untuk tujuan estetik;\\n7. pelayanan untuk mengatasi infertilitas;\\n8. pelayanan meratakan gigi atau ortodonsi;\\n9. gangguan kesehatan/penyakit akibat ketergantungan obat dan/atau alkohol;\\n10. gangguan kesehatan akibat sengaja menyakiti diri sendiri atau akibat melakukan hobi yangmembahayakan diri sendiri;'),\n",
              " Document(metadata={'source': 'bpjs_qa_dataset'}, page_content='Pertanyaan: Pendaftaran Bayi Baru Lahir?\\nJawaban: 1. Bayi baru lahir dari Peserta JKN wajib didaftarkan kepada BPJS Kesehatan paling lama 28 hari sejak dilahirkan\\n2. Pendaftaran bayi dapat mengaktifkan status kepesertaan untuk mendapatkan manfaat jaminan pelayanan kesehatan selama 28 hari sejak bayi dilahirkan dan masih dalam perawatan.\\n3. Status kepesertaan bayi baru lahir (No. Kepesertaan JKN KIS) harus dipastikan selambat-lambatnya 3 hari kerja sejak dirawat,  atau < 3 hari jika pulang rawat sebelum 3 hari \\n4. Iuran bagi bayi baru lahir dibayarkan oleh Peserta     atau pihak lain atas nama Peserta pada saat mendaftar paling lama 28 (dua puluh delapan) hari sejak dilahirkan\\n5. Tidak mendaftar & membayar iuran bayi baru lahir paling lama 28 hari sejak dilahirkan akan dikenakan kewajiban membayar iuran sejak bayi dilahirkan dan dikenakan sanksi denda pelayanan\\n6. Bayi yang dilahirkan bukan dari Peserta JKN, maka berlaku ketentuan pendaftaran Peserta PBPU dan BP (14 hari)'),\n",
              " Document(metadata={'source': 'bpjs_qa_dataset'}, page_content='Pertanyaan: Cara Penonaktifan Peserta Keluar Negeri?\\nJawaban: 1. Peserta JKN Berada Di Luar Negeri Sekurangnya 6 (enam) Bulan berturut-turut\\n2. Pelaporan dilakukan melalui Kantor Cabang/kanal layanan\\n3. Peserta membayarkan  iuran sampai dengan bulan  keberangkatan ke luar negeri\\nSyarat\\na. salinan visa Peserta dan/atau anggota keluarga;\\nb. data anggota keluarga yang tinggal di luar negeri;\\nc. ijin tinggal di luar negeri;\\nd. surat tugas belajar;\\ne. surat tugas bekerja;\\nf. surat pernyataan penghentian pembayaran gaji dari Pemberi Kerja; atau\\ng. surat pemberitahuan dari sponsor'),\n",
              " Document(metadata={'source': 'bpjs_qa_dataset'}, page_content='Pertanyaan: Cara Perubahan Data Melalui Aplikasi Mobile JKN?\\nJawaban: 1. Lakukan “Sign In” ke dalam Aplikasi Mobile JKN.\\n2. Pilih menu \"ubah data peserta\"\\n3. Pilih Data yang akan diubah\\n4. Lakukan Perubahan Data\\n5. Setelah melakukan perubahan data sesuai kebutuhan, Bapak/Ibu klik “Simpan” lalu masukkan kode verifikasi yang telah dikirimkan ke nomor handphone Bapak/Ibu.'),\n",
              " Document(metadata={'source': 'bpjs_qa_dataset'}, page_content='Pertanyaan: Bagaimana Jika Lupa Password atau password Salah?\\nJawaban: 1. Pilih menu lupa password\\n2. Masukan Nomor Kartu BPJS \\n3. Masukan Nomor Handphone untuk verifikasi\\n4. Masukan Password Baru sesuai standar\\n5. Klik Reset Password'),\n",
              " Document(metadata={'source': 'bpjs_qa_dataset'}, page_content='Pertanyaan: Bagaimana Cara Daftar Menjadi Peserta Melalui Mobile JKN?\\nJawaban: 1. Pilih menu  DAFTAR \\n2. Pilih Pendaftaran Peserta Baru\\n3. Baca dan pahami dengan seksama syarat dan ketentuan pendaftaran, kemudian centang tanda “Saya Setuju” dan klik “Selanjutnya”.\\n4. Masukan Nomor Induk Kependudukan (NIK) dan kode Captcha lalu klik “Cari”.\\n5. Data Bapak/Ibu akan muncul sesuai dengan yang terdaftar dalam Dukcapil, kemudian masukkan data, yaitu:\\na. Alamat Domisili/Surat-Menyurat\\nb. Fasilitas Kesehatan Tingkat Pertama (FKTP) yang terdekat sesuai dengan domisili;\\nc. Kelas Rawa'),\n",
              " Document(metadata={'source': 'bpjs_qa_dataset'}, page_content='Pertanyaan: Cara Melakukan Perubahan Segmen Melalui Aplikasi Mobile JKN?\\nJawaban: 1. Lakukan “Sign In” ke dalam Aplikasi Mobile JKN.\\n2.  klik fitur “Ubah Data Peserta\\n3. Klik “Segmen Peserta”, lalu akan muncul tampilan “Perubahan Segmen Peserta”. \\n4. Pilih “Segmen Peserta Tujuan” yaitu Pekerja Mandiri (PBPU), kemudian klik “Selanjutnya”. \\n5. Melakukan Pendaftaran Program Auto debit (Perbankan/Non Perbankan), kemudian klik “Selanjutnya”. \\n6. Memilih Kelas Rawat baru yang Bapak/Ibu inginkan\\n7. Lakukan persetujuan perubahan segmen peserta menjadi Pekerja Mandiri(PBPU) dengan cara centang pada pernyataan tersebut.\\n8. Setelah melakukan perubahan data sesuai kebutuhan, Bapak/Ibu klik “Simpan” lalu masukkan kode verifikasi yang telah dikirimkan ke nomor handphone Bapak/Ibu.'),\n",
              " Document(metadata={'source': 'bpjs_qa_dataset'}, page_content='Pertanyaan: Bagaimana Cara Registrasi Pengguna Aplikasi Mobile JKN?\\nJawaban: 1. SetelahDowload pilih DAFTAR untuk masuk di halaman registrasi.\\n2. Pilih menu Pendaftaran Pengguna Mobile \\n3. Proses Registrasi dengan memasukan data:\\n•\\tNo Kartu BPJS          \\t\\n•\\tNo Handphone\\n•\\tPassword\\nLalu Klik “Register”'),\n",
              " Document(metadata={'source': 'bpjs_qa_dataset'}, page_content='Pertanyaan: Bagaimana Cara Mendownload  Aplikasi Mobile JKN?\\nJawaban: Cara Mendownload Aplikasi Mobile JKN yaitu:\\nBuka Google Play Store atau App Store lalu instal/ download     aplikasi      Mobile      JKN Pastikan aplikasi didownload dari pengembang BPJS Kesehatan'),\n",
              " Document(metadata={'source': 'bpjs_qa_dataset'}, page_content='Pertanyaan: Aplikasi Mobile JKN\\nJawaban: Aplikasi Mobile JKN merupakan inovasi untuk kemudahan calon peserta atau peserta JKN-KIS, dengan memanfaatkan teknologi informasi yang dapat diunduh melalui aplikasi Mobile JKN di Google Playstore atau Apps Store.\\nI.\\t5 Kemudahan menggunakan Aplikasi Mobile JKN:\\na.\\tKemudahan mendaftar dan mengubah data kepesertaan.\\nb.\\tKemudahan mengetahui informasi data peserta dan keluarga.\\nc.\\tKemudahan mengetahui informasi tagihan dan pembayaran iuran.\\nd.\\tKemudahan mendapatkan pelayanan di Faskes.\\ne.\\tKemudahan'),\n",
              " Document(metadata={'source': 'bpjs_qa_dataset'}, page_content='Pertanyaan: Bagaimana tata cara pendaftaran Pekerja Penerima Upah\\nJawaban: a.\\tData-data yang disiapkan Badan Usaha antara lain: \\n•\\tNama Badan Usaha, alamat, kode pos, dan nomor telepon Badan Usaha \\n•\\tAlamat e-mail Badan Usaha\\n•\\tInformasi badan usaha yang tertera pada perizinan yang dimiliki, misalnya Surat Izin Usaha, Surat Tanda Daftar Perusahaan, Nomor Pokok Wajib Pajak Badan, serta dokumen legal lainnya\\n•\\tInformasi identitas Pemilik atau Kontak Person Badan Usaha, antara lain  nama lengkap,  jabatan, nomor telepon, dan handphone\\n•\\tData jumlah karyawan dan keluarga\\n\\nb.\\tTahapan pendaftaran Badan Usaha melalui website BPJS Kesehatan : \\n•\\tPilih menu Layanan sub menu Pendaftaran Badan Usaha/ Badan Hukum lainnya\\n•\\tMembaca syarat dan ketentuan, menandai persetujuan syarat dan ketentuan tersebut, \\n•\\tmengklik tombol pendaftaran. \\n•\\tIsi formulir secara lengkap dan benar sesuai data dan informasi yang dimiliki Badan Usaha/ Badan Hukum Lainnya, serta mengisi alamat email\\n•\\tKonfirmasi pendaftaran Badan Usaha / Badan Hukum lainnya akan dikirim melalui email\\n•\\tPemohon melakukan aktivasi pendaftaran, maka informasi registrasi telah berhasil \\n•\\tdapat dicek melalui email. \\n•\\tPada email masuk terdapat lampiran yang berisi Formulir Registrasi Badan Usaha/ \\n•\\tBadan Hukum lainnya. Pemberi Kerja memberikan tanda tangan, materai dan stempel perusahaan pada formulir tersebut.\\n•\\tPada email masuk juga dikirimkan informasi hak akses berupa link beserta username dan password  untuk mengakses aplikasi online yang akan digunakan untuk pendaftaran peserta. Petugas menerbitkannya dalam waktu maksimal 3 jam\\n•\\tSetelah Badan Usaha/ Badan Hukum lainnya telah terdaftar selanjutnya melakukan proses pendaftaran peserta melalui aplikasi tersebut. Badan Usaha baru yang tidak melakukan entry  data kepesertaan dalam jangka waktu 3 (tiga) bulan setelah menerima username  dan password  harus melakukan pendaftaran Badan Usaha kembali.'),\n",
              " Document(metadata={'source': 'bpjs_qa_dataset'}, page_content='Pertanyaan: Apa Kewajiban Peserta?\\nJawaban: 1.\\tMendaftarkan diri dan anggota keluarganya sebagai peserta JKN-KIS kepada BPJS Kesehatan.\\n2.\\tMembayar iuran secara rutin setiap bulan sebelum tanggal 10 (sepuluh).\\n3.\\tMemberikan data dirinya dan anggota keluarganya secara lengkap dan benar.\\n4.\\tMelaporkan perubahan data dirinya dan anggota keluarganya, antara lain perubahan golongan, pangkat atau besaran gaji, pernikahan, perceraian, kematian, kelahiran, pindah alamat/domisili dan pindah fasilitas kesehatan tingkat pertama serta perubahan alamat email dan nomor handphone\\n5.\\tMenjaga kartu peserta agar tidak rusak, hilang atau dimanfaatkan oleh orang yang tidak berhak.\\n6.\\tMentaati semua ketentuan dan tata cara pelayanan kesehatan.'),\n",
              " Document(metadata={'source': 'bpjs_qa_dataset'}, page_content='Pertanyaan: Bagaimana Jika Kartu Peserta Rusak?\\nJawaban: A. Peserta dapat mengunjungi kantor BPJS Kesehatan/ Mobile Customer Service/ Mall pelayanan publik dengan ketentuan:\\n1.\\tMenyerahkan kartu peserta yang rusak.\\n2.\\tMenunjukkan KTP atau Kartu Keluarga yang berlaku. \\n3.\\tPenggantian kartu dapat dilakukan di Kantor Cabang atau Kantor Kabupaten/Kota BPJS Kesehatan terdekat.\\n\\nB. Peserta dapat menggunakan Mobile JKN pada fitur \"Kartu Peserta\" sebagai pengganti kartu JKN-KIS untuk mendapatkan pelayanan di fasilitas kesehatan.'),\n",
              " Document(metadata={'source': 'bpjs_qa_dataset'}, page_content='Pertanyaan: Berapa besaran iuran Peserta Pekerja Penerima Upah (PPU)?\\nJawaban: Iuran dibayarkan oleh pemberi kerja dan peserta dengan besaran iuran antara lain:\\na. PPU Penyelenggara Negara\\n        - Pemberi kerja: 4%\\n        - Pekerja atau pensiunan: 1%\\n\\nb. PPU Non Penyelenggara Negara\\n        - Pemberi kerja: 4%\\n        - Pekerja atau pensiunan: 1%'),\n",
              " Document(metadata={'source': 'bpjs_qa_dataset'}, page_content='Pertanyaan: Siapa saja anggota keluarga yang ditanggung oleh Pekerja Penerima Upah?\\nJawaban: Anggota  keluarga meliputi istri/suami yang sah, anak kandung, anak tiri dari perkawinan yang sah, dan anak angkat yang sah, sebanyak-banyaknya 5 orang. \\nAnak  kandung,  anak  tiri dari perkawinan yang sah, dan anak  angkat yang sah dengan kriteria: \\na.\\tTidak atau  belum pernah  menikah atau  tidak mempunyai penghasilan sendiri; dan \\nb.\\tBelum berusia 21  tahun atau belum berusia 25 tahun yang masih melanjutkan pendidikan formal.\\nAnggota keluarga lain meliputi anak ke 4 dan seterusnya, ayah, ibu, dan mertua.'),\n",
              " Document(metadata={'source': 'bpjs_qa_dataset'}, page_content='Pertanyaan: Berapa besaran iuran PBI?\\nJawaban: Iuran dibayarkan oleh pemerintah sebesar Rp. 42.000.00/orang/bulan'),\n",
              " Document(metadata={'source': 'bpjs_qa_dataset'}, page_content='Pertanyaan: Bagaimana jika pada saat registrasi BU tidak menerima link aktivasi di email yang di daftarkan\\nJawaban: PIC BU menghubungi kantor BPJS Kesehatan Sesuai dengan wilayah perusahaan terdaftar untuk di kirim ulang link aktivasi kepada badan usaha'),\n",
              " Document(metadata={'source': 'bpjs_qa_dataset'}, page_content='Pertanyaan: Bagaimana jika pada saat registrasi BU tidak menerima link aktivasi di email yang di daftarkan\\nJawaban: PIC BU menghubungi kantor BPJS Kesehatan Sesuai dengan wilayah perusahaan terdaftar untuk di kirim ulang link aktivasi kepada badan usaha'),\n",
              " Document(metadata={'source': 'bpjs_qa_dataset'}, page_content='Pertanyaan: Bagaimana cara pendaftaran Peserta Pekerja Penerima Upah\\nJawaban: Pekerja Penerima Upah di daftarkan oleh perusahaan atau badan atau instansi tempat dia bekerja.'),\n",
              " Document(metadata={'source': 'bpjs_qa_dataset'}, page_content='Pertanyaan: Apa Kewajiban Pemberi Kerja\\nJawaban: 1.\\tMendaftarkan diri dan pekerjanya sebagai peserta JKN-KIS kepada BPJS Kesehatan.\\n2.\\tMenghitung dan memungut iuran yang menjadi kewajiban pekerjanya melalui pemotongan gaji/upah pekerja.\\n3.\\tMembayar dan menyetorkan iuran yang menjadi tanggung jawabnya kepada BPJS Kesehatan secara rutin setiap bulan sebelum tanggal 10 (sepuluh).\\n4.\\tMemberikan data mengenai diri, pekerja dan anggota keluarganya secara lengkap dan benar meliputi:\\na.\\tdata pekerja berikut anggota keluarganya yang didaftarkan sesuai'),\n",
              " Document(metadata={'source': 'bpjs_qa_dataset'}, page_content='Pertanyaan: Apa Hak Peserta\\nJawaban: 1.\\tMendapatkan kartu identitas peserta sebagai identitas peserta JKN-KIS untuk memperoleh pelayanan kesehatan.\\n2.\\tMemperoleh manfaat dan informasi tentang hak dan kewajiban serta prosedur pelayanan kesehatan sesuai dengan ketentuan yang berlaku.\\n3.\\tMendapatkan pelayanan kesehatan di fasilitas kesehatan yang bekerja sama dengan BPJS Kesehatan.\\n4.\\tMenyampaikan pengaduan, kritik dan saran secara lisan maupun  tertulis kepada BPJS Kesehatan.'),\n",
              " Document(metadata={'source': 'bpjs_qa_dataset'}, page_content='Pertanyaan: Apa yang dimaksud dengan Pelayanan Kesehatan Rujukan Tingkat Lanjutan\\nJawaban: Pelayanan Kesehatan Rujukan Tingkat Lanjutan adalah upaya pelayanan kesehatan perorangan yang bersifat spesialistik atau sub spesialistik yang meliputi rawat jalan tingkat lanjutan, rawat inap tingkat lanjutan, dan rawat inap di ruang perawatan khusus'),\n",
              " Document(metadata={'source': 'bpjs_qa_dataset'}, page_content='Pertanyaan: Apa yang dimaksud fasilitas kesehatan rujukan tingkat lanjutan\\nJawaban: Fasilitas Kesehatan Rujukan Tingkat Lanjutan yang selanjutnya disingkat FKRTL adalah fasilitas kesehatan yang melakukan pelayanan kesehatan perorangan yang bersifat spesialistik atau sub spesialistik yang meliputi rawat jalan tingkat lanjutan, rawat inap tingkat lanjutan dan rawat inap di ruang perawatan khusus'),\n",
              " Document(metadata={'source': 'bpjs_qa_dataset'}, page_content='Pertanyaan: Apa yang dimaksud fasilitas kesehatan tingkat pertama\\nJawaban: Fasilitas Kesehatan Tingkat Pertama yang selanjutnya disingkat FKTP adalah fasilitas kesehatan yang melakukan pelayanan kesehatan perorangan yang bersifat non spesialistik untuk keperluan observasi, promotif, preventif, diagnosis, perawatan, pengobatan, dan/atau pelayanan kesehatan lainnya'),\n",
              " Document(metadata={'source': 'bpjs_qa_dataset'}, page_content='Pertanyaan: Apa yang dimaksud fasilitas kesehatan\\nJawaban: Fasilitas kesehatan adalah fasilitas pelayanan kesehatan yang digunakan  untuk menyelenggarakan upaya pelayanan kesehatan perorangan, baik promotif, preventif, kuratif dan rehabilitative yang diselenggarakan oleh Pemerintah, Pemerintah Daerah, dan/atau masyarakat'),\n",
              " Document(metadata={'source': 'bpjs_qa_dataset'}, page_content='Pertanyaan: Apa yang dimaksud asuransi kesehatan tambahan\\nJawaban: Asuransi kesehatan tambahan adalah asuransi kesehatan komersial yang dibeli secara sukarela di luar asuransi kesehatan sosial yang bersifat wajib'),\n",
              " Document(metadata={'source': 'bpjs_qa_dataset'}, page_content='Pertanyaan: Apa yang dimaksud dengan Close Payment System\\nJawaban: Close Payment System atau sistem pembayaran tertutup adalah mekanisme pembayaran iuran Peserta Pekerja Penerima Upah Badan Usaha (PPU BU) BPJS Kesehatan, yang memastikan transaksi pembayaran iuran hanya dapat dilakukan jika besaran iuran yang dibayarkan sama dengan tagihan atau kelipatannya'),\n",
              " Document(metadata={'source': 'bpjs_qa_dataset'}, page_content='Pertanyaan: Apa yang dimaksud dengan Formularium Nasional\\nJawaban: Yaitu daftar obat yang disusun oleh komite nasional yang ditetapkan oleh Menteri Kesehatan, didasarkan pada bukti ilmiah mutakhir berkhasiat, aman, dan dengan harga  terjangkau yang disediakan serta digunakan sebagai acuan penggunaan obat dalam Jaminan Kesehatan Nasional'),\n",
              " Document(metadata={'source': 'bpjs_qa_dataset'}, page_content='Pertanyaan: Apa yang dimaksud dengan Alat Kesehatan\\nJawaban: Yaitu instrumen, aparatus, mesin, dan/atau implan yang tidak mengandung obat yang digunakan untuk mencegah, mendiagnosa, menyembuhkan dan meringankan penyakit, merawat orang sakit serta memulihkan kesehatan pada manusia dan/atau membentuk struktur dan memperbaiki fungsi tubuh'),\n",
              " Document(metadata={'source': 'bpjs_qa_dataset'}, page_content='Pertanyaan: Apa yang dimaksud dengan Pelayanan Kesehatan Darurat Medis\\nJawaban: Yaitu pelayanan kesehatan yang harus diberikan secepatnya untuk mencegah kematian, keparahan, dan/atau kecacatan sesuai dengan kemampuan fasilitas kesehatan'),\n",
              " Document(metadata={'source': 'bpjs_qa_dataset'}, page_content='Pertanyaan: Apa yang dimaksud dengan Pelayanan Kesehatan Rujukan Tingkat Lanjutan\\nJawaban: Yaitu upaya pelayanan kesehatan perorangan yang bersifat spesialistik atau sub spesialistik yang meliputi rawat jalan tingkat lanjutan, rawat inap tingkat lanjutan, dan rawat inap di ruang perawatan khusus'),\n",
              " Document(metadata={'source': 'bpjs_qa_dataset'}, page_content='Pertanyaan: Apa yang dimaksud dengan Rawat Inap Tingkat Pertama\\nJawaban: Yaitu pelayanan kesehatan perorangan yang bersifat non spesialistik dan dilaksanakan pada fasilitas kesehatan tingkat pertama untuk keperluan observasi, perawatan, diagnosis, pengobatan, dan/atau pelayanan medis lainnya, dimana peserta dan/atau anggota keluarganya dirawat inap paling singkat 1 (satu) hari'),\n",
              " Document(metadata={'source': 'bpjs_qa_dataset'}, page_content='Pertanyaan: Apa yang dimaksud dengan Rawat Jalan Tingkat Pertama\\nJawaban: Yaitu pelayanan kesehatan perorangan yang bersifat non spesialistik yang dilaksanakan pada fasilitas kesehatan tingkat pertama untuk keperluan observasi, diagnosis, pengobatan, dan/atau pelayanan kesehatan lainnya'),\n",
              " Document(metadata={'source': 'bpjs_qa_dataset'}, page_content='Pertanyaan: Apa yang dimaksud dengan Pelayanan Kesehatan Tingkat Pertama\\nJawaban: Yaitu pelayanan kesehatan perorangan yang bersifat non spesialistik (primer) meliputi pelayanan rawat jalan dan rawat inap'),\n",
              " Document(metadata={'source': 'bpjs_qa_dataset'}, page_content='Pertanyaan: Apakah yang dimaksud dengan Kecurangan (Fraud) dalam  Pelaksanaan Program Jaminan Kesehatan Nasi\\nJawaban: Kecurangan (Fraud) adalah tindakan yang dilakukan dengan sengaja,  untuk mendapatkan keuntungan finansial dari program Jaminan Kesehatan Nasional dalam Sistem Jaminan Sosial Nasional melalui perbuatan curang yang tidak sesuai dengan ketentuan'),\n",
              " Document(metadata={'source': 'bpjs_qa_dataset'}, page_content='Pertanyaan: Apakah yang dimaksud Kartu Indonesia Sehat\\nJawaban: Kartu Indonesia Sehat adalah tanda kepesertaan Jaminan Kesehatan Nasional (JKN) untuk memperoleh Pelayanan Kesehatan yang komprehensif pada Fasilitas Kesehatan'),\n",
              " Document(metadata={'source': 'bpjs_qa_dataset'}, page_content='Pertanyaan: Apakah yang dimaksud dengan anggota keluarga yang lain bagi Peserta Pekerja Bukan Penerima Upah\\nJawaban: Anggota keluarga yang lain yang tercantum dalam Kartu Keluarga dan didaftarkan menjadi  Peserta Pekerja Bukan Penerima Upah atau Bukan Pekerja'),\n",
              " Document(metadata={'source': 'bpjs_qa_dataset'}, page_content='Pertanyaan: Apakah yang dimaksud dengan anggota keluarga yang lain bagi Peserta Pekerja Penerima Upah\\nJawaban: Anggota keluarga yang lain meliputi anak ke-4 dan seterusnya, ayah,  ibu dan mertua'),\n",
              " Document(metadata={'source': 'bpjs_qa_dataset'}, page_content='Pertanyaan: Siapa sajakah yang masuk dalam Anggota Keluarga\\nJawaban: Anggota Keluarga adalah istri/suami yang sah, anak kandung, anak tiri dari perkawinan yang sah, dan anak angkat yang sah'),\n",
              " Document(metadata={'source': 'bpjs_qa_dataset'}, page_content='Pertanyaan: Apa yang dimaksud dengan Badan Usaha\\nJawaban: Badan usaha adalah setiap bentuk usaha yang menjalankan usaha yang bersifat tetap dan terus menerus, didirikan, bekerja dan berkedudukan dalam wilayah Negara Kesatuan Republik Indonesia untuk tujuan memperoleh keuntungan dan atau laba, termasuk di dalamnya badan hukum lainnya'),\n",
              " Document(metadata={'source': 'bpjs_qa_dataset'}, page_content='Pertanyaan: Apa yang dimaksud dengan Virtual Account (VA)\\nJawaban: Virtual Account adalah nomor rekening virtual yang disediakan oleh BPJS Kesehatan untuk entitas dan perorangan sebagai rekening tujuan dalam  pembayaran iuran jaminan kesehatan'),\n",
              " Document(metadata={'source': 'bpjs_qa_dataset'}, page_content='Pertanyaan: Apa yang dimaksud dengan Upah atau Gaji\\nJawaban: Upah atau gaji adalah hak Pekerja yang diterima dan dinyatakan dalam bentuk uang sebagai imbalan dari Pemberi Kerja kepada Pekerja yang ditetapkan dan dibayar menurut suatu perjanjian kerja, kesepakatan, atau peraturan perundang-undangan, termasuk tunjangan bagi Pekerja dan keluarganya atas suatu pekerjaan dan/atau jasa yang telah atau akan dilakukan'),\n",
              " Document(metadata={'source': 'bpjs_qa_dataset'}, page_content='Pertanyaan: Siapa yang dimaksud Pemberi Kerja\\nJawaban: Pemberi Kerja adalah orang perseorangan, pengusaha, badan hukum atau badan lainnya yang mempekerjakan tenaga kerja, atau penyelenggara negara yang mempekerjakan pegawai negeri dengan membayar gaji, upah, atau imbalan dalam bentuk lainnya'),\n",
              " Document(metadata={'source': 'bpjs_qa_dataset'}, page_content='Pertanyaan: Siapa saja yang dimaksud Bukan Pekerja\\nJawaban: Bukan Pekerja adalah setiap orang yang bukan termasuk masyarakat yang didaftarkan dan iurannya dibayar oleh Pemerintah Pusat/Daerah, PPU serta PBPU, yang terdiri dari: BP Penyelenggara Negara dan BP Non Penyelenggara Negara.\\n1)\\tBP Penyelenggara Negara terdiri dari Penerima Pensiun (PP) Pejabat Negara, PP PNS Pusat/Daerah, PP TNI, PP POLRI, Veteran dan Perintis Kemerdekaan.\\n2)\\tBP Non Penyelenggara Negara terdiri dari Investor, Pemberi Kerja dan BP lain yang mampu membayar iuran.'),\n",
              " Document(metadata={'source': 'bpjs_qa_dataset'}, page_content='Pertanyaan: Siapa yang dimaksud Pekerja Penerima Upah\\nJawaban: Pekerja Penerima Upah adalah setiap orang yang bekerja pada pemberi kerja dengan menerima gaji atau upah, seperti Pegawai Negeri Sipil, Anggota TNI, Anggota POLRI, Pejabat Negara, Pimpinan dan Anggota Dewan Perwakilan Rakyat Daerah, Pegawai Pemerintah Non Pegawai Negeri, Pegawai Swasta, dan Pekerja lain yang menerima upah'),\n",
              " Document(metadata={'source': 'bpjs_qa_dataset'}, page_content='Pertanyaan: Siapa yang dimaksud Pekerja Bukan Penerima Upah\\nJawaban: Pekerja Bukan Penerima Upah adalah setiap orang yang bekerja atau berusaha atas risiko sendiri, yang terdiri dari: Notaris/Pengacara/LSM, Dokter/Bidan Praktek Swasta, Pedangang/Penyedia Jasa, Petani/Peternak, Nelayan, Supir, Ojek, Montir dan pekerja lain yang mampu membayar iuran'),\n",
              " Document(metadata={'source': 'bpjs_qa_dataset'}, page_content='Pertanyaan: Siapa yang dimaksud dengan Pekerja\\nJawaban: Pekerja adalah setiap orang yang bekerja dengan menerima gaji, upah, atau imbalan dalam bentuk lain.'),\n",
              " Document(metadata={'source': 'bpjs_qa_dataset'}, page_content='Pertanyaan: Siapakah yang dimaksud dengan Peserta\\nJawaban: Peserta adalah Semua  penduduk Indonesia, termasuk orang asing yang telah bekerja paling singkat 6 (enam) bulan di Indonesia dan telah membayar iuran'),\n",
              " Document(metadata={'source': 'bpjs_qa_dataset'}, page_content='Pertanyaan: Apakah yang dimaksud dengan Iuran Jaminan Kesehatan\\nJawaban: Iuran Jaminan Kesehatan adalah sejumlah uang yang dibayarkan secara teratur oleh Peserta, Pemberi Kerja dan/atau Pemerintah untuk program Jaminan Kesehatan'),\n",
              " Document(metadata={'source': 'bpjs_qa_dataset'}, page_content='Pertanyaan: Apakah yang dimaksud dengan BPJS Kesehatan\\nJawaban: BPJS Kesehatan adalah badan hukum yang dibentuk untuk menyelenggarakan program Jaminan Kesehatan Nasional-Kartu Indonesia Sehat (JKN-KIS) yang merupakan jaminan berupa perlindungan kesehatan agar peserta memperoleh manfaat pemeliharaan kesehatan dan perlindungan dalam memenuhi kebutuhan dasar kesehatan yang diberikan kepada setiap orang yang telah membayar iuran atau iurannya dibayarkan oleh Pemerintah')]"
            ]
          },
          "execution_count": 5,
          "metadata": {},
          "output_type": "execute_result"
        }
      ],
      "source": [
        "documents"
      ]
    },
    {
      "cell_type": "code",
      "execution_count": null,
      "metadata": {
        "id": "lsq-NAw_3Rvy"
      },
      "outputs": [],
      "source": [
        "# Tidak perlu split jika tiap QA sudah singkat\n",
        "chunks = documents"
      ]
    },
    {
      "cell_type": "code",
      "execution_count": null,
      "metadata": {
        "id": "T8d7XplU3YRv"
      },
      "outputs": [],
      "source": [
        "from langchain_huggingface import HuggingFaceEmbeddings\n",
        "from langchain_community.vectorstores import Chroma\n",
        "\n",
        "embedding_model = HuggingFaceEmbeddings(\n",
        "    model_name=\"sentence-transformers/paraphrase-multilingual-MiniLM-L12-v2\"\n",
        ")\n",
        "\n",
        "vectorstore = Chroma.from_documents(\n",
        "    documents,\n",
        "    embedding_model,\n",
        "    persist_directory=\"./chroma_bpjs\"\n",
        ")\n",
        "\n",
        "retriever = vectorstore.as_retriever()"
      ]
    },
    {
      "cell_type": "code",
      "execution_count": null,
      "metadata": {
        "colab": {
          "base_uri": "https://localhost:8080/"
        },
        "id": "k6EGITzO3wTq",
        "outputId": "7bd3c8b5-5ebf-4e0c-ff89-25db0d973f77"
      },
      "outputs": [
        {
          "name": "stdout",
          "output_type": "stream",
          "text": [
            "Jumlah embedding: 132, dimensi: 384\n"
          ]
        }
      ],
      "source": [
        "# Convert chunks ke embedding\n",
        "embeddings = embedding_model.embed_documents([chunk.page_content for chunk in chunks])\n",
        "\n",
        "print(f\"Jumlah embedding: {len(embeddings)}, dimensi: {len(embeddings[0])}\")"
      ]
    },
    {
      "cell_type": "code",
      "execution_count": null,
      "metadata": {
        "colab": {
          "base_uri": "https://localhost:8080/"
        },
        "id": "mxYmQtAe4YSj",
        "outputId": "b346e715-fb95-4545-89bc-1f89abbe7d20"
      },
      "outputs": [
        {
          "name": "stdout",
          "output_type": "stream",
          "text": [
            "\u001b[?25l   \u001b[90m━━━━━━━━━━━━━━━━━━━━━━━━━━━━━━━━━━━━━━━━\u001b[0m \u001b[32m0.0/42.0 kB\u001b[0m \u001b[31m?\u001b[0m eta \u001b[36m-:--:--\u001b[0m\r\u001b[2K   \u001b[90m━━━━━━━━━━━━━━━━━━━━━━━━━━━━━━━━━━━━━━━━\u001b[0m \u001b[32m42.0/42.0 kB\u001b[0m \u001b[31m3.1 MB/s\u001b[0m eta \u001b[36m0:00:00\u001b[0m\n",
            "\u001b[?25h"
          ]
        }
      ],
      "source": [
        "!pip install -q google-generativeai langchain_google_genai"
      ]
    },
    {
      "cell_type": "code",
      "execution_count": null,
      "metadata": {
        "id": "5Cl9m_IG4C1s"
      },
      "outputs": [],
      "source": [
        "from langchain_core.prompts import ChatPromptTemplate\n",
        "from langchain_google_genai import ChatGoogleGenerativeAI\n",
        "\n",
        "prompt = ChatPromptTemplate.from_template(\n",
        "    \"\"\"Anda adalah asisten BPJS Kesehatan. Gunakan konteks untuk menjawab pertanyaan.\n",
        "Jika tidak tahu, katakan \"Saya tidak tahu\". Jawab dengan maksimal 4 kalimat.\n",
        "\n",
        "Pertanyaan: {question}\n",
        "Konteks: {context}\n",
        "\n",
        "Jawaban:\"\"\"\n",
        ")\n",
        "\n",
        "llm = ChatGoogleGenerativeAI(model=\"gemini-1.5-flash\", google_api_key=\"***********\")\n",
        "chain = prompt | llm"
      ]
    },
    {
      "cell_type": "code",
      "execution_count": null,
      "metadata": {
        "colab": {
          "base_uri": "https://localhost:8080/"
        },
        "id": "fKHLLpBE4f_x",
        "outputId": "42461671-3c92-4af5-c909-2bb7a194ee21"
      },
      "outputs": [
        {
          "name": "stdout",
          "output_type": "stream",
          "text": [
            "Peserta adalah individu yang terdaftar dalam program BPJS Kesehatan.  Mereka berhak mendapatkan layanan kesehatan sesuai dengan kelas kepesertaan yang dipilih.  Dalam konteks PPU, peserta juga mencakup anggota keluarga. Pemberi kerja menanggung denda layanan bagi peserta PPU.\n"
          ]
        }
      ],
      "source": [
        "query = \"Siapakah yang dimaksud dengan Peserta?\"\n",
        "docs = retriever.invoke(query)\n",
        "response = chain.invoke({\"question\": query, \"context\": docs})\n",
        "print(response.content)"
      ]
    },
    {
      "cell_type": "code",
      "execution_count": null,
      "metadata": {
        "colab": {
          "base_uri": "https://localhost:8080/"
        },
        "id": "au7Tz-hN4kg1",
        "outputId": "9889a952-15f8-4948-e0e9-c934a828f9da"
      },
      "outputs": [
        {
          "name": "stdout",
          "output_type": "stream",
          "text": [
            "Virtual Account (VA) adalah nomor rekening virtual yang disediakan BPJS Kesehatan.  Nomor ini digunakan sebagai tujuan pembayaran iuran kesehatan bagi perorangan maupun entitas.  VA memudahkan proses pembayaran iuran.  Pembayaran dapat dilakukan melalui berbagai metode.\n"
          ]
        }
      ],
      "source": [
        "query = \"Apa yang dimaksud dengan Virtual Account (VA)\"\n",
        "docs = retriever.invoke(query)\n",
        "response = chain.invoke({\"question\": query, \"context\": docs})\n",
        "print(response.content)"
      ]
    },
    {
      "cell_type": "code",
      "execution_count": null,
      "metadata": {
        "colab": {
          "base_uri": "https://localhost:8080/"
        },
        "id": "klRVihMK5Hi8",
        "outputId": "aaee47ed-b404-49a0-9548-3a637627bd60"
      },
      "outputs": [
        {
          "name": "stdout",
          "output_type": "stream",
          "text": [
            "Collecting rouge_score\n",
            "  Downloading rouge_score-0.1.2.tar.gz (17 kB)\n",
            "  Preparing metadata (setup.py) ... \u001b[?25l\u001b[?25hdone\n",
            "Requirement already satisfied: absl-py in /usr/local/lib/python3.11/dist-packages (from rouge_score) (1.4.0)\n",
            "Requirement already satisfied: nltk in /usr/local/lib/python3.11/dist-packages (from rouge_score) (3.9.1)\n",
            "Requirement already satisfied: numpy in /usr/local/lib/python3.11/dist-packages (from rouge_score) (2.0.2)\n",
            "Requirement already satisfied: six>=1.14.0 in /usr/local/lib/python3.11/dist-packages (from rouge_score) (1.17.0)\n",
            "Requirement already satisfied: click in /usr/local/lib/python3.11/dist-packages (from nltk->rouge_score) (8.2.1)\n",
            "Requirement already satisfied: joblib in /usr/local/lib/python3.11/dist-packages (from nltk->rouge_score) (1.5.1)\n",
            "Requirement already satisfied: regex>=2021.8.3 in /usr/local/lib/python3.11/dist-packages (from nltk->rouge_score) (2024.11.6)\n",
            "Requirement already satisfied: tqdm in /usr/local/lib/python3.11/dist-packages (from nltk->rouge_score) (4.67.1)\n",
            "Building wheels for collected packages: rouge_score\n",
            "  Building wheel for rouge_score (setup.py) ... \u001b[?25l\u001b[?25hdone\n",
            "  Created wheel for rouge_score: filename=rouge_score-0.1.2-py3-none-any.whl size=24934 sha256=04acf067377509ec97f97f8c38262d40fa153cffc6da645fdf79455e95e6a7e6\n",
            "  Stored in directory: /root/.cache/pip/wheels/1e/19/43/8a442dc83660ca25e163e1bd1f89919284ab0d0c1475475148\n",
            "Successfully built rouge_score\n",
            "Installing collected packages: rouge_score\n",
            "Successfully installed rouge_score-0.1.2\n"
          ]
        }
      ],
      "source": [
        "!pip install rouge_score"
      ]
    },
    {
      "cell_type": "code",
      "execution_count": null,
      "metadata": {
        "colab": {
          "base_uri": "https://localhost:8080/"
        },
        "id": "VypovGdK4wwz",
        "outputId": "47800a7e-c987-47c8-b574-b4ba1fff1900"
      },
      "outputs": [
        {
          "name": "stdout",
          "output_type": "stream",
          "text": [
            "{'rouge1': Score(precision=0.08823529411764706, recall=0.13636363636363635, fmeasure=0.10714285714285714), 'rougeL': Score(precision=0.08823529411764706, recall=0.13636363636363635, fmeasure=0.10714285714285714)}\n"
          ]
        }
      ],
      "source": [
        "from rouge_score import rouge_scorer\n",
        "\n",
        "scorer = rouge_scorer.RougeScorer(['rouge1', 'rougeL'], use_stemmer=True)\n",
        "\n",
        "reference = \"Peserta adalah Semua  penduduk Indonesia, termasuk orang asing yang telah bekerja paling singkat 6 (enam) bulan di Indonesia dan telah membayar iuran\"\n",
        "generated = response.content\n",
        "scores = scorer.score(reference, generated)\n",
        "print(scores)\n",
        "# Output: {'rouge1': f1=0.5, 'rougeL': f1=0.6}"
      ]
    },
    {
      "cell_type": "code",
      "execution_count": null,
      "metadata": {
        "colab": {
          "base_uri": "https://localhost:8080/"
        },
        "id": "Aq48CaPfOnK6",
        "outputId": "ca6a5f15-e0d7-4815-ff9f-7821afdb013e"
      },
      "outputs": [
        {
          "name": "stdout",
          "output_type": "stream",
          "text": [
            "Collecting bert_score\n",
            "  Downloading bert_score-0.3.13-py3-none-any.whl.metadata (15 kB)\n",
            "Requirement already satisfied: torch>=1.0.0 in /usr/local/lib/python3.11/dist-packages (from bert_score) (2.6.0+cu124)\n",
            "Requirement already satisfied: pandas>=1.0.1 in /usr/local/lib/python3.11/dist-packages (from bert_score) (2.2.2)\n",
            "Requirement already satisfied: transformers>=3.0.0 in /usr/local/lib/python3.11/dist-packages (from bert_score) (4.55.1)\n",
            "Requirement already satisfied: numpy in /usr/local/lib/python3.11/dist-packages (from bert_score) (2.0.2)\n",
            "Requirement already satisfied: requests in /usr/local/lib/python3.11/dist-packages (from bert_score) (2.32.3)\n",
            "Requirement already satisfied: tqdm>=4.31.1 in /usr/local/lib/python3.11/dist-packages (from bert_score) (4.67.1)\n",
            "Requirement already satisfied: matplotlib in /usr/local/lib/python3.11/dist-packages (from bert_score) (3.10.0)\n",
            "Requirement already satisfied: packaging>=20.9 in /usr/local/lib/python3.11/dist-packages (from bert_score) (25.0)\n",
            "Requirement already satisfied: python-dateutil>=2.8.2 in /usr/local/lib/python3.11/dist-packages (from pandas>=1.0.1->bert_score) (2.9.0.post0)\n",
            "Requirement already satisfied: pytz>=2020.1 in /usr/local/lib/python3.11/dist-packages (from pandas>=1.0.1->bert_score) (2025.2)\n",
            "Requirement already satisfied: tzdata>=2022.7 in /usr/local/lib/python3.11/dist-packages (from pandas>=1.0.1->bert_score) (2025.2)\n",
            "Requirement already satisfied: filelock in /usr/local/lib/python3.11/dist-packages (from torch>=1.0.0->bert_score) (3.18.0)\n",
            "Requirement already satisfied: typing-extensions>=4.10.0 in /usr/local/lib/python3.11/dist-packages (from torch>=1.0.0->bert_score) (4.14.1)\n",
            "Requirement already satisfied: networkx in /usr/local/lib/python3.11/dist-packages (from torch>=1.0.0->bert_score) (3.5)\n",
            "Requirement already satisfied: jinja2 in /usr/local/lib/python3.11/dist-packages (from torch>=1.0.0->bert_score) (3.1.6)\n",
            "Requirement already satisfied: fsspec in /usr/local/lib/python3.11/dist-packages (from torch>=1.0.0->bert_score) (2025.3.0)\n",
            "Requirement already satisfied: nvidia-cuda-nvrtc-cu12==12.4.127 in /usr/local/lib/python3.11/dist-packages (from torch>=1.0.0->bert_score) (12.4.127)\n",
            "Requirement already satisfied: nvidia-cuda-runtime-cu12==12.4.127 in /usr/local/lib/python3.11/dist-packages (from torch>=1.0.0->bert_score) (12.4.127)\n",
            "Requirement already satisfied: nvidia-cuda-cupti-cu12==12.4.127 in /usr/local/lib/python3.11/dist-packages (from torch>=1.0.0->bert_score) (12.4.127)\n",
            "Requirement already satisfied: nvidia-cudnn-cu12==9.1.0.70 in /usr/local/lib/python3.11/dist-packages (from torch>=1.0.0->bert_score) (9.1.0.70)\n",
            "Requirement already satisfied: nvidia-cublas-cu12==12.4.5.8 in /usr/local/lib/python3.11/dist-packages (from torch>=1.0.0->bert_score) (12.4.5.8)\n",
            "Requirement already satisfied: nvidia-cufft-cu12==11.2.1.3 in /usr/local/lib/python3.11/dist-packages (from torch>=1.0.0->bert_score) (11.2.1.3)\n",
            "Requirement already satisfied: nvidia-curand-cu12==10.3.5.147 in /usr/local/lib/python3.11/dist-packages (from torch>=1.0.0->bert_score) (10.3.5.147)\n",
            "Requirement already satisfied: nvidia-cusolver-cu12==11.6.1.9 in /usr/local/lib/python3.11/dist-packages (from torch>=1.0.0->bert_score) (11.6.1.9)\n",
            "Requirement already satisfied: nvidia-cusparse-cu12==12.3.1.170 in /usr/local/lib/python3.11/dist-packages (from torch>=1.0.0->bert_score) (12.3.1.170)\n",
            "Requirement already satisfied: nvidia-cusparselt-cu12==0.6.2 in /usr/local/lib/python3.11/dist-packages (from torch>=1.0.0->bert_score) (0.6.2)\n",
            "Requirement already satisfied: nvidia-nccl-cu12==2.21.5 in /usr/local/lib/python3.11/dist-packages (from torch>=1.0.0->bert_score) (2.21.5)\n",
            "Requirement already satisfied: nvidia-nvtx-cu12==12.4.127 in /usr/local/lib/python3.11/dist-packages (from torch>=1.0.0->bert_score) (12.4.127)\n",
            "Requirement already satisfied: nvidia-nvjitlink-cu12==12.4.127 in /usr/local/lib/python3.11/dist-packages (from torch>=1.0.0->bert_score) (12.4.127)\n",
            "Requirement already satisfied: triton==3.2.0 in /usr/local/lib/python3.11/dist-packages (from torch>=1.0.0->bert_score) (3.2.0)\n",
            "Requirement already satisfied: sympy==1.13.1 in /usr/local/lib/python3.11/dist-packages (from torch>=1.0.0->bert_score) (1.13.1)\n",
            "Requirement already satisfied: mpmath<1.4,>=1.1.0 in /usr/local/lib/python3.11/dist-packages (from sympy==1.13.1->torch>=1.0.0->bert_score) (1.3.0)\n",
            "Requirement already satisfied: huggingface-hub<1.0,>=0.34.0 in /usr/local/lib/python3.11/dist-packages (from transformers>=3.0.0->bert_score) (0.34.4)\n",
            "Requirement already satisfied: pyyaml>=5.1 in /usr/local/lib/python3.11/dist-packages (from transformers>=3.0.0->bert_score) (6.0.2)\n",
            "Requirement already satisfied: regex!=2019.12.17 in /usr/local/lib/python3.11/dist-packages (from transformers>=3.0.0->bert_score) (2024.11.6)\n",
            "Requirement already satisfied: tokenizers<0.22,>=0.21 in /usr/local/lib/python3.11/dist-packages (from transformers>=3.0.0->bert_score) (0.21.4)\n",
            "Requirement already satisfied: safetensors>=0.4.3 in /usr/local/lib/python3.11/dist-packages (from transformers>=3.0.0->bert_score) (0.6.2)\n",
            "Requirement already satisfied: contourpy>=1.0.1 in /usr/local/lib/python3.11/dist-packages (from matplotlib->bert_score) (1.3.3)\n",
            "Requirement already satisfied: cycler>=0.10 in /usr/local/lib/python3.11/dist-packages (from matplotlib->bert_score) (0.12.1)\n",
            "Requirement already satisfied: fonttools>=4.22.0 in /usr/local/lib/python3.11/dist-packages (from matplotlib->bert_score) (4.59.0)\n",
            "Requirement already satisfied: kiwisolver>=1.3.1 in /usr/local/lib/python3.11/dist-packages (from matplotlib->bert_score) (1.4.9)\n",
            "Requirement already satisfied: pillow>=8 in /usr/local/lib/python3.11/dist-packages (from matplotlib->bert_score) (11.3.0)\n",
            "Requirement already satisfied: pyparsing>=2.3.1 in /usr/local/lib/python3.11/dist-packages (from matplotlib->bert_score) (3.2.3)\n",
            "Requirement already satisfied: charset-normalizer<4,>=2 in /usr/local/lib/python3.11/dist-packages (from requests->bert_score) (3.4.3)\n",
            "Requirement already satisfied: idna<4,>=2.5 in /usr/local/lib/python3.11/dist-packages (from requests->bert_score) (3.10)\n",
            "Requirement already satisfied: urllib3<3,>=1.21.1 in /usr/local/lib/python3.11/dist-packages (from requests->bert_score) (2.5.0)\n",
            "Requirement already satisfied: certifi>=2017.4.17 in /usr/local/lib/python3.11/dist-packages (from requests->bert_score) (2025.8.3)\n",
            "Requirement already satisfied: hf-xet<2.0.0,>=1.1.3 in /usr/local/lib/python3.11/dist-packages (from huggingface-hub<1.0,>=0.34.0->transformers>=3.0.0->bert_score) (1.1.7)\n",
            "Requirement already satisfied: six>=1.5 in /usr/local/lib/python3.11/dist-packages (from python-dateutil>=2.8.2->pandas>=1.0.1->bert_score) (1.17.0)\n",
            "Requirement already satisfied: MarkupSafe>=2.0 in /usr/local/lib/python3.11/dist-packages (from jinja2->torch>=1.0.0->bert_score) (3.0.2)\n",
            "Downloading bert_score-0.3.13-py3-none-any.whl (61 kB)\n",
            "\u001b[2K   \u001b[90m━━━━━━━━━━━━━━━━━━━━━━━━━━━━━━━━━━━━━━━━\u001b[0m \u001b[32m61.1/61.1 kB\u001b[0m \u001b[31m4.4 MB/s\u001b[0m eta \u001b[36m0:00:00\u001b[0m\n",
            "\u001b[?25hInstalling collected packages: bert_score\n",
            "Successfully installed bert_score-0.3.13\n"
          ]
        }
      ],
      "source": [
        "!pip install bert_score"
      ]
    },
    {
      "cell_type": "code",
      "execution_count": null,
      "metadata": {
        "colab": {
          "base_uri": "https://localhost:8080/"
        },
        "id": "ozkOeJ9X5Gk1",
        "outputId": "35475d69-e200-489b-d70d-ac0919b88619"
      },
      "outputs": [
        {
          "name": "stdout",
          "output_type": "stream",
          "text": [
            "BERTScore F1: 0.615\n"
          ]
        }
      ],
      "source": [
        "from bert_score import score\n",
        "\n",
        "references = [\"Apa yang dimaksud dengan Virtual Account (VA)\"]\n",
        "generated = [response.content]\n",
        "\n",
        "P, R, F1 = score(generated, references, lang=\"id\")  # gunakan 'en' jika bahasa Inggris\n",
        "print(f\"BERTScore F1: {F1.mean().item():.3f}\")  # Misal: 0.92 → sangat mirip secara makna"
      ]
    },
    {
      "cell_type": "code",
      "execution_count": null,
      "metadata": {
        "colab": {
          "base_uri": "https://localhost:8080/",
          "height": 424
        },
        "id": "1f9BXNmKTG7L",
        "outputId": "a086b825-e275-4adc-fd36-674ae21a056c"
      },
      "outputs": [
        {
          "data": {
            "application/vnd.google.colaboratory.intrinsic+json": {
              "summary": "{\n  \"name\": \"data\",\n  \"rows\": 132,\n  \"fields\": [\n    {\n      \"column\": \"question\",\n      \"properties\": {\n        \"dtype\": \"string\",\n        \"num_unique_values\": 130,\n        \"samples\": [\n          \"Cara Melakukan Perubahan Tambah  Peserta Dan Anggota Keluarga\",\n          \"Bagaimana Pelayanan di luar wilayah domisili\",\n          \"Apa syarat pendaftaran Perusahaan Asing\"\n        ],\n        \"semantic_type\": \"\",\n        \"description\": \"\"\n      }\n    },\n    {\n      \"column\": \"answer\",\n      \"properties\": {\n        \"dtype\": \"string\",\n        \"num_unique_values\": 128,\n        \"samples\": [\n          \"Peserta PPU dialihkan menjadi PPU lainnya berdasarkan surat pengantar pendaftaran dari Pimpinan Perusahaan yang baru. Kondisi tersebut  berlaku  bagi  peserta PPU aktif maupun PPU non aktif karena Badan Usaha lama menunggak iuran. Jenis kepesertaan Peserta PPU berlaku untuk bulan selanjutnya\",\n          \"Pelayanan Ambulan merupakan pelayanan transportasi pasien rujukan dengan kondisi tertentu antar fasilitas kesehatan untuk menjaga kestabilan kondisi dan keselamatan pasien yang meliputi pelayanan ambulan darat dan ambulan air untuk rujukan pada:\\na.\\tantar fasilitas kesehatan tingkat pertama;\\nb.\\tdari fasilitas kesehatan tingkat pertama ke fasilitas kesehatan rujukan tingkat lanjut;\\nc.\\tantar fasilitas kesehatan rujukan tingkat lanjutan\\nAdapun prosedur pelayanan ambulan sebagai berikut:\\na.\\tPasien yang mendapatkan pelayanan ambulan adalah pasien yang memerlukan evakuasi ke fasilitas kesehatan lain sesuai indikasi medis dan ketentuan penjaminan ambulan.\\nb.\\tPelayanan ambulan dijamin bila rujukan dilakukan pada fasilitas kesehatan yang bekerja sama dengan BPJS Kesehatan atau pada kasus gawat darurat dari fasilitas kesehatan yang tidak bekerja sama ke fasilitas kesehatan yang bekerja sama dengan BPJS Kesehatan.\\nc.\\tFasilitas kesehatan yang memiliki fasilitas ambulan dapat langsung memberikan pelayanan ambulan bagi pasien.\\nd.\\tFasilitas kesehatan yang tidak memiliki fasilitas ambulan, maka Fasilitas kesehatan berkoordinasi dengan penyedia ambulan\",\n          \"Syarat Pendaftaran antara lain :\\nNIB/MOU/PKS dengan Pemerintah dan NPWP Badan\"\n        ],\n        \"semantic_type\": \"\",\n        \"description\": \"\"\n      }\n    }\n  ]\n}",
              "type": "dataframe",
              "variable_name": "data"
            },
            "text/html": [
              "\n",
              "  <div id=\"df-55ddebf0-3166-49bf-9750-1f7ba04a6969\" class=\"colab-df-container\">\n",
              "    <div>\n",
              "<style scoped>\n",
              "    .dataframe tbody tr th:only-of-type {\n",
              "        vertical-align: middle;\n",
              "    }\n",
              "\n",
              "    .dataframe tbody tr th {\n",
              "        vertical-align: top;\n",
              "    }\n",
              "\n",
              "    .dataframe thead th {\n",
              "        text-align: right;\n",
              "    }\n",
              "</style>\n",
              "<table border=\"1\" class=\"dataframe\">\n",
              "  <thead>\n",
              "    <tr style=\"text-align: right;\">\n",
              "      <th></th>\n",
              "      <th>question</th>\n",
              "      <th>answer</th>\n",
              "    </tr>\n",
              "  </thead>\n",
              "  <tbody>\n",
              "    <tr>\n",
              "      <th>0</th>\n",
              "      <td>Bagaimana kebijakan pengenaan  denda  akibat k...</td>\n",
              "      <td>1 . Bahwa apabila dalam waktu 45 (empat puluh ...</td>\n",
              "    </tr>\n",
              "    <tr>\n",
              "      <th>1</th>\n",
              "      <td>Dokumen Pendukung yang Dibutuhkan Dalam Mengaj...</td>\n",
              "      <td>1.     Dokumen data Peserta dan anggota keluar...</td>\n",
              "    </tr>\n",
              "    <tr>\n",
              "      <th>2</th>\n",
              "      <td>Bagaimana Ketentuan Mengenai Penjaminan 6 Bula...</td>\n",
              "      <td>a.\\tPeserta PPU yang mengalami PHK dan membutu...</td>\n",
              "    </tr>\n",
              "    <tr>\n",
              "      <th>3</th>\n",
              "      <td>Mekanisme Pelaporan Pekerja Terkena PHK</td>\n",
              "      <td>a.\\tBukti PHK sesuai ketentuan, disampaikan ol...</td>\n",
              "    </tr>\n",
              "    <tr>\n",
              "      <th>4</th>\n",
              "      <td>Bukti Pekerja terkena PHK yang mendapat Jamina...</td>\n",
              "      <td>1. dibuktikan dengan:\\na.\\tbukti diterimanya P...</td>\n",
              "    </tr>\n",
              "    <tr>\n",
              "      <th>...</th>\n",
              "      <td>...</td>\n",
              "      <td>...</td>\n",
              "    </tr>\n",
              "    <tr>\n",
              "      <th>127</th>\n",
              "      <td>Siapa yang dimaksud Pekerja Bukan Penerima Upah</td>\n",
              "      <td>Pekerja Bukan Penerima Upah adalah setiap oran...</td>\n",
              "    </tr>\n",
              "    <tr>\n",
              "      <th>128</th>\n",
              "      <td>Siapa yang dimaksud dengan Pekerja</td>\n",
              "      <td>Pekerja adalah setiap orang yang bekerja denga...</td>\n",
              "    </tr>\n",
              "    <tr>\n",
              "      <th>129</th>\n",
              "      <td>Siapakah yang dimaksud dengan Peserta</td>\n",
              "      <td>Peserta adalah Semua  penduduk Indonesia, term...</td>\n",
              "    </tr>\n",
              "    <tr>\n",
              "      <th>130</th>\n",
              "      <td>Apakah yang dimaksud dengan Iuran Jaminan Kese...</td>\n",
              "      <td>Iuran Jaminan Kesehatan adalah sejumlah uang y...</td>\n",
              "    </tr>\n",
              "    <tr>\n",
              "      <th>131</th>\n",
              "      <td>Apakah yang dimaksud dengan BPJS Kesehatan</td>\n",
              "      <td>BPJS Kesehatan adalah badan hukum yang dibentu...</td>\n",
              "    </tr>\n",
              "  </tbody>\n",
              "</table>\n",
              "<p>132 rows × 2 columns</p>\n",
              "</div>\n",
              "    <div class=\"colab-df-buttons\">\n",
              "\n",
              "  <div class=\"colab-df-container\">\n",
              "    <button class=\"colab-df-convert\" onclick=\"convertToInteractive('df-55ddebf0-3166-49bf-9750-1f7ba04a6969')\"\n",
              "            title=\"Convert this dataframe to an interactive table.\"\n",
              "            style=\"display:none;\">\n",
              "\n",
              "  <svg xmlns=\"http://www.w3.org/2000/svg\" height=\"24px\" viewBox=\"0 -960 960 960\">\n",
              "    <path d=\"M120-120v-720h720v720H120Zm60-500h600v-160H180v160Zm220 220h160v-160H400v160Zm0 220h160v-160H400v160ZM180-400h160v-160H180v160Zm440 0h160v-160H620v160ZM180-180h160v-160H180v160Zm440 0h160v-160H620v160Z\"/>\n",
              "  </svg>\n",
              "    </button>\n",
              "\n",
              "  <style>\n",
              "    .colab-df-container {\n",
              "      display:flex;\n",
              "      gap: 12px;\n",
              "    }\n",
              "\n",
              "    .colab-df-convert {\n",
              "      background-color: #E8F0FE;\n",
              "      border: none;\n",
              "      border-radius: 50%;\n",
              "      cursor: pointer;\n",
              "      display: none;\n",
              "      fill: #1967D2;\n",
              "      height: 32px;\n",
              "      padding: 0 0 0 0;\n",
              "      width: 32px;\n",
              "    }\n",
              "\n",
              "    .colab-df-convert:hover {\n",
              "      background-color: #E2EBFA;\n",
              "      box-shadow: 0px 1px 2px rgba(60, 64, 67, 0.3), 0px 1px 3px 1px rgba(60, 64, 67, 0.15);\n",
              "      fill: #174EA6;\n",
              "    }\n",
              "\n",
              "    .colab-df-buttons div {\n",
              "      margin-bottom: 4px;\n",
              "    }\n",
              "\n",
              "    [theme=dark] .colab-df-convert {\n",
              "      background-color: #3B4455;\n",
              "      fill: #D2E3FC;\n",
              "    }\n",
              "\n",
              "    [theme=dark] .colab-df-convert:hover {\n",
              "      background-color: #434B5C;\n",
              "      box-shadow: 0px 1px 3px 1px rgba(0, 0, 0, 0.15);\n",
              "      filter: drop-shadow(0px 1px 2px rgba(0, 0, 0, 0.3));\n",
              "      fill: #FFFFFF;\n",
              "    }\n",
              "  </style>\n",
              "\n",
              "    <script>\n",
              "      const buttonEl =\n",
              "        document.querySelector('#df-55ddebf0-3166-49bf-9750-1f7ba04a6969 button.colab-df-convert');\n",
              "      buttonEl.style.display =\n",
              "        google.colab.kernel.accessAllowed ? 'block' : 'none';\n",
              "\n",
              "      async function convertToInteractive(key) {\n",
              "        const element = document.querySelector('#df-55ddebf0-3166-49bf-9750-1f7ba04a6969');\n",
              "        const dataTable =\n",
              "          await google.colab.kernel.invokeFunction('convertToInteractive',\n",
              "                                                    [key], {});\n",
              "        if (!dataTable) return;\n",
              "\n",
              "        const docLinkHtml = 'Like what you see? Visit the ' +\n",
              "          '<a target=\"_blank\" href=https://colab.research.google.com/notebooks/data_table.ipynb>data table notebook</a>'\n",
              "          + ' to learn more about interactive tables.';\n",
              "        element.innerHTML = '';\n",
              "        dataTable['output_type'] = 'display_data';\n",
              "        await google.colab.output.renderOutput(dataTable, element);\n",
              "        const docLink = document.createElement('div');\n",
              "        docLink.innerHTML = docLinkHtml;\n",
              "        element.appendChild(docLink);\n",
              "      }\n",
              "    </script>\n",
              "  </div>\n",
              "\n",
              "\n",
              "    <div id=\"df-a56df070-ef7e-4083-a90b-4162ec7bbad6\">\n",
              "      <button class=\"colab-df-quickchart\" onclick=\"quickchart('df-a56df070-ef7e-4083-a90b-4162ec7bbad6')\"\n",
              "                title=\"Suggest charts\"\n",
              "                style=\"display:none;\">\n",
              "\n",
              "<svg xmlns=\"http://www.w3.org/2000/svg\" height=\"24px\"viewBox=\"0 0 24 24\"\n",
              "     width=\"24px\">\n",
              "    <g>\n",
              "        <path d=\"M19 3H5c-1.1 0-2 .9-2 2v14c0 1.1.9 2 2 2h14c1.1 0 2-.9 2-2V5c0-1.1-.9-2-2-2zM9 17H7v-7h2v7zm4 0h-2V7h2v10zm4 0h-2v-4h2v4z\"/>\n",
              "    </g>\n",
              "</svg>\n",
              "      </button>\n",
              "\n",
              "<style>\n",
              "  .colab-df-quickchart {\n",
              "      --bg-color: #E8F0FE;\n",
              "      --fill-color: #1967D2;\n",
              "      --hover-bg-color: #E2EBFA;\n",
              "      --hover-fill-color: #174EA6;\n",
              "      --disabled-fill-color: #AAA;\n",
              "      --disabled-bg-color: #DDD;\n",
              "  }\n",
              "\n",
              "  [theme=dark] .colab-df-quickchart {\n",
              "      --bg-color: #3B4455;\n",
              "      --fill-color: #D2E3FC;\n",
              "      --hover-bg-color: #434B5C;\n",
              "      --hover-fill-color: #FFFFFF;\n",
              "      --disabled-bg-color: #3B4455;\n",
              "      --disabled-fill-color: #666;\n",
              "  }\n",
              "\n",
              "  .colab-df-quickchart {\n",
              "    background-color: var(--bg-color);\n",
              "    border: none;\n",
              "    border-radius: 50%;\n",
              "    cursor: pointer;\n",
              "    display: none;\n",
              "    fill: var(--fill-color);\n",
              "    height: 32px;\n",
              "    padding: 0;\n",
              "    width: 32px;\n",
              "  }\n",
              "\n",
              "  .colab-df-quickchart:hover {\n",
              "    background-color: var(--hover-bg-color);\n",
              "    box-shadow: 0 1px 2px rgba(60, 64, 67, 0.3), 0 1px 3px 1px rgba(60, 64, 67, 0.15);\n",
              "    fill: var(--button-hover-fill-color);\n",
              "  }\n",
              "\n",
              "  .colab-df-quickchart-complete:disabled,\n",
              "  .colab-df-quickchart-complete:disabled:hover {\n",
              "    background-color: var(--disabled-bg-color);\n",
              "    fill: var(--disabled-fill-color);\n",
              "    box-shadow: none;\n",
              "  }\n",
              "\n",
              "  .colab-df-spinner {\n",
              "    border: 2px solid var(--fill-color);\n",
              "    border-color: transparent;\n",
              "    border-bottom-color: var(--fill-color);\n",
              "    animation:\n",
              "      spin 1s steps(1) infinite;\n",
              "  }\n",
              "\n",
              "  @keyframes spin {\n",
              "    0% {\n",
              "      border-color: transparent;\n",
              "      border-bottom-color: var(--fill-color);\n",
              "      border-left-color: var(--fill-color);\n",
              "    }\n",
              "    20% {\n",
              "      border-color: transparent;\n",
              "      border-left-color: var(--fill-color);\n",
              "      border-top-color: var(--fill-color);\n",
              "    }\n",
              "    30% {\n",
              "      border-color: transparent;\n",
              "      border-left-color: var(--fill-color);\n",
              "      border-top-color: var(--fill-color);\n",
              "      border-right-color: var(--fill-color);\n",
              "    }\n",
              "    40% {\n",
              "      border-color: transparent;\n",
              "      border-right-color: var(--fill-color);\n",
              "      border-top-color: var(--fill-color);\n",
              "    }\n",
              "    60% {\n",
              "      border-color: transparent;\n",
              "      border-right-color: var(--fill-color);\n",
              "    }\n",
              "    80% {\n",
              "      border-color: transparent;\n",
              "      border-right-color: var(--fill-color);\n",
              "      border-bottom-color: var(--fill-color);\n",
              "    }\n",
              "    90% {\n",
              "      border-color: transparent;\n",
              "      border-bottom-color: var(--fill-color);\n",
              "    }\n",
              "  }\n",
              "</style>\n",
              "\n",
              "      <script>\n",
              "        async function quickchart(key) {\n",
              "          const quickchartButtonEl =\n",
              "            document.querySelector('#' + key + ' button');\n",
              "          quickchartButtonEl.disabled = true;  // To prevent multiple clicks.\n",
              "          quickchartButtonEl.classList.add('colab-df-spinner');\n",
              "          try {\n",
              "            const charts = await google.colab.kernel.invokeFunction(\n",
              "                'suggestCharts', [key], {});\n",
              "          } catch (error) {\n",
              "            console.error('Error during call to suggestCharts:', error);\n",
              "          }\n",
              "          quickchartButtonEl.classList.remove('colab-df-spinner');\n",
              "          quickchartButtonEl.classList.add('colab-df-quickchart-complete');\n",
              "        }\n",
              "        (() => {\n",
              "          let quickchartButtonEl =\n",
              "            document.querySelector('#df-a56df070-ef7e-4083-a90b-4162ec7bbad6 button');\n",
              "          quickchartButtonEl.style.display =\n",
              "            google.colab.kernel.accessAllowed ? 'block' : 'none';\n",
              "        })();\n",
              "      </script>\n",
              "    </div>\n",
              "\n",
              "  <div id=\"id_a7e98627-4d6f-4830-9f90-47973dc7c07f\">\n",
              "    <style>\n",
              "      .colab-df-generate {\n",
              "        background-color: #E8F0FE;\n",
              "        border: none;\n",
              "        border-radius: 50%;\n",
              "        cursor: pointer;\n",
              "        display: none;\n",
              "        fill: #1967D2;\n",
              "        height: 32px;\n",
              "        padding: 0 0 0 0;\n",
              "        width: 32px;\n",
              "      }\n",
              "\n",
              "      .colab-df-generate:hover {\n",
              "        background-color: #E2EBFA;\n",
              "        box-shadow: 0px 1px 2px rgba(60, 64, 67, 0.3), 0px 1px 3px 1px rgba(60, 64, 67, 0.15);\n",
              "        fill: #174EA6;\n",
              "      }\n",
              "\n",
              "      [theme=dark] .colab-df-generate {\n",
              "        background-color: #3B4455;\n",
              "        fill: #D2E3FC;\n",
              "      }\n",
              "\n",
              "      [theme=dark] .colab-df-generate:hover {\n",
              "        background-color: #434B5C;\n",
              "        box-shadow: 0px 1px 3px 1px rgba(0, 0, 0, 0.15);\n",
              "        filter: drop-shadow(0px 1px 2px rgba(0, 0, 0, 0.3));\n",
              "        fill: #FFFFFF;\n",
              "      }\n",
              "    </style>\n",
              "    <button class=\"colab-df-generate\" onclick=\"generateWithVariable('data')\"\n",
              "            title=\"Generate code using this dataframe.\"\n",
              "            style=\"display:none;\">\n",
              "\n",
              "  <svg xmlns=\"http://www.w3.org/2000/svg\" height=\"24px\"viewBox=\"0 0 24 24\"\n",
              "       width=\"24px\">\n",
              "    <path d=\"M7,19H8.4L18.45,9,17,7.55,7,17.6ZM5,21V16.75L18.45,3.32a2,2,0,0,1,2.83,0l1.4,1.43a1.91,1.91,0,0,1,.58,1.4,1.91,1.91,0,0,1-.58,1.4L9.25,21ZM18.45,9,17,7.55Zm-12,3A5.31,5.31,0,0,0,4.9,8.1,5.31,5.31,0,0,0,1,6.5,5.31,5.31,0,0,0,4.9,4.9,5.31,5.31,0,0,0,6.5,1,5.31,5.31,0,0,0,8.1,4.9,5.31,5.31,0,0,0,12,6.5,5.46,5.46,0,0,0,6.5,12Z\"/>\n",
              "  </svg>\n",
              "    </button>\n",
              "    <script>\n",
              "      (() => {\n",
              "      const buttonEl =\n",
              "        document.querySelector('#id_a7e98627-4d6f-4830-9f90-47973dc7c07f button.colab-df-generate');\n",
              "      buttonEl.style.display =\n",
              "        google.colab.kernel.accessAllowed ? 'block' : 'none';\n",
              "\n",
              "      buttonEl.onclick = () => {\n",
              "        google.colab.notebook.generateWithVariable('data');\n",
              "      }\n",
              "      })();\n",
              "    </script>\n",
              "  </div>\n",
              "\n",
              "    </div>\n",
              "  </div>\n"
            ],
            "text/plain": [
              "                                              question  \\\n",
              "0    Bagaimana kebijakan pengenaan  denda  akibat k...   \n",
              "1    Dokumen Pendukung yang Dibutuhkan Dalam Mengaj...   \n",
              "2    Bagaimana Ketentuan Mengenai Penjaminan 6 Bula...   \n",
              "3              Mekanisme Pelaporan Pekerja Terkena PHK   \n",
              "4    Bukti Pekerja terkena PHK yang mendapat Jamina...   \n",
              "..                                                 ...   \n",
              "127    Siapa yang dimaksud Pekerja Bukan Penerima Upah   \n",
              "128                 Siapa yang dimaksud dengan Pekerja   \n",
              "129              Siapakah yang dimaksud dengan Peserta   \n",
              "130  Apakah yang dimaksud dengan Iuran Jaminan Kese...   \n",
              "131         Apakah yang dimaksud dengan BPJS Kesehatan   \n",
              "\n",
              "                                                answer  \n",
              "0    1 . Bahwa apabila dalam waktu 45 (empat puluh ...  \n",
              "1    1.     Dokumen data Peserta dan anggota keluar...  \n",
              "2    a.\\tPeserta PPU yang mengalami PHK dan membutu...  \n",
              "3    a.\\tBukti PHK sesuai ketentuan, disampaikan ol...  \n",
              "4    1. dibuktikan dengan:\\na.\\tbukti diterimanya P...  \n",
              "..                                                 ...  \n",
              "127  Pekerja Bukan Penerima Upah adalah setiap oran...  \n",
              "128  Pekerja adalah setiap orang yang bekerja denga...  \n",
              "129  Peserta adalah Semua  penduduk Indonesia, term...  \n",
              "130  Iuran Jaminan Kesehatan adalah sejumlah uang y...  \n",
              "131  BPJS Kesehatan adalah badan hukum yang dibentu...  \n",
              "\n",
              "[132 rows x 2 columns]"
            ]
          },
          "execution_count": 47,
          "metadata": {},
          "output_type": "execute_result"
        }
      ],
      "source": [
        "import pandas as pd\n",
        "data = pd.read_json(\"/content/drive/MyDrive/RisetQA/dataset_qa.json\")\n",
        "data"
      ]
    },
    {
      "cell_type": "code",
      "execution_count": null,
      "metadata": {
        "colab": {
          "base_uri": "https://localhost:8080/",
          "height": 1000
        },
        "id": "J9gzdDBpTVKL",
        "outputId": "ba024b51-bdfa-4134-a2e9-cd7144892cff"
      },
      "outputs": [
        {
          "name": "stdout",
          "output_type": "stream",
          "text": [
            "BERTScore F1 for question 'Bagaimana kebijakan pengenaan  denda  akibat keterlambatan pembayaran iuran Jaminan Kesehatan   ?': 0.762\n",
            "BERTScore F1 for question 'Dokumen Pendukung yang Dibutuhkan Dalam Mengajukan Penjaminan 6 Bulan Bagi Pekerja yang terkena PHK': 0.759\n",
            "BERTScore F1 for question 'Bagaimana Ketentuan Mengenai Penjaminan 6 Bulan Bagi Pekerja yang terkena PHK': 0.741\n",
            "BERTScore F1 for question 'Mekanisme Pelaporan Pekerja Terkena PHK': 0.816\n",
            "BERTScore F1 for question 'Bukti Pekerja terkena PHK yang mendapat Jaminan 6 Bulan tanpa membayar iuran?': 0.770\n",
            "BERTScore F1 for question 'cara Melakukan Perubahan Fasilitas Kesehatan Tingkat Pertama (FKTP)': 0.640\n",
            "BERTScore F1 for question 'Bagaimana menentukan Fasiltas Kesehatan Tingkat Pertama (FKTP)  bagi  Peserta pertama kali ?': 0.812\n",
            "BERTScore F1 for question 'Bagaimana keikutsertaan Penduduk Indonesia dalam Program JKN ?': 0.762\n",
            "BERTScore F1 for question 'Siapa yang menanggung denda layanan bagi peserta PPU ?': 0.722\n",
            "BERTScore F1 for question 'Apakah Jam operasional layanan peserta di Kantor Cabang BPJS Kesehatan berbeda selama bulan Ramadan 1445H?': 0.807\n",
            "BERTScore F1 for question 'Bagaimana cara mengaktifkan kartu anak Pekerja Penerima Upah (PPU) yang masih kuliah': 0.816\n",
            "BERTScore F1 for question 'Bagaimana Jika Kartu Peserta Hilang': 0.754\n",
            "BERTScore F1 for question 'Syarat dan Cara Daftar Bayi Baru Lahir?': 0.707\n",
            "BERTScore F1 for question 'Bagaimana Jika Peserta Menginginkan Kenaikan Kelas Perawatan atau pelayanan rawat jalan eksekutif': 0.660\n",
            "BERTScore F1 for question 'Ketentuan Penjaminan Kaca Mata?': 0.719\n"
          ]
        },
        {
          "name": "stderr",
          "output_type": "stream",
          "text": [
            "WARNING:langchain_google_genai.chat_models:Retrying langchain_google_genai.chat_models._chat_with_retry.<locals>._chat_with_retry in 2.0 seconds as it raised ResourceExhausted: 429 You exceeded your current quota, please check your plan and billing details. For more information on this error, head to: https://ai.google.dev/gemini-api/docs/rate-limits. [violations {\n",
            "  quota_metric: \"generativelanguage.googleapis.com/generate_content_free_tier_requests\"\n",
            "  quota_id: \"GenerateRequestsPerMinutePerProjectPerModel-FreeTier\"\n",
            "  quota_dimensions {\n",
            "    key: \"model\"\n",
            "    value: \"gemini-1.5-flash\"\n",
            "  }\n",
            "  quota_dimensions {\n",
            "    key: \"location\"\n",
            "    value: \"global\"\n",
            "  }\n",
            "  quota_value: 15\n",
            "}\n",
            ", links {\n",
            "  description: \"Learn more about Gemini API quotas\"\n",
            "  url: \"https://ai.google.dev/gemini-api/docs/rate-limits\"\n",
            "}\n",
            ", retry_delay {\n",
            "  seconds: 7\n",
            "}\n",
            "].\n"
          ]
        },
        {
          "name": "stdout",
          "output_type": "stream",
          "text": [
            "BERTScore F1 for question 'Apa syarat pendaftaran Rumah Ibadah Asosiasi / organisasi': 0.753\n"
          ]
        },
        {
          "ename": "ResourceExhausted",
          "evalue": "429 You exceeded your current quota, please check your plan and billing details. For more information on this error, head to: https://ai.google.dev/gemini-api/docs/rate-limits. [violations {\n  quota_metric: \"generativelanguage.googleapis.com/generate_content_free_tier_requests\"\n  quota_id: \"GenerateRequestsPerMinutePerProjectPerModel-FreeTier\"\n  quota_dimensions {\n    key: \"model\"\n    value: \"gemini-1.5-flash\"\n  }\n  quota_dimensions {\n    key: \"location\"\n    value: \"global\"\n  }\n  quota_value: 15\n}\n, links {\n  description: \"Learn more about Gemini API quotas\"\n  url: \"https://ai.google.dev/gemini-api/docs/rate-limits\"\n}\n, retry_delay {\n  seconds: 5\n}\n]",
          "output_type": "error",
          "traceback": [
            "\u001b[0;31m---------------------------------------------------------------------------\u001b[0m",
            "\u001b[0;31mResourceExhausted\u001b[0m                         Traceback (most recent call last)",
            "\u001b[0;32m/tmp/ipython-input-2811915121.py\u001b[0m in \u001b[0;36m<cell line: 0>\u001b[0;34m()\u001b[0m\n\u001b[1;32m      8\u001b[0m     \u001b[0mquery\u001b[0m \u001b[0;34m=\u001b[0m \u001b[0mq\u001b[0m\u001b[0;34m\u001b[0m\u001b[0;34m\u001b[0m\u001b[0m\n\u001b[1;32m      9\u001b[0m     \u001b[0mdocs\u001b[0m \u001b[0;34m=\u001b[0m \u001b[0mretriever\u001b[0m\u001b[0;34m.\u001b[0m\u001b[0minvoke\u001b[0m\u001b[0;34m(\u001b[0m\u001b[0mquery\u001b[0m\u001b[0;34m)\u001b[0m\u001b[0;34m\u001b[0m\u001b[0;34m\u001b[0m\u001b[0m\n\u001b[0;32m---> 10\u001b[0;31m     \u001b[0mresponse\u001b[0m \u001b[0;34m=\u001b[0m \u001b[0mchain\u001b[0m\u001b[0;34m.\u001b[0m\u001b[0minvoke\u001b[0m\u001b[0;34m(\u001b[0m\u001b[0;34m{\u001b[0m\u001b[0;34m\"question\"\u001b[0m\u001b[0;34m:\u001b[0m \u001b[0mquery\u001b[0m\u001b[0;34m,\u001b[0m \u001b[0;34m\"context\"\u001b[0m\u001b[0;34m:\u001b[0m \u001b[0mdocs\u001b[0m\u001b[0;34m}\u001b[0m\u001b[0;34m)\u001b[0m\u001b[0;34m\u001b[0m\u001b[0;34m\u001b[0m\u001b[0m\n\u001b[0m\u001b[1;32m     11\u001b[0m \u001b[0;34m\u001b[0m\u001b[0m\n\u001b[1;32m     12\u001b[0m     \u001b[0mreferences\u001b[0m \u001b[0;34m=\u001b[0m \u001b[0;34m[\u001b[0m\u001b[0ma\u001b[0m\u001b[0;34m]\u001b[0m  \u001b[0;31m# Jawaban referensi\u001b[0m\u001b[0;34m\u001b[0m\u001b[0;34m\u001b[0m\u001b[0m\n",
            "\u001b[0;32m/usr/local/lib/python3.11/dist-packages/langchain_core/runnables/base.py\u001b[0m in \u001b[0;36minvoke\u001b[0;34m(self, input, config, **kwargs)\u001b[0m\n\u001b[1;32m   3047\u001b[0m                         \u001b[0minput_\u001b[0m \u001b[0;34m=\u001b[0m \u001b[0mcontext\u001b[0m\u001b[0;34m.\u001b[0m\u001b[0mrun\u001b[0m\u001b[0;34m(\u001b[0m\u001b[0mstep\u001b[0m\u001b[0;34m.\u001b[0m\u001b[0minvoke\u001b[0m\u001b[0;34m,\u001b[0m \u001b[0minput_\u001b[0m\u001b[0;34m,\u001b[0m \u001b[0mconfig\u001b[0m\u001b[0;34m,\u001b[0m \u001b[0;34m**\u001b[0m\u001b[0mkwargs\u001b[0m\u001b[0;34m)\u001b[0m\u001b[0;34m\u001b[0m\u001b[0;34m\u001b[0m\u001b[0m\n\u001b[1;32m   3048\u001b[0m                     \u001b[0;32melse\u001b[0m\u001b[0;34m:\u001b[0m\u001b[0;34m\u001b[0m\u001b[0;34m\u001b[0m\u001b[0m\n\u001b[0;32m-> 3049\u001b[0;31m                         \u001b[0minput_\u001b[0m \u001b[0;34m=\u001b[0m \u001b[0mcontext\u001b[0m\u001b[0;34m.\u001b[0m\u001b[0mrun\u001b[0m\u001b[0;34m(\u001b[0m\u001b[0mstep\u001b[0m\u001b[0;34m.\u001b[0m\u001b[0minvoke\u001b[0m\u001b[0;34m,\u001b[0m \u001b[0minput_\u001b[0m\u001b[0;34m,\u001b[0m \u001b[0mconfig\u001b[0m\u001b[0;34m)\u001b[0m\u001b[0;34m\u001b[0m\u001b[0;34m\u001b[0m\u001b[0m\n\u001b[0m\u001b[1;32m   3050\u001b[0m         \u001b[0;31m# finish the root run\u001b[0m\u001b[0;34m\u001b[0m\u001b[0;34m\u001b[0m\u001b[0m\n\u001b[1;32m   3051\u001b[0m         \u001b[0;32mexcept\u001b[0m \u001b[0mBaseException\u001b[0m \u001b[0;32mas\u001b[0m \u001b[0me\u001b[0m\u001b[0;34m:\u001b[0m\u001b[0;34m\u001b[0m\u001b[0;34m\u001b[0m\u001b[0m\n",
            "\u001b[0;32m/usr/local/lib/python3.11/dist-packages/langchain_core/language_models/chat_models.py\u001b[0m in \u001b[0;36minvoke\u001b[0;34m(self, input, config, stop, **kwargs)\u001b[0m\n\u001b[1;32m    381\u001b[0m         return cast(\n\u001b[1;32m    382\u001b[0m             \u001b[0;34m\"ChatGeneration\"\u001b[0m\u001b[0;34m,\u001b[0m\u001b[0;34m\u001b[0m\u001b[0;34m\u001b[0m\u001b[0m\n\u001b[0;32m--> 383\u001b[0;31m             self.generate_prompt(\n\u001b[0m\u001b[1;32m    384\u001b[0m                 \u001b[0;34m[\u001b[0m\u001b[0mself\u001b[0m\u001b[0;34m.\u001b[0m\u001b[0m_convert_input\u001b[0m\u001b[0;34m(\u001b[0m\u001b[0minput\u001b[0m\u001b[0;34m)\u001b[0m\u001b[0;34m]\u001b[0m\u001b[0;34m,\u001b[0m\u001b[0;34m\u001b[0m\u001b[0;34m\u001b[0m\u001b[0m\n\u001b[1;32m    385\u001b[0m                 \u001b[0mstop\u001b[0m\u001b[0;34m=\u001b[0m\u001b[0mstop\u001b[0m\u001b[0;34m,\u001b[0m\u001b[0;34m\u001b[0m\u001b[0;34m\u001b[0m\u001b[0m\n",
            "\u001b[0;32m/usr/local/lib/python3.11/dist-packages/langchain_core/language_models/chat_models.py\u001b[0m in \u001b[0;36mgenerate_prompt\u001b[0;34m(self, prompts, stop, callbacks, **kwargs)\u001b[0m\n\u001b[1;32m   1004\u001b[0m     ) -> LLMResult:\n\u001b[1;32m   1005\u001b[0m         \u001b[0mprompt_messages\u001b[0m \u001b[0;34m=\u001b[0m \u001b[0;34m[\u001b[0m\u001b[0mp\u001b[0m\u001b[0;34m.\u001b[0m\u001b[0mto_messages\u001b[0m\u001b[0;34m(\u001b[0m\u001b[0;34m)\u001b[0m \u001b[0;32mfor\u001b[0m \u001b[0mp\u001b[0m \u001b[0;32min\u001b[0m \u001b[0mprompts\u001b[0m\u001b[0;34m]\u001b[0m\u001b[0;34m\u001b[0m\u001b[0;34m\u001b[0m\u001b[0m\n\u001b[0;32m-> 1006\u001b[0;31m         \u001b[0;32mreturn\u001b[0m \u001b[0mself\u001b[0m\u001b[0;34m.\u001b[0m\u001b[0mgenerate\u001b[0m\u001b[0;34m(\u001b[0m\u001b[0mprompt_messages\u001b[0m\u001b[0;34m,\u001b[0m \u001b[0mstop\u001b[0m\u001b[0;34m=\u001b[0m\u001b[0mstop\u001b[0m\u001b[0;34m,\u001b[0m \u001b[0mcallbacks\u001b[0m\u001b[0;34m=\u001b[0m\u001b[0mcallbacks\u001b[0m\u001b[0;34m,\u001b[0m \u001b[0;34m**\u001b[0m\u001b[0mkwargs\u001b[0m\u001b[0;34m)\u001b[0m\u001b[0;34m\u001b[0m\u001b[0;34m\u001b[0m\u001b[0m\n\u001b[0m\u001b[1;32m   1007\u001b[0m \u001b[0;34m\u001b[0m\u001b[0m\n\u001b[1;32m   1008\u001b[0m     \u001b[0;34m@\u001b[0m\u001b[0moverride\u001b[0m\u001b[0;34m\u001b[0m\u001b[0;34m\u001b[0m\u001b[0m\n",
            "\u001b[0;32m/usr/local/lib/python3.11/dist-packages/langchain_core/language_models/chat_models.py\u001b[0m in \u001b[0;36mgenerate\u001b[0;34m(self, messages, stop, callbacks, tags, metadata, run_name, run_id, **kwargs)\u001b[0m\n\u001b[1;32m    823\u001b[0m             \u001b[0;32mtry\u001b[0m\u001b[0;34m:\u001b[0m\u001b[0;34m\u001b[0m\u001b[0;34m\u001b[0m\u001b[0m\n\u001b[1;32m    824\u001b[0m                 results.append(\n\u001b[0;32m--> 825\u001b[0;31m                     self._generate_with_cache(\n\u001b[0m\u001b[1;32m    826\u001b[0m                         \u001b[0mm\u001b[0m\u001b[0;34m,\u001b[0m\u001b[0;34m\u001b[0m\u001b[0;34m\u001b[0m\u001b[0m\n\u001b[1;32m    827\u001b[0m                         \u001b[0mstop\u001b[0m\u001b[0;34m=\u001b[0m\u001b[0mstop\u001b[0m\u001b[0;34m,\u001b[0m\u001b[0;34m\u001b[0m\u001b[0;34m\u001b[0m\u001b[0m\n",
            "\u001b[0;32m/usr/local/lib/python3.11/dist-packages/langchain_core/language_models/chat_models.py\u001b[0m in \u001b[0;36m_generate_with_cache\u001b[0;34m(self, messages, stop, run_manager, **kwargs)\u001b[0m\n\u001b[1;32m   1070\u001b[0m             \u001b[0mresult\u001b[0m \u001b[0;34m=\u001b[0m \u001b[0mgenerate_from_stream\u001b[0m\u001b[0;34m(\u001b[0m\u001b[0miter\u001b[0m\u001b[0;34m(\u001b[0m\u001b[0mchunks\u001b[0m\u001b[0;34m)\u001b[0m\u001b[0;34m)\u001b[0m\u001b[0;34m\u001b[0m\u001b[0;34m\u001b[0m\u001b[0m\n\u001b[1;32m   1071\u001b[0m         \u001b[0;32melif\u001b[0m \u001b[0minspect\u001b[0m\u001b[0;34m.\u001b[0m\u001b[0msignature\u001b[0m\u001b[0;34m(\u001b[0m\u001b[0mself\u001b[0m\u001b[0;34m.\u001b[0m\u001b[0m_generate\u001b[0m\u001b[0;34m)\u001b[0m\u001b[0;34m.\u001b[0m\u001b[0mparameters\u001b[0m\u001b[0;34m.\u001b[0m\u001b[0mget\u001b[0m\u001b[0;34m(\u001b[0m\u001b[0;34m\"run_manager\"\u001b[0m\u001b[0;34m)\u001b[0m\u001b[0;34m:\u001b[0m\u001b[0;34m\u001b[0m\u001b[0;34m\u001b[0m\u001b[0m\n\u001b[0;32m-> 1072\u001b[0;31m             result = self._generate(\n\u001b[0m\u001b[1;32m   1073\u001b[0m                 \u001b[0mmessages\u001b[0m\u001b[0;34m,\u001b[0m \u001b[0mstop\u001b[0m\u001b[0;34m=\u001b[0m\u001b[0mstop\u001b[0m\u001b[0;34m,\u001b[0m \u001b[0mrun_manager\u001b[0m\u001b[0;34m=\u001b[0m\u001b[0mrun_manager\u001b[0m\u001b[0;34m,\u001b[0m \u001b[0;34m**\u001b[0m\u001b[0mkwargs\u001b[0m\u001b[0;34m\u001b[0m\u001b[0;34m\u001b[0m\u001b[0m\n\u001b[1;32m   1074\u001b[0m             )\n",
            "\u001b[0;32m/usr/local/lib/python3.11/dist-packages/langchain_google_genai/chat_models.py\u001b[0m in \u001b[0;36m_generate\u001b[0;34m(self, messages, stop, run_manager, tools, functions, safety_settings, tool_config, generation_config, cached_content, tool_choice, **kwargs)\u001b[0m\n\u001b[1;32m    959\u001b[0m             \u001b[0mtool_choice\u001b[0m\u001b[0;34m=\u001b[0m\u001b[0mtool_choice\u001b[0m\u001b[0;34m,\u001b[0m\u001b[0;34m\u001b[0m\u001b[0;34m\u001b[0m\u001b[0m\n\u001b[1;32m    960\u001b[0m         )\n\u001b[0;32m--> 961\u001b[0;31m         response: GenerateContentResponse = _chat_with_retry(\n\u001b[0m\u001b[1;32m    962\u001b[0m             \u001b[0mrequest\u001b[0m\u001b[0;34m=\u001b[0m\u001b[0mrequest\u001b[0m\u001b[0;34m,\u001b[0m\u001b[0;34m\u001b[0m\u001b[0;34m\u001b[0m\u001b[0m\n\u001b[1;32m    963\u001b[0m             \u001b[0;34m**\u001b[0m\u001b[0mkwargs\u001b[0m\u001b[0;34m,\u001b[0m\u001b[0;34m\u001b[0m\u001b[0;34m\u001b[0m\u001b[0m\n",
            "\u001b[0;32m/usr/local/lib/python3.11/dist-packages/langchain_google_genai/chat_models.py\u001b[0m in \u001b[0;36m_chat_with_retry\u001b[0;34m(generation_method, **kwargs)\u001b[0m\n\u001b[1;32m    194\u001b[0m             \u001b[0;32mraise\u001b[0m \u001b[0me\u001b[0m\u001b[0;34m\u001b[0m\u001b[0;34m\u001b[0m\u001b[0m\n\u001b[1;32m    195\u001b[0m \u001b[0;34m\u001b[0m\u001b[0m\n\u001b[0;32m--> 196\u001b[0;31m     \u001b[0;32mreturn\u001b[0m \u001b[0m_chat_with_retry\u001b[0m\u001b[0;34m(\u001b[0m\u001b[0;34m**\u001b[0m\u001b[0mkwargs\u001b[0m\u001b[0;34m)\u001b[0m\u001b[0;34m\u001b[0m\u001b[0;34m\u001b[0m\u001b[0m\n\u001b[0m\u001b[1;32m    197\u001b[0m \u001b[0;34m\u001b[0m\u001b[0m\n\u001b[1;32m    198\u001b[0m \u001b[0;34m\u001b[0m\u001b[0m\n",
            "\u001b[0;32m/usr/local/lib/python3.11/dist-packages/tenacity/__init__.py\u001b[0m in \u001b[0;36mwrapped_f\u001b[0;34m(*args, **kw)\u001b[0m\n\u001b[1;32m    336\u001b[0m             \u001b[0mcopy\u001b[0m \u001b[0;34m=\u001b[0m \u001b[0mself\u001b[0m\u001b[0;34m.\u001b[0m\u001b[0mcopy\u001b[0m\u001b[0;34m(\u001b[0m\u001b[0;34m)\u001b[0m\u001b[0;34m\u001b[0m\u001b[0;34m\u001b[0m\u001b[0m\n\u001b[1;32m    337\u001b[0m             \u001b[0mwrapped_f\u001b[0m\u001b[0;34m.\u001b[0m\u001b[0mstatistics\u001b[0m \u001b[0;34m=\u001b[0m \u001b[0mcopy\u001b[0m\u001b[0;34m.\u001b[0m\u001b[0mstatistics\u001b[0m  \u001b[0;31m# type: ignore[attr-defined]\u001b[0m\u001b[0;34m\u001b[0m\u001b[0;34m\u001b[0m\u001b[0m\n\u001b[0;32m--> 338\u001b[0;31m             \u001b[0;32mreturn\u001b[0m \u001b[0mcopy\u001b[0m\u001b[0;34m(\u001b[0m\u001b[0mf\u001b[0m\u001b[0;34m,\u001b[0m \u001b[0;34m*\u001b[0m\u001b[0margs\u001b[0m\u001b[0;34m,\u001b[0m \u001b[0;34m**\u001b[0m\u001b[0mkw\u001b[0m\u001b[0;34m)\u001b[0m\u001b[0;34m\u001b[0m\u001b[0;34m\u001b[0m\u001b[0m\n\u001b[0m\u001b[1;32m    339\u001b[0m \u001b[0;34m\u001b[0m\u001b[0m\n\u001b[1;32m    340\u001b[0m         \u001b[0;32mdef\u001b[0m \u001b[0mretry_with\u001b[0m\u001b[0;34m(\u001b[0m\u001b[0;34m*\u001b[0m\u001b[0margs\u001b[0m\u001b[0;34m:\u001b[0m \u001b[0mt\u001b[0m\u001b[0;34m.\u001b[0m\u001b[0mAny\u001b[0m\u001b[0;34m,\u001b[0m \u001b[0;34m**\u001b[0m\u001b[0mkwargs\u001b[0m\u001b[0;34m:\u001b[0m \u001b[0mt\u001b[0m\u001b[0;34m.\u001b[0m\u001b[0mAny\u001b[0m\u001b[0;34m)\u001b[0m \u001b[0;34m->\u001b[0m \u001b[0mWrappedFn\u001b[0m\u001b[0;34m:\u001b[0m\u001b[0;34m\u001b[0m\u001b[0;34m\u001b[0m\u001b[0m\n",
            "\u001b[0;32m/usr/local/lib/python3.11/dist-packages/tenacity/__init__.py\u001b[0m in \u001b[0;36m__call__\u001b[0;34m(self, fn, *args, **kwargs)\u001b[0m\n\u001b[1;32m    475\u001b[0m         \u001b[0mretry_state\u001b[0m \u001b[0;34m=\u001b[0m \u001b[0mRetryCallState\u001b[0m\u001b[0;34m(\u001b[0m\u001b[0mretry_object\u001b[0m\u001b[0;34m=\u001b[0m\u001b[0mself\u001b[0m\u001b[0;34m,\u001b[0m \u001b[0mfn\u001b[0m\u001b[0;34m=\u001b[0m\u001b[0mfn\u001b[0m\u001b[0;34m,\u001b[0m \u001b[0margs\u001b[0m\u001b[0;34m=\u001b[0m\u001b[0margs\u001b[0m\u001b[0;34m,\u001b[0m \u001b[0mkwargs\u001b[0m\u001b[0;34m=\u001b[0m\u001b[0mkwargs\u001b[0m\u001b[0;34m)\u001b[0m\u001b[0;34m\u001b[0m\u001b[0;34m\u001b[0m\u001b[0m\n\u001b[1;32m    476\u001b[0m         \u001b[0;32mwhile\u001b[0m \u001b[0;32mTrue\u001b[0m\u001b[0;34m:\u001b[0m\u001b[0;34m\u001b[0m\u001b[0;34m\u001b[0m\u001b[0m\n\u001b[0;32m--> 477\u001b[0;31m             \u001b[0mdo\u001b[0m \u001b[0;34m=\u001b[0m \u001b[0mself\u001b[0m\u001b[0;34m.\u001b[0m\u001b[0miter\u001b[0m\u001b[0;34m(\u001b[0m\u001b[0mretry_state\u001b[0m\u001b[0;34m=\u001b[0m\u001b[0mretry_state\u001b[0m\u001b[0;34m)\u001b[0m\u001b[0;34m\u001b[0m\u001b[0;34m\u001b[0m\u001b[0m\n\u001b[0m\u001b[1;32m    478\u001b[0m             \u001b[0;32mif\u001b[0m \u001b[0misinstance\u001b[0m\u001b[0;34m(\u001b[0m\u001b[0mdo\u001b[0m\u001b[0;34m,\u001b[0m \u001b[0mDoAttempt\u001b[0m\u001b[0;34m)\u001b[0m\u001b[0;34m:\u001b[0m\u001b[0;34m\u001b[0m\u001b[0;34m\u001b[0m\u001b[0m\n\u001b[1;32m    479\u001b[0m                 \u001b[0;32mtry\u001b[0m\u001b[0;34m:\u001b[0m\u001b[0;34m\u001b[0m\u001b[0;34m\u001b[0m\u001b[0m\n",
            "\u001b[0;32m/usr/local/lib/python3.11/dist-packages/tenacity/__init__.py\u001b[0m in \u001b[0;36miter\u001b[0;34m(self, retry_state)\u001b[0m\n\u001b[1;32m    376\u001b[0m         \u001b[0mresult\u001b[0m \u001b[0;34m=\u001b[0m \u001b[0;32mNone\u001b[0m\u001b[0;34m\u001b[0m\u001b[0;34m\u001b[0m\u001b[0m\n\u001b[1;32m    377\u001b[0m         \u001b[0;32mfor\u001b[0m \u001b[0maction\u001b[0m \u001b[0;32min\u001b[0m \u001b[0mself\u001b[0m\u001b[0;34m.\u001b[0m\u001b[0miter_state\u001b[0m\u001b[0;34m.\u001b[0m\u001b[0mactions\u001b[0m\u001b[0;34m:\u001b[0m\u001b[0;34m\u001b[0m\u001b[0;34m\u001b[0m\u001b[0m\n\u001b[0;32m--> 378\u001b[0;31m             \u001b[0mresult\u001b[0m \u001b[0;34m=\u001b[0m \u001b[0maction\u001b[0m\u001b[0;34m(\u001b[0m\u001b[0mretry_state\u001b[0m\u001b[0;34m)\u001b[0m\u001b[0;34m\u001b[0m\u001b[0;34m\u001b[0m\u001b[0m\n\u001b[0m\u001b[1;32m    379\u001b[0m         \u001b[0;32mreturn\u001b[0m \u001b[0mresult\u001b[0m\u001b[0;34m\u001b[0m\u001b[0;34m\u001b[0m\u001b[0m\n\u001b[1;32m    380\u001b[0m \u001b[0;34m\u001b[0m\u001b[0m\n",
            "\u001b[0;32m/usr/local/lib/python3.11/dist-packages/tenacity/__init__.py\u001b[0m in \u001b[0;36mexc_check\u001b[0;34m(rs)\u001b[0m\n\u001b[1;32m    418\u001b[0m                 \u001b[0mretry_exc\u001b[0m \u001b[0;34m=\u001b[0m \u001b[0mself\u001b[0m\u001b[0;34m.\u001b[0m\u001b[0mretry_error_cls\u001b[0m\u001b[0;34m(\u001b[0m\u001b[0mfut\u001b[0m\u001b[0;34m)\u001b[0m\u001b[0;34m\u001b[0m\u001b[0;34m\u001b[0m\u001b[0m\n\u001b[1;32m    419\u001b[0m                 \u001b[0;32mif\u001b[0m \u001b[0mself\u001b[0m\u001b[0;34m.\u001b[0m\u001b[0mreraise\u001b[0m\u001b[0;34m:\u001b[0m\u001b[0;34m\u001b[0m\u001b[0;34m\u001b[0m\u001b[0m\n\u001b[0;32m--> 420\u001b[0;31m                     \u001b[0;32mraise\u001b[0m \u001b[0mretry_exc\u001b[0m\u001b[0;34m.\u001b[0m\u001b[0mreraise\u001b[0m\u001b[0;34m(\u001b[0m\u001b[0;34m)\u001b[0m\u001b[0;34m\u001b[0m\u001b[0;34m\u001b[0m\u001b[0m\n\u001b[0m\u001b[1;32m    421\u001b[0m                 \u001b[0;32mraise\u001b[0m \u001b[0mretry_exc\u001b[0m \u001b[0;32mfrom\u001b[0m \u001b[0mfut\u001b[0m\u001b[0;34m.\u001b[0m\u001b[0mexception\u001b[0m\u001b[0;34m(\u001b[0m\u001b[0;34m)\u001b[0m\u001b[0;34m\u001b[0m\u001b[0;34m\u001b[0m\u001b[0m\n\u001b[1;32m    422\u001b[0m \u001b[0;34m\u001b[0m\u001b[0m\n",
            "\u001b[0;32m/usr/local/lib/python3.11/dist-packages/tenacity/__init__.py\u001b[0m in \u001b[0;36mreraise\u001b[0;34m(self)\u001b[0m\n\u001b[1;32m    185\u001b[0m     \u001b[0;32mdef\u001b[0m \u001b[0mreraise\u001b[0m\u001b[0;34m(\u001b[0m\u001b[0mself\u001b[0m\u001b[0;34m)\u001b[0m \u001b[0;34m->\u001b[0m \u001b[0mt\u001b[0m\u001b[0;34m.\u001b[0m\u001b[0mNoReturn\u001b[0m\u001b[0;34m:\u001b[0m\u001b[0;34m\u001b[0m\u001b[0;34m\u001b[0m\u001b[0m\n\u001b[1;32m    186\u001b[0m         \u001b[0;32mif\u001b[0m \u001b[0mself\u001b[0m\u001b[0;34m.\u001b[0m\u001b[0mlast_attempt\u001b[0m\u001b[0;34m.\u001b[0m\u001b[0mfailed\u001b[0m\u001b[0;34m:\u001b[0m\u001b[0;34m\u001b[0m\u001b[0;34m\u001b[0m\u001b[0m\n\u001b[0;32m--> 187\u001b[0;31m             \u001b[0;32mraise\u001b[0m \u001b[0mself\u001b[0m\u001b[0;34m.\u001b[0m\u001b[0mlast_attempt\u001b[0m\u001b[0;34m.\u001b[0m\u001b[0mresult\u001b[0m\u001b[0;34m(\u001b[0m\u001b[0;34m)\u001b[0m\u001b[0;34m\u001b[0m\u001b[0;34m\u001b[0m\u001b[0m\n\u001b[0m\u001b[1;32m    188\u001b[0m         \u001b[0;32mraise\u001b[0m \u001b[0mself\u001b[0m\u001b[0;34m\u001b[0m\u001b[0;34m\u001b[0m\u001b[0m\n\u001b[1;32m    189\u001b[0m \u001b[0;34m\u001b[0m\u001b[0m\n",
            "\u001b[0;32m/usr/lib/python3.11/concurrent/futures/_base.py\u001b[0m in \u001b[0;36mresult\u001b[0;34m(self, timeout)\u001b[0m\n\u001b[1;32m    447\u001b[0m                     \u001b[0;32mraise\u001b[0m \u001b[0mCancelledError\u001b[0m\u001b[0;34m(\u001b[0m\u001b[0;34m)\u001b[0m\u001b[0;34m\u001b[0m\u001b[0;34m\u001b[0m\u001b[0m\n\u001b[1;32m    448\u001b[0m                 \u001b[0;32melif\u001b[0m \u001b[0mself\u001b[0m\u001b[0;34m.\u001b[0m\u001b[0m_state\u001b[0m \u001b[0;34m==\u001b[0m \u001b[0mFINISHED\u001b[0m\u001b[0;34m:\u001b[0m\u001b[0;34m\u001b[0m\u001b[0;34m\u001b[0m\u001b[0m\n\u001b[0;32m--> 449\u001b[0;31m                     \u001b[0;32mreturn\u001b[0m \u001b[0mself\u001b[0m\u001b[0;34m.\u001b[0m\u001b[0m__get_result\u001b[0m\u001b[0;34m(\u001b[0m\u001b[0;34m)\u001b[0m\u001b[0;34m\u001b[0m\u001b[0;34m\u001b[0m\u001b[0m\n\u001b[0m\u001b[1;32m    450\u001b[0m \u001b[0;34m\u001b[0m\u001b[0m\n\u001b[1;32m    451\u001b[0m                 \u001b[0mself\u001b[0m\u001b[0;34m.\u001b[0m\u001b[0m_condition\u001b[0m\u001b[0;34m.\u001b[0m\u001b[0mwait\u001b[0m\u001b[0;34m(\u001b[0m\u001b[0mtimeout\u001b[0m\u001b[0;34m)\u001b[0m\u001b[0;34m\u001b[0m\u001b[0;34m\u001b[0m\u001b[0m\n",
            "\u001b[0;32m/usr/lib/python3.11/concurrent/futures/_base.py\u001b[0m in \u001b[0;36m__get_result\u001b[0;34m(self)\u001b[0m\n\u001b[1;32m    399\u001b[0m         \u001b[0;32mif\u001b[0m \u001b[0mself\u001b[0m\u001b[0;34m.\u001b[0m\u001b[0m_exception\u001b[0m\u001b[0;34m:\u001b[0m\u001b[0;34m\u001b[0m\u001b[0;34m\u001b[0m\u001b[0m\n\u001b[1;32m    400\u001b[0m             \u001b[0;32mtry\u001b[0m\u001b[0;34m:\u001b[0m\u001b[0;34m\u001b[0m\u001b[0;34m\u001b[0m\u001b[0m\n\u001b[0;32m--> 401\u001b[0;31m                 \u001b[0;32mraise\u001b[0m \u001b[0mself\u001b[0m\u001b[0;34m.\u001b[0m\u001b[0m_exception\u001b[0m\u001b[0;34m\u001b[0m\u001b[0;34m\u001b[0m\u001b[0m\n\u001b[0m\u001b[1;32m    402\u001b[0m             \u001b[0;32mfinally\u001b[0m\u001b[0;34m:\u001b[0m\u001b[0;34m\u001b[0m\u001b[0;34m\u001b[0m\u001b[0m\n\u001b[1;32m    403\u001b[0m                 \u001b[0;31m# Break a reference cycle with the exception in self._exception\u001b[0m\u001b[0;34m\u001b[0m\u001b[0;34m\u001b[0m\u001b[0m\n",
            "\u001b[0;32m/usr/local/lib/python3.11/dist-packages/tenacity/__init__.py\u001b[0m in \u001b[0;36m__call__\u001b[0;34m(self, fn, *args, **kwargs)\u001b[0m\n\u001b[1;32m    478\u001b[0m             \u001b[0;32mif\u001b[0m \u001b[0misinstance\u001b[0m\u001b[0;34m(\u001b[0m\u001b[0mdo\u001b[0m\u001b[0;34m,\u001b[0m \u001b[0mDoAttempt\u001b[0m\u001b[0;34m)\u001b[0m\u001b[0;34m:\u001b[0m\u001b[0;34m\u001b[0m\u001b[0;34m\u001b[0m\u001b[0m\n\u001b[1;32m    479\u001b[0m                 \u001b[0;32mtry\u001b[0m\u001b[0;34m:\u001b[0m\u001b[0;34m\u001b[0m\u001b[0;34m\u001b[0m\u001b[0m\n\u001b[0;32m--> 480\u001b[0;31m                     \u001b[0mresult\u001b[0m \u001b[0;34m=\u001b[0m \u001b[0mfn\u001b[0m\u001b[0;34m(\u001b[0m\u001b[0;34m*\u001b[0m\u001b[0margs\u001b[0m\u001b[0;34m,\u001b[0m \u001b[0;34m**\u001b[0m\u001b[0mkwargs\u001b[0m\u001b[0;34m)\u001b[0m\u001b[0;34m\u001b[0m\u001b[0;34m\u001b[0m\u001b[0m\n\u001b[0m\u001b[1;32m    481\u001b[0m                 \u001b[0;32mexcept\u001b[0m \u001b[0mBaseException\u001b[0m\u001b[0;34m:\u001b[0m  \u001b[0;31m# noqa: B902\u001b[0m\u001b[0;34m\u001b[0m\u001b[0;34m\u001b[0m\u001b[0m\n\u001b[1;32m    482\u001b[0m                     \u001b[0mretry_state\u001b[0m\u001b[0;34m.\u001b[0m\u001b[0mset_exception\u001b[0m\u001b[0;34m(\u001b[0m\u001b[0msys\u001b[0m\u001b[0;34m.\u001b[0m\u001b[0mexc_info\u001b[0m\u001b[0;34m(\u001b[0m\u001b[0;34m)\u001b[0m\u001b[0;34m)\u001b[0m  \u001b[0;31m# type: ignore[arg-type]\u001b[0m\u001b[0;34m\u001b[0m\u001b[0;34m\u001b[0m\u001b[0m\n",
            "\u001b[0;32m/usr/local/lib/python3.11/dist-packages/langchain_google_genai/chat_models.py\u001b[0m in \u001b[0;36m_chat_with_retry\u001b[0;34m(**kwargs)\u001b[0m\n\u001b[1;32m    192\u001b[0m             ) from e\n\u001b[1;32m    193\u001b[0m         \u001b[0;32mexcept\u001b[0m \u001b[0mException\u001b[0m \u001b[0;32mas\u001b[0m \u001b[0me\u001b[0m\u001b[0;34m:\u001b[0m\u001b[0;34m\u001b[0m\u001b[0;34m\u001b[0m\u001b[0m\n\u001b[0;32m--> 194\u001b[0;31m             \u001b[0;32mraise\u001b[0m \u001b[0me\u001b[0m\u001b[0;34m\u001b[0m\u001b[0;34m\u001b[0m\u001b[0m\n\u001b[0m\u001b[1;32m    195\u001b[0m \u001b[0;34m\u001b[0m\u001b[0m\n\u001b[1;32m    196\u001b[0m     \u001b[0;32mreturn\u001b[0m \u001b[0m_chat_with_retry\u001b[0m\u001b[0;34m(\u001b[0m\u001b[0;34m**\u001b[0m\u001b[0mkwargs\u001b[0m\u001b[0;34m)\u001b[0m\u001b[0;34m\u001b[0m\u001b[0;34m\u001b[0m\u001b[0m\n",
            "\u001b[0;32m/usr/local/lib/python3.11/dist-packages/langchain_google_genai/chat_models.py\u001b[0m in \u001b[0;36m_chat_with_retry\u001b[0;34m(**kwargs)\u001b[0m\n\u001b[1;32m    176\u001b[0m     \u001b[0;32mdef\u001b[0m \u001b[0m_chat_with_retry\u001b[0m\u001b[0;34m(\u001b[0m\u001b[0;34m**\u001b[0m\u001b[0mkwargs\u001b[0m\u001b[0;34m:\u001b[0m \u001b[0mAny\u001b[0m\u001b[0;34m)\u001b[0m \u001b[0;34m->\u001b[0m \u001b[0mAny\u001b[0m\u001b[0;34m:\u001b[0m\u001b[0;34m\u001b[0m\u001b[0;34m\u001b[0m\u001b[0m\n\u001b[1;32m    177\u001b[0m         \u001b[0;32mtry\u001b[0m\u001b[0;34m:\u001b[0m\u001b[0;34m\u001b[0m\u001b[0;34m\u001b[0m\u001b[0m\n\u001b[0;32m--> 178\u001b[0;31m             \u001b[0;32mreturn\u001b[0m \u001b[0mgeneration_method\u001b[0m\u001b[0;34m(\u001b[0m\u001b[0;34m**\u001b[0m\u001b[0mkwargs\u001b[0m\u001b[0;34m)\u001b[0m\u001b[0;34m\u001b[0m\u001b[0;34m\u001b[0m\u001b[0m\n\u001b[0m\u001b[1;32m    179\u001b[0m         \u001b[0;31m# Do not retry for these errors.\u001b[0m\u001b[0;34m\u001b[0m\u001b[0;34m\u001b[0m\u001b[0m\n\u001b[1;32m    180\u001b[0m         \u001b[0;32mexcept\u001b[0m \u001b[0mgoogle\u001b[0m\u001b[0;34m.\u001b[0m\u001b[0mapi_core\u001b[0m\u001b[0;34m.\u001b[0m\u001b[0mexceptions\u001b[0m\u001b[0;34m.\u001b[0m\u001b[0mFailedPrecondition\u001b[0m \u001b[0;32mas\u001b[0m \u001b[0mexc\u001b[0m\u001b[0;34m:\u001b[0m\u001b[0;34m\u001b[0m\u001b[0;34m\u001b[0m\u001b[0m\n",
            "\u001b[0;32m/usr/local/lib/python3.11/dist-packages/google/ai/generativelanguage_v1beta/services/generative_service/client.py\u001b[0m in \u001b[0;36mgenerate_content\u001b[0;34m(self, request, model, contents, retry, timeout, metadata)\u001b[0m\n\u001b[1;32m    833\u001b[0m \u001b[0;34m\u001b[0m\u001b[0m\n\u001b[1;32m    834\u001b[0m         \u001b[0;31m# Send the request.\u001b[0m\u001b[0;34m\u001b[0m\u001b[0;34m\u001b[0m\u001b[0m\n\u001b[0;32m--> 835\u001b[0;31m         response = rpc(\n\u001b[0m\u001b[1;32m    836\u001b[0m             \u001b[0mrequest\u001b[0m\u001b[0;34m,\u001b[0m\u001b[0;34m\u001b[0m\u001b[0;34m\u001b[0m\u001b[0m\n\u001b[1;32m    837\u001b[0m             \u001b[0mretry\u001b[0m\u001b[0;34m=\u001b[0m\u001b[0mretry\u001b[0m\u001b[0;34m,\u001b[0m\u001b[0;34m\u001b[0m\u001b[0;34m\u001b[0m\u001b[0m\n",
            "\u001b[0;32m/usr/local/lib/python3.11/dist-packages/google/api_core/gapic_v1/method.py\u001b[0m in \u001b[0;36m__call__\u001b[0;34m(self, timeout, retry, compression, *args, **kwargs)\u001b[0m\n\u001b[1;32m    129\u001b[0m             \u001b[0mkwargs\u001b[0m\u001b[0;34m[\u001b[0m\u001b[0;34m\"compression\"\u001b[0m\u001b[0;34m]\u001b[0m \u001b[0;34m=\u001b[0m \u001b[0mcompression\u001b[0m\u001b[0;34m\u001b[0m\u001b[0;34m\u001b[0m\u001b[0m\n\u001b[1;32m    130\u001b[0m \u001b[0;34m\u001b[0m\u001b[0m\n\u001b[0;32m--> 131\u001b[0;31m         \u001b[0;32mreturn\u001b[0m \u001b[0mwrapped_func\u001b[0m\u001b[0;34m(\u001b[0m\u001b[0;34m*\u001b[0m\u001b[0margs\u001b[0m\u001b[0;34m,\u001b[0m \u001b[0;34m**\u001b[0m\u001b[0mkwargs\u001b[0m\u001b[0;34m)\u001b[0m\u001b[0;34m\u001b[0m\u001b[0;34m\u001b[0m\u001b[0m\n\u001b[0m\u001b[1;32m    132\u001b[0m \u001b[0;34m\u001b[0m\u001b[0m\n\u001b[1;32m    133\u001b[0m \u001b[0;34m\u001b[0m\u001b[0m\n",
            "\u001b[0;32m/usr/local/lib/python3.11/dist-packages/google/api_core/retry/retry_unary.py\u001b[0m in \u001b[0;36mretry_wrapped_func\u001b[0;34m(*args, **kwargs)\u001b[0m\n\u001b[1;32m    292\u001b[0m                 \u001b[0mself\u001b[0m\u001b[0;34m.\u001b[0m\u001b[0m_initial\u001b[0m\u001b[0;34m,\u001b[0m \u001b[0mself\u001b[0m\u001b[0;34m.\u001b[0m\u001b[0m_maximum\u001b[0m\u001b[0;34m,\u001b[0m \u001b[0mmultiplier\u001b[0m\u001b[0;34m=\u001b[0m\u001b[0mself\u001b[0m\u001b[0;34m.\u001b[0m\u001b[0m_multiplier\u001b[0m\u001b[0;34m\u001b[0m\u001b[0;34m\u001b[0m\u001b[0m\n\u001b[1;32m    293\u001b[0m             )\n\u001b[0;32m--> 294\u001b[0;31m             return retry_target(\n\u001b[0m\u001b[1;32m    295\u001b[0m                 \u001b[0mtarget\u001b[0m\u001b[0;34m,\u001b[0m\u001b[0;34m\u001b[0m\u001b[0;34m\u001b[0m\u001b[0m\n\u001b[1;32m    296\u001b[0m                 \u001b[0mself\u001b[0m\u001b[0;34m.\u001b[0m\u001b[0m_predicate\u001b[0m\u001b[0;34m,\u001b[0m\u001b[0;34m\u001b[0m\u001b[0;34m\u001b[0m\u001b[0m\n",
            "\u001b[0;32m/usr/local/lib/python3.11/dist-packages/google/api_core/retry/retry_unary.py\u001b[0m in \u001b[0;36mretry_target\u001b[0;34m(target, predicate, sleep_generator, timeout, on_error, exception_factory, **kwargs)\u001b[0m\n\u001b[1;32m    154\u001b[0m         \u001b[0;32mexcept\u001b[0m \u001b[0mException\u001b[0m \u001b[0;32mas\u001b[0m \u001b[0mexc\u001b[0m\u001b[0;34m:\u001b[0m\u001b[0;34m\u001b[0m\u001b[0;34m\u001b[0m\u001b[0m\n\u001b[1;32m    155\u001b[0m             \u001b[0;31m# defer to shared logic for handling errors\u001b[0m\u001b[0;34m\u001b[0m\u001b[0;34m\u001b[0m\u001b[0m\n\u001b[0;32m--> 156\u001b[0;31m             next_sleep = _retry_error_helper(\n\u001b[0m\u001b[1;32m    157\u001b[0m                 \u001b[0mexc\u001b[0m\u001b[0;34m,\u001b[0m\u001b[0;34m\u001b[0m\u001b[0;34m\u001b[0m\u001b[0m\n\u001b[1;32m    158\u001b[0m                 \u001b[0mdeadline\u001b[0m\u001b[0;34m,\u001b[0m\u001b[0;34m\u001b[0m\u001b[0;34m\u001b[0m\u001b[0m\n",
            "\u001b[0;32m/usr/local/lib/python3.11/dist-packages/google/api_core/retry/retry_base.py\u001b[0m in \u001b[0;36m_retry_error_helper\u001b[0;34m(exc, deadline, sleep_iterator, error_list, predicate_fn, on_error_fn, exc_factory_fn, original_timeout)\u001b[0m\n\u001b[1;32m    212\u001b[0m             \u001b[0moriginal_timeout\u001b[0m\u001b[0;34m,\u001b[0m\u001b[0;34m\u001b[0m\u001b[0;34m\u001b[0m\u001b[0m\n\u001b[1;32m    213\u001b[0m         )\n\u001b[0;32m--> 214\u001b[0;31m         \u001b[0;32mraise\u001b[0m \u001b[0mfinal_exc\u001b[0m \u001b[0;32mfrom\u001b[0m \u001b[0msource_exc\u001b[0m\u001b[0;34m\u001b[0m\u001b[0;34m\u001b[0m\u001b[0m\n\u001b[0m\u001b[1;32m    215\u001b[0m     \u001b[0;32mif\u001b[0m \u001b[0mon_error_fn\u001b[0m \u001b[0;32mis\u001b[0m \u001b[0;32mnot\u001b[0m \u001b[0;32mNone\u001b[0m\u001b[0;34m:\u001b[0m\u001b[0;34m\u001b[0m\u001b[0;34m\u001b[0m\u001b[0m\n\u001b[1;32m    216\u001b[0m         \u001b[0mon_error_fn\u001b[0m\u001b[0;34m(\u001b[0m\u001b[0mexc\u001b[0m\u001b[0;34m)\u001b[0m\u001b[0;34m\u001b[0m\u001b[0;34m\u001b[0m\u001b[0m\n",
            "\u001b[0;32m/usr/local/lib/python3.11/dist-packages/google/api_core/retry/retry_unary.py\u001b[0m in \u001b[0;36mretry_target\u001b[0;34m(target, predicate, sleep_generator, timeout, on_error, exception_factory, **kwargs)\u001b[0m\n\u001b[1;32m    145\u001b[0m     \u001b[0;32mwhile\u001b[0m \u001b[0;32mTrue\u001b[0m\u001b[0;34m:\u001b[0m\u001b[0;34m\u001b[0m\u001b[0;34m\u001b[0m\u001b[0m\n\u001b[1;32m    146\u001b[0m         \u001b[0;32mtry\u001b[0m\u001b[0;34m:\u001b[0m\u001b[0;34m\u001b[0m\u001b[0;34m\u001b[0m\u001b[0m\n\u001b[0;32m--> 147\u001b[0;31m             \u001b[0mresult\u001b[0m \u001b[0;34m=\u001b[0m \u001b[0mtarget\u001b[0m\u001b[0;34m(\u001b[0m\u001b[0;34m)\u001b[0m\u001b[0;34m\u001b[0m\u001b[0;34m\u001b[0m\u001b[0m\n\u001b[0m\u001b[1;32m    148\u001b[0m             \u001b[0;32mif\u001b[0m \u001b[0minspect\u001b[0m\u001b[0;34m.\u001b[0m\u001b[0misawaitable\u001b[0m\u001b[0;34m(\u001b[0m\u001b[0mresult\u001b[0m\u001b[0;34m)\u001b[0m\u001b[0;34m:\u001b[0m\u001b[0;34m\u001b[0m\u001b[0;34m\u001b[0m\u001b[0m\n\u001b[1;32m    149\u001b[0m                 \u001b[0mwarnings\u001b[0m\u001b[0;34m.\u001b[0m\u001b[0mwarn\u001b[0m\u001b[0;34m(\u001b[0m\u001b[0m_ASYNC_RETRY_WARNING\u001b[0m\u001b[0;34m)\u001b[0m\u001b[0;34m\u001b[0m\u001b[0;34m\u001b[0m\u001b[0m\n",
            "\u001b[0;32m/usr/local/lib/python3.11/dist-packages/google/api_core/timeout.py\u001b[0m in \u001b[0;36mfunc_with_timeout\u001b[0;34m(*args, **kwargs)\u001b[0m\n\u001b[1;32m    128\u001b[0m                 \u001b[0mkwargs\u001b[0m\u001b[0;34m[\u001b[0m\u001b[0;34m\"timeout\"\u001b[0m\u001b[0;34m]\u001b[0m \u001b[0;34m=\u001b[0m \u001b[0mremaining_timeout\u001b[0m\u001b[0;34m\u001b[0m\u001b[0;34m\u001b[0m\u001b[0m\n\u001b[1;32m    129\u001b[0m \u001b[0;34m\u001b[0m\u001b[0m\n\u001b[0;32m--> 130\u001b[0;31m             \u001b[0;32mreturn\u001b[0m \u001b[0mfunc\u001b[0m\u001b[0;34m(\u001b[0m\u001b[0;34m*\u001b[0m\u001b[0margs\u001b[0m\u001b[0;34m,\u001b[0m \u001b[0;34m**\u001b[0m\u001b[0mkwargs\u001b[0m\u001b[0;34m)\u001b[0m\u001b[0;34m\u001b[0m\u001b[0;34m\u001b[0m\u001b[0m\n\u001b[0m\u001b[1;32m    131\u001b[0m \u001b[0;34m\u001b[0m\u001b[0m\n\u001b[1;32m    132\u001b[0m         \u001b[0;32mreturn\u001b[0m \u001b[0mfunc_with_timeout\u001b[0m\u001b[0;34m\u001b[0m\u001b[0;34m\u001b[0m\u001b[0m\n",
            "\u001b[0;32m/usr/local/lib/python3.11/dist-packages/google/api_core/grpc_helpers.py\u001b[0m in \u001b[0;36merror_remapped_callable\u001b[0;34m(*args, **kwargs)\u001b[0m\n\u001b[1;32m     76\u001b[0m             \u001b[0;32mreturn\u001b[0m \u001b[0mcallable_\u001b[0m\u001b[0;34m(\u001b[0m\u001b[0;34m*\u001b[0m\u001b[0margs\u001b[0m\u001b[0;34m,\u001b[0m \u001b[0;34m**\u001b[0m\u001b[0mkwargs\u001b[0m\u001b[0;34m)\u001b[0m\u001b[0;34m\u001b[0m\u001b[0;34m\u001b[0m\u001b[0m\n\u001b[1;32m     77\u001b[0m         \u001b[0;32mexcept\u001b[0m \u001b[0mgrpc\u001b[0m\u001b[0;34m.\u001b[0m\u001b[0mRpcError\u001b[0m \u001b[0;32mas\u001b[0m \u001b[0mexc\u001b[0m\u001b[0;34m:\u001b[0m\u001b[0;34m\u001b[0m\u001b[0;34m\u001b[0m\u001b[0m\n\u001b[0;32m---> 78\u001b[0;31m             \u001b[0;32mraise\u001b[0m \u001b[0mexceptions\u001b[0m\u001b[0;34m.\u001b[0m\u001b[0mfrom_grpc_error\u001b[0m\u001b[0;34m(\u001b[0m\u001b[0mexc\u001b[0m\u001b[0;34m)\u001b[0m \u001b[0;32mfrom\u001b[0m \u001b[0mexc\u001b[0m\u001b[0;34m\u001b[0m\u001b[0;34m\u001b[0m\u001b[0m\n\u001b[0m\u001b[1;32m     79\u001b[0m \u001b[0;34m\u001b[0m\u001b[0m\n\u001b[1;32m     80\u001b[0m     \u001b[0;32mreturn\u001b[0m \u001b[0merror_remapped_callable\u001b[0m\u001b[0;34m\u001b[0m\u001b[0;34m\u001b[0m\u001b[0m\n",
            "\u001b[0;31mResourceExhausted\u001b[0m: 429 You exceeded your current quota, please check your plan and billing details. For more information on this error, head to: https://ai.google.dev/gemini-api/docs/rate-limits. [violations {\n  quota_metric: \"generativelanguage.googleapis.com/generate_content_free_tier_requests\"\n  quota_id: \"GenerateRequestsPerMinutePerProjectPerModel-FreeTier\"\n  quota_dimensions {\n    key: \"model\"\n    value: \"gemini-1.5-flash\"\n  }\n  quota_dimensions {\n    key: \"location\"\n    value: \"global\"\n  }\n  quota_value: 15\n}\n, links {\n  description: \"Learn more about Gemini API quotas\"\n  url: \"https://ai.google.dev/gemini-api/docs/rate-limits\"\n}\n, retry_delay {\n  seconds: 5\n}\n]"
          ]
        }
      ],
      "source": [
        "from bert_score import score\n",
        "import numpy as np\n",
        "\n",
        "# Inisialisasi list untuk menyimpan skor\n",
        "f1_scores = []\n",
        "\n",
        "for q, a in zip(data['question'], data['answer']):\n",
        "    query = q\n",
        "    docs = retriever.invoke(query)\n",
        "    response = chain.invoke({\"question\": query, \"context\": docs})\n",
        "\n",
        "    references = [a]  # Jawaban referensi\n",
        "    generated = [response.content]  # Jawaban yang dihasilkan\n",
        "\n",
        "    # Hitung BERTScore\n",
        "    P, R, F1 = score(generated, references, lang=\"id\")  # gunakan 'en' jika bahasa Inggris\n",
        "    current_f1 = F1.mean().item()\n",
        "    f1_scores.append(current_f1)\n",
        "\n",
        "    # Cetak skor untuk pertanyaan saat ini\n",
        "    print(f\"BERTScore F1 for question '{q}': {current_f1:.3f}\")\n",
        "\n",
        "# Hitung dan cetak rata-rata setelah loop selesai\n",
        "if f1_scores:  # Pastikan list tidak kosong\n",
        "    average_f1 = np.mean(f1_scores)\n",
        "    print(f\"\\nAverage BERTScore F1 across all questions: {average_f1:.3f}\")\n",
        "else:\n",
        "    print(\"No scores were calculated.\")"
      ]
    },
    {
      "cell_type": "code",
      "execution_count": null,
      "metadata": {
        "colab": {
          "base_uri": "https://localhost:8080/",
          "height": 1000
        },
        "id": "8MBoO-pGTiQ6",
        "outputId": "affb9c6c-3c69-4bf6-d6ee-a40a6994a682"
      },
      "outputs": [
        {
          "name": "stderr",
          "output_type": "stream",
          "text": [
            "WARNING:langchain_google_genai.chat_models:Retrying langchain_google_genai.chat_models._chat_with_retry.<locals>._chat_with_retry in 2.0 seconds as it raised ResourceExhausted: 429 You exceeded your current quota, please check your plan and billing details. For more information on this error, head to: https://ai.google.dev/gemini-api/docs/rate-limits. [violations {\n",
            "  quota_metric: \"generativelanguage.googleapis.com/generate_content_free_tier_requests\"\n",
            "  quota_id: \"GenerateRequestsPerDayPerProjectPerModel-FreeTier\"\n",
            "  quota_dimensions {\n",
            "    key: \"model\"\n",
            "    value: \"gemini-1.5-flash\"\n",
            "  }\n",
            "  quota_dimensions {\n",
            "    key: \"location\"\n",
            "    value: \"global\"\n",
            "  }\n",
            "  quota_value: 50\n",
            "}\n",
            ", links {\n",
            "  description: \"Learn more about Gemini API quotas\"\n",
            "  url: \"https://ai.google.dev/gemini-api/docs/rate-limits\"\n",
            "}\n",
            ", retry_delay {\n",
            "  seconds: 43\n",
            "}\n",
            "].\n"
          ]
        },
        {
          "ename": "ResourceExhausted",
          "evalue": "429 You exceeded your current quota, please check your plan and billing details. For more information on this error, head to: https://ai.google.dev/gemini-api/docs/rate-limits. [violations {\n  quota_metric: \"generativelanguage.googleapis.com/generate_content_free_tier_requests\"\n  quota_id: \"GenerateRequestsPerDayPerProjectPerModel-FreeTier\"\n  quota_dimensions {\n    key: \"model\"\n    value: \"gemini-1.5-flash\"\n  }\n  quota_dimensions {\n    key: \"location\"\n    value: \"global\"\n  }\n  quota_value: 50\n}\n, links {\n  description: \"Learn more about Gemini API quotas\"\n  url: \"https://ai.google.dev/gemini-api/docs/rate-limits\"\n}\n, retry_delay {\n  seconds: 41\n}\n]",
          "output_type": "error",
          "traceback": [
            "\u001b[0;31m---------------------------------------------------------------------------\u001b[0m",
            "\u001b[0;31mResourceExhausted\u001b[0m                         Traceback (most recent call last)",
            "\u001b[0;32m/tmp/ipython-input-1278490712.py\u001b[0m in \u001b[0;36m<cell line: 0>\u001b[0;34m()\u001b[0m\n\u001b[1;32m     11\u001b[0m     \u001b[0mquery\u001b[0m \u001b[0;34m=\u001b[0m \u001b[0mq\u001b[0m\u001b[0;34m\u001b[0m\u001b[0;34m\u001b[0m\u001b[0m\n\u001b[1;32m     12\u001b[0m     \u001b[0mdocs\u001b[0m \u001b[0;34m=\u001b[0m \u001b[0mretriever\u001b[0m\u001b[0;34m.\u001b[0m\u001b[0minvoke\u001b[0m\u001b[0;34m(\u001b[0m\u001b[0mquery\u001b[0m\u001b[0;34m)\u001b[0m\u001b[0;34m\u001b[0m\u001b[0;34m\u001b[0m\u001b[0m\n\u001b[0;32m---> 13\u001b[0;31m     \u001b[0mresponse\u001b[0m \u001b[0;34m=\u001b[0m \u001b[0mchain\u001b[0m\u001b[0;34m.\u001b[0m\u001b[0minvoke\u001b[0m\u001b[0;34m(\u001b[0m\u001b[0;34m{\u001b[0m\u001b[0;34m\"question\"\u001b[0m\u001b[0;34m:\u001b[0m \u001b[0mquery\u001b[0m\u001b[0;34m,\u001b[0m \u001b[0;34m\"context\"\u001b[0m\u001b[0;34m:\u001b[0m \u001b[0mdocs\u001b[0m\u001b[0;34m}\u001b[0m\u001b[0;34m)\u001b[0m\u001b[0;34m\u001b[0m\u001b[0;34m\u001b[0m\u001b[0m\n\u001b[0m\u001b[1;32m     14\u001b[0m \u001b[0;34m\u001b[0m\u001b[0m\n\u001b[1;32m     15\u001b[0m     \u001b[0mreferences\u001b[0m \u001b[0;34m=\u001b[0m \u001b[0;34m[\u001b[0m\u001b[0ma\u001b[0m\u001b[0;34m]\u001b[0m\u001b[0;34m\u001b[0m\u001b[0;34m\u001b[0m\u001b[0m\n",
            "\u001b[0;32m/usr/local/lib/python3.11/dist-packages/langchain_core/runnables/base.py\u001b[0m in \u001b[0;36minvoke\u001b[0;34m(self, input, config, **kwargs)\u001b[0m\n\u001b[1;32m   3047\u001b[0m                         \u001b[0minput_\u001b[0m \u001b[0;34m=\u001b[0m \u001b[0mcontext\u001b[0m\u001b[0;34m.\u001b[0m\u001b[0mrun\u001b[0m\u001b[0;34m(\u001b[0m\u001b[0mstep\u001b[0m\u001b[0;34m.\u001b[0m\u001b[0minvoke\u001b[0m\u001b[0;34m,\u001b[0m \u001b[0minput_\u001b[0m\u001b[0;34m,\u001b[0m \u001b[0mconfig\u001b[0m\u001b[0;34m,\u001b[0m \u001b[0;34m**\u001b[0m\u001b[0mkwargs\u001b[0m\u001b[0;34m)\u001b[0m\u001b[0;34m\u001b[0m\u001b[0;34m\u001b[0m\u001b[0m\n\u001b[1;32m   3048\u001b[0m                     \u001b[0;32melse\u001b[0m\u001b[0;34m:\u001b[0m\u001b[0;34m\u001b[0m\u001b[0;34m\u001b[0m\u001b[0m\n\u001b[0;32m-> 3049\u001b[0;31m                         \u001b[0minput_\u001b[0m \u001b[0;34m=\u001b[0m \u001b[0mcontext\u001b[0m\u001b[0;34m.\u001b[0m\u001b[0mrun\u001b[0m\u001b[0;34m(\u001b[0m\u001b[0mstep\u001b[0m\u001b[0;34m.\u001b[0m\u001b[0minvoke\u001b[0m\u001b[0;34m,\u001b[0m \u001b[0minput_\u001b[0m\u001b[0;34m,\u001b[0m \u001b[0mconfig\u001b[0m\u001b[0;34m)\u001b[0m\u001b[0;34m\u001b[0m\u001b[0;34m\u001b[0m\u001b[0m\n\u001b[0m\u001b[1;32m   3050\u001b[0m         \u001b[0;31m# finish the root run\u001b[0m\u001b[0;34m\u001b[0m\u001b[0;34m\u001b[0m\u001b[0m\n\u001b[1;32m   3051\u001b[0m         \u001b[0;32mexcept\u001b[0m \u001b[0mBaseException\u001b[0m \u001b[0;32mas\u001b[0m \u001b[0me\u001b[0m\u001b[0;34m:\u001b[0m\u001b[0;34m\u001b[0m\u001b[0;34m\u001b[0m\u001b[0m\n",
            "\u001b[0;32m/usr/local/lib/python3.11/dist-packages/langchain_core/language_models/chat_models.py\u001b[0m in \u001b[0;36minvoke\u001b[0;34m(self, input, config, stop, **kwargs)\u001b[0m\n\u001b[1;32m    381\u001b[0m         return cast(\n\u001b[1;32m    382\u001b[0m             \u001b[0;34m\"ChatGeneration\"\u001b[0m\u001b[0;34m,\u001b[0m\u001b[0;34m\u001b[0m\u001b[0;34m\u001b[0m\u001b[0m\n\u001b[0;32m--> 383\u001b[0;31m             self.generate_prompt(\n\u001b[0m\u001b[1;32m    384\u001b[0m                 \u001b[0;34m[\u001b[0m\u001b[0mself\u001b[0m\u001b[0;34m.\u001b[0m\u001b[0m_convert_input\u001b[0m\u001b[0;34m(\u001b[0m\u001b[0minput\u001b[0m\u001b[0;34m)\u001b[0m\u001b[0;34m]\u001b[0m\u001b[0;34m,\u001b[0m\u001b[0;34m\u001b[0m\u001b[0;34m\u001b[0m\u001b[0m\n\u001b[1;32m    385\u001b[0m                 \u001b[0mstop\u001b[0m\u001b[0;34m=\u001b[0m\u001b[0mstop\u001b[0m\u001b[0;34m,\u001b[0m\u001b[0;34m\u001b[0m\u001b[0;34m\u001b[0m\u001b[0m\n",
            "\u001b[0;32m/usr/local/lib/python3.11/dist-packages/langchain_core/language_models/chat_models.py\u001b[0m in \u001b[0;36mgenerate_prompt\u001b[0;34m(self, prompts, stop, callbacks, **kwargs)\u001b[0m\n\u001b[1;32m   1004\u001b[0m     ) -> LLMResult:\n\u001b[1;32m   1005\u001b[0m         \u001b[0mprompt_messages\u001b[0m \u001b[0;34m=\u001b[0m \u001b[0;34m[\u001b[0m\u001b[0mp\u001b[0m\u001b[0;34m.\u001b[0m\u001b[0mto_messages\u001b[0m\u001b[0;34m(\u001b[0m\u001b[0;34m)\u001b[0m \u001b[0;32mfor\u001b[0m \u001b[0mp\u001b[0m \u001b[0;32min\u001b[0m \u001b[0mprompts\u001b[0m\u001b[0;34m]\u001b[0m\u001b[0;34m\u001b[0m\u001b[0;34m\u001b[0m\u001b[0m\n\u001b[0;32m-> 1006\u001b[0;31m         \u001b[0;32mreturn\u001b[0m \u001b[0mself\u001b[0m\u001b[0;34m.\u001b[0m\u001b[0mgenerate\u001b[0m\u001b[0;34m(\u001b[0m\u001b[0mprompt_messages\u001b[0m\u001b[0;34m,\u001b[0m \u001b[0mstop\u001b[0m\u001b[0;34m=\u001b[0m\u001b[0mstop\u001b[0m\u001b[0;34m,\u001b[0m \u001b[0mcallbacks\u001b[0m\u001b[0;34m=\u001b[0m\u001b[0mcallbacks\u001b[0m\u001b[0;34m,\u001b[0m \u001b[0;34m**\u001b[0m\u001b[0mkwargs\u001b[0m\u001b[0;34m)\u001b[0m\u001b[0;34m\u001b[0m\u001b[0;34m\u001b[0m\u001b[0m\n\u001b[0m\u001b[1;32m   1007\u001b[0m \u001b[0;34m\u001b[0m\u001b[0m\n\u001b[1;32m   1008\u001b[0m     \u001b[0;34m@\u001b[0m\u001b[0moverride\u001b[0m\u001b[0;34m\u001b[0m\u001b[0;34m\u001b[0m\u001b[0m\n",
            "\u001b[0;32m/usr/local/lib/python3.11/dist-packages/langchain_core/language_models/chat_models.py\u001b[0m in \u001b[0;36mgenerate\u001b[0;34m(self, messages, stop, callbacks, tags, metadata, run_name, run_id, **kwargs)\u001b[0m\n\u001b[1;32m    823\u001b[0m             \u001b[0;32mtry\u001b[0m\u001b[0;34m:\u001b[0m\u001b[0;34m\u001b[0m\u001b[0;34m\u001b[0m\u001b[0m\n\u001b[1;32m    824\u001b[0m                 results.append(\n\u001b[0;32m--> 825\u001b[0;31m                     self._generate_with_cache(\n\u001b[0m\u001b[1;32m    826\u001b[0m                         \u001b[0mm\u001b[0m\u001b[0;34m,\u001b[0m\u001b[0;34m\u001b[0m\u001b[0;34m\u001b[0m\u001b[0m\n\u001b[1;32m    827\u001b[0m                         \u001b[0mstop\u001b[0m\u001b[0;34m=\u001b[0m\u001b[0mstop\u001b[0m\u001b[0;34m,\u001b[0m\u001b[0;34m\u001b[0m\u001b[0;34m\u001b[0m\u001b[0m\n",
            "\u001b[0;32m/usr/local/lib/python3.11/dist-packages/langchain_core/language_models/chat_models.py\u001b[0m in \u001b[0;36m_generate_with_cache\u001b[0;34m(self, messages, stop, run_manager, **kwargs)\u001b[0m\n\u001b[1;32m   1070\u001b[0m             \u001b[0mresult\u001b[0m \u001b[0;34m=\u001b[0m \u001b[0mgenerate_from_stream\u001b[0m\u001b[0;34m(\u001b[0m\u001b[0miter\u001b[0m\u001b[0;34m(\u001b[0m\u001b[0mchunks\u001b[0m\u001b[0;34m)\u001b[0m\u001b[0;34m)\u001b[0m\u001b[0;34m\u001b[0m\u001b[0;34m\u001b[0m\u001b[0m\n\u001b[1;32m   1071\u001b[0m         \u001b[0;32melif\u001b[0m \u001b[0minspect\u001b[0m\u001b[0;34m.\u001b[0m\u001b[0msignature\u001b[0m\u001b[0;34m(\u001b[0m\u001b[0mself\u001b[0m\u001b[0;34m.\u001b[0m\u001b[0m_generate\u001b[0m\u001b[0;34m)\u001b[0m\u001b[0;34m.\u001b[0m\u001b[0mparameters\u001b[0m\u001b[0;34m.\u001b[0m\u001b[0mget\u001b[0m\u001b[0;34m(\u001b[0m\u001b[0;34m\"run_manager\"\u001b[0m\u001b[0;34m)\u001b[0m\u001b[0;34m:\u001b[0m\u001b[0;34m\u001b[0m\u001b[0;34m\u001b[0m\u001b[0m\n\u001b[0;32m-> 1072\u001b[0;31m             result = self._generate(\n\u001b[0m\u001b[1;32m   1073\u001b[0m                 \u001b[0mmessages\u001b[0m\u001b[0;34m,\u001b[0m \u001b[0mstop\u001b[0m\u001b[0;34m=\u001b[0m\u001b[0mstop\u001b[0m\u001b[0;34m,\u001b[0m \u001b[0mrun_manager\u001b[0m\u001b[0;34m=\u001b[0m\u001b[0mrun_manager\u001b[0m\u001b[0;34m,\u001b[0m \u001b[0;34m**\u001b[0m\u001b[0mkwargs\u001b[0m\u001b[0;34m\u001b[0m\u001b[0;34m\u001b[0m\u001b[0m\n\u001b[1;32m   1074\u001b[0m             )\n",
            "\u001b[0;32m/usr/local/lib/python3.11/dist-packages/langchain_google_genai/chat_models.py\u001b[0m in \u001b[0;36m_generate\u001b[0;34m(self, messages, stop, run_manager, tools, functions, safety_settings, tool_config, generation_config, cached_content, tool_choice, **kwargs)\u001b[0m\n\u001b[1;32m    959\u001b[0m             \u001b[0mtool_choice\u001b[0m\u001b[0;34m=\u001b[0m\u001b[0mtool_choice\u001b[0m\u001b[0;34m,\u001b[0m\u001b[0;34m\u001b[0m\u001b[0;34m\u001b[0m\u001b[0m\n\u001b[1;32m    960\u001b[0m         )\n\u001b[0;32m--> 961\u001b[0;31m         response: GenerateContentResponse = _chat_with_retry(\n\u001b[0m\u001b[1;32m    962\u001b[0m             \u001b[0mrequest\u001b[0m\u001b[0;34m=\u001b[0m\u001b[0mrequest\u001b[0m\u001b[0;34m,\u001b[0m\u001b[0;34m\u001b[0m\u001b[0;34m\u001b[0m\u001b[0m\n\u001b[1;32m    963\u001b[0m             \u001b[0;34m**\u001b[0m\u001b[0mkwargs\u001b[0m\u001b[0;34m,\u001b[0m\u001b[0;34m\u001b[0m\u001b[0;34m\u001b[0m\u001b[0m\n",
            "\u001b[0;32m/usr/local/lib/python3.11/dist-packages/langchain_google_genai/chat_models.py\u001b[0m in \u001b[0;36m_chat_with_retry\u001b[0;34m(generation_method, **kwargs)\u001b[0m\n\u001b[1;32m    194\u001b[0m             \u001b[0;32mraise\u001b[0m \u001b[0me\u001b[0m\u001b[0;34m\u001b[0m\u001b[0;34m\u001b[0m\u001b[0m\n\u001b[1;32m    195\u001b[0m \u001b[0;34m\u001b[0m\u001b[0m\n\u001b[0;32m--> 196\u001b[0;31m     \u001b[0;32mreturn\u001b[0m \u001b[0m_chat_with_retry\u001b[0m\u001b[0;34m(\u001b[0m\u001b[0;34m**\u001b[0m\u001b[0mkwargs\u001b[0m\u001b[0;34m)\u001b[0m\u001b[0;34m\u001b[0m\u001b[0;34m\u001b[0m\u001b[0m\n\u001b[0m\u001b[1;32m    197\u001b[0m \u001b[0;34m\u001b[0m\u001b[0m\n\u001b[1;32m    198\u001b[0m \u001b[0;34m\u001b[0m\u001b[0m\n",
            "\u001b[0;32m/usr/local/lib/python3.11/dist-packages/tenacity/__init__.py\u001b[0m in \u001b[0;36mwrapped_f\u001b[0;34m(*args, **kw)\u001b[0m\n\u001b[1;32m    336\u001b[0m             \u001b[0mcopy\u001b[0m \u001b[0;34m=\u001b[0m \u001b[0mself\u001b[0m\u001b[0;34m.\u001b[0m\u001b[0mcopy\u001b[0m\u001b[0;34m(\u001b[0m\u001b[0;34m)\u001b[0m\u001b[0;34m\u001b[0m\u001b[0;34m\u001b[0m\u001b[0m\n\u001b[1;32m    337\u001b[0m             \u001b[0mwrapped_f\u001b[0m\u001b[0;34m.\u001b[0m\u001b[0mstatistics\u001b[0m \u001b[0;34m=\u001b[0m \u001b[0mcopy\u001b[0m\u001b[0;34m.\u001b[0m\u001b[0mstatistics\u001b[0m  \u001b[0;31m# type: ignore[attr-defined]\u001b[0m\u001b[0;34m\u001b[0m\u001b[0;34m\u001b[0m\u001b[0m\n\u001b[0;32m--> 338\u001b[0;31m             \u001b[0;32mreturn\u001b[0m \u001b[0mcopy\u001b[0m\u001b[0;34m(\u001b[0m\u001b[0mf\u001b[0m\u001b[0;34m,\u001b[0m \u001b[0;34m*\u001b[0m\u001b[0margs\u001b[0m\u001b[0;34m,\u001b[0m \u001b[0;34m**\u001b[0m\u001b[0mkw\u001b[0m\u001b[0;34m)\u001b[0m\u001b[0;34m\u001b[0m\u001b[0;34m\u001b[0m\u001b[0m\n\u001b[0m\u001b[1;32m    339\u001b[0m \u001b[0;34m\u001b[0m\u001b[0m\n\u001b[1;32m    340\u001b[0m         \u001b[0;32mdef\u001b[0m \u001b[0mretry_with\u001b[0m\u001b[0;34m(\u001b[0m\u001b[0;34m*\u001b[0m\u001b[0margs\u001b[0m\u001b[0;34m:\u001b[0m \u001b[0mt\u001b[0m\u001b[0;34m.\u001b[0m\u001b[0mAny\u001b[0m\u001b[0;34m,\u001b[0m \u001b[0;34m**\u001b[0m\u001b[0mkwargs\u001b[0m\u001b[0;34m:\u001b[0m \u001b[0mt\u001b[0m\u001b[0;34m.\u001b[0m\u001b[0mAny\u001b[0m\u001b[0;34m)\u001b[0m \u001b[0;34m->\u001b[0m \u001b[0mWrappedFn\u001b[0m\u001b[0;34m:\u001b[0m\u001b[0;34m\u001b[0m\u001b[0;34m\u001b[0m\u001b[0m\n",
            "\u001b[0;32m/usr/local/lib/python3.11/dist-packages/tenacity/__init__.py\u001b[0m in \u001b[0;36m__call__\u001b[0;34m(self, fn, *args, **kwargs)\u001b[0m\n\u001b[1;32m    475\u001b[0m         \u001b[0mretry_state\u001b[0m \u001b[0;34m=\u001b[0m \u001b[0mRetryCallState\u001b[0m\u001b[0;34m(\u001b[0m\u001b[0mretry_object\u001b[0m\u001b[0;34m=\u001b[0m\u001b[0mself\u001b[0m\u001b[0;34m,\u001b[0m \u001b[0mfn\u001b[0m\u001b[0;34m=\u001b[0m\u001b[0mfn\u001b[0m\u001b[0;34m,\u001b[0m \u001b[0margs\u001b[0m\u001b[0;34m=\u001b[0m\u001b[0margs\u001b[0m\u001b[0;34m,\u001b[0m \u001b[0mkwargs\u001b[0m\u001b[0;34m=\u001b[0m\u001b[0mkwargs\u001b[0m\u001b[0;34m)\u001b[0m\u001b[0;34m\u001b[0m\u001b[0;34m\u001b[0m\u001b[0m\n\u001b[1;32m    476\u001b[0m         \u001b[0;32mwhile\u001b[0m \u001b[0;32mTrue\u001b[0m\u001b[0;34m:\u001b[0m\u001b[0;34m\u001b[0m\u001b[0;34m\u001b[0m\u001b[0m\n\u001b[0;32m--> 477\u001b[0;31m             \u001b[0mdo\u001b[0m \u001b[0;34m=\u001b[0m \u001b[0mself\u001b[0m\u001b[0;34m.\u001b[0m\u001b[0miter\u001b[0m\u001b[0;34m(\u001b[0m\u001b[0mretry_state\u001b[0m\u001b[0;34m=\u001b[0m\u001b[0mretry_state\u001b[0m\u001b[0;34m)\u001b[0m\u001b[0;34m\u001b[0m\u001b[0;34m\u001b[0m\u001b[0m\n\u001b[0m\u001b[1;32m    478\u001b[0m             \u001b[0;32mif\u001b[0m \u001b[0misinstance\u001b[0m\u001b[0;34m(\u001b[0m\u001b[0mdo\u001b[0m\u001b[0;34m,\u001b[0m \u001b[0mDoAttempt\u001b[0m\u001b[0;34m)\u001b[0m\u001b[0;34m:\u001b[0m\u001b[0;34m\u001b[0m\u001b[0;34m\u001b[0m\u001b[0m\n\u001b[1;32m    479\u001b[0m                 \u001b[0;32mtry\u001b[0m\u001b[0;34m:\u001b[0m\u001b[0;34m\u001b[0m\u001b[0;34m\u001b[0m\u001b[0m\n",
            "\u001b[0;32m/usr/local/lib/python3.11/dist-packages/tenacity/__init__.py\u001b[0m in \u001b[0;36miter\u001b[0;34m(self, retry_state)\u001b[0m\n\u001b[1;32m    376\u001b[0m         \u001b[0mresult\u001b[0m \u001b[0;34m=\u001b[0m \u001b[0;32mNone\u001b[0m\u001b[0;34m\u001b[0m\u001b[0;34m\u001b[0m\u001b[0m\n\u001b[1;32m    377\u001b[0m         \u001b[0;32mfor\u001b[0m \u001b[0maction\u001b[0m \u001b[0;32min\u001b[0m \u001b[0mself\u001b[0m\u001b[0;34m.\u001b[0m\u001b[0miter_state\u001b[0m\u001b[0;34m.\u001b[0m\u001b[0mactions\u001b[0m\u001b[0;34m:\u001b[0m\u001b[0;34m\u001b[0m\u001b[0;34m\u001b[0m\u001b[0m\n\u001b[0;32m--> 378\u001b[0;31m             \u001b[0mresult\u001b[0m \u001b[0;34m=\u001b[0m \u001b[0maction\u001b[0m\u001b[0;34m(\u001b[0m\u001b[0mretry_state\u001b[0m\u001b[0;34m)\u001b[0m\u001b[0;34m\u001b[0m\u001b[0;34m\u001b[0m\u001b[0m\n\u001b[0m\u001b[1;32m    379\u001b[0m         \u001b[0;32mreturn\u001b[0m \u001b[0mresult\u001b[0m\u001b[0;34m\u001b[0m\u001b[0;34m\u001b[0m\u001b[0m\n\u001b[1;32m    380\u001b[0m \u001b[0;34m\u001b[0m\u001b[0m\n",
            "\u001b[0;32m/usr/local/lib/python3.11/dist-packages/tenacity/__init__.py\u001b[0m in \u001b[0;36mexc_check\u001b[0;34m(rs)\u001b[0m\n\u001b[1;32m    418\u001b[0m                 \u001b[0mretry_exc\u001b[0m \u001b[0;34m=\u001b[0m \u001b[0mself\u001b[0m\u001b[0;34m.\u001b[0m\u001b[0mretry_error_cls\u001b[0m\u001b[0;34m(\u001b[0m\u001b[0mfut\u001b[0m\u001b[0;34m)\u001b[0m\u001b[0;34m\u001b[0m\u001b[0;34m\u001b[0m\u001b[0m\n\u001b[1;32m    419\u001b[0m                 \u001b[0;32mif\u001b[0m \u001b[0mself\u001b[0m\u001b[0;34m.\u001b[0m\u001b[0mreraise\u001b[0m\u001b[0;34m:\u001b[0m\u001b[0;34m\u001b[0m\u001b[0;34m\u001b[0m\u001b[0m\n\u001b[0;32m--> 420\u001b[0;31m                     \u001b[0;32mraise\u001b[0m \u001b[0mretry_exc\u001b[0m\u001b[0;34m.\u001b[0m\u001b[0mreraise\u001b[0m\u001b[0;34m(\u001b[0m\u001b[0;34m)\u001b[0m\u001b[0;34m\u001b[0m\u001b[0;34m\u001b[0m\u001b[0m\n\u001b[0m\u001b[1;32m    421\u001b[0m                 \u001b[0;32mraise\u001b[0m \u001b[0mretry_exc\u001b[0m \u001b[0;32mfrom\u001b[0m \u001b[0mfut\u001b[0m\u001b[0;34m.\u001b[0m\u001b[0mexception\u001b[0m\u001b[0;34m(\u001b[0m\u001b[0;34m)\u001b[0m\u001b[0;34m\u001b[0m\u001b[0;34m\u001b[0m\u001b[0m\n\u001b[1;32m    422\u001b[0m \u001b[0;34m\u001b[0m\u001b[0m\n",
            "\u001b[0;32m/usr/local/lib/python3.11/dist-packages/tenacity/__init__.py\u001b[0m in \u001b[0;36mreraise\u001b[0;34m(self)\u001b[0m\n\u001b[1;32m    185\u001b[0m     \u001b[0;32mdef\u001b[0m \u001b[0mreraise\u001b[0m\u001b[0;34m(\u001b[0m\u001b[0mself\u001b[0m\u001b[0;34m)\u001b[0m \u001b[0;34m->\u001b[0m \u001b[0mt\u001b[0m\u001b[0;34m.\u001b[0m\u001b[0mNoReturn\u001b[0m\u001b[0;34m:\u001b[0m\u001b[0;34m\u001b[0m\u001b[0;34m\u001b[0m\u001b[0m\n\u001b[1;32m    186\u001b[0m         \u001b[0;32mif\u001b[0m \u001b[0mself\u001b[0m\u001b[0;34m.\u001b[0m\u001b[0mlast_attempt\u001b[0m\u001b[0;34m.\u001b[0m\u001b[0mfailed\u001b[0m\u001b[0;34m:\u001b[0m\u001b[0;34m\u001b[0m\u001b[0;34m\u001b[0m\u001b[0m\n\u001b[0;32m--> 187\u001b[0;31m             \u001b[0;32mraise\u001b[0m \u001b[0mself\u001b[0m\u001b[0;34m.\u001b[0m\u001b[0mlast_attempt\u001b[0m\u001b[0;34m.\u001b[0m\u001b[0mresult\u001b[0m\u001b[0;34m(\u001b[0m\u001b[0;34m)\u001b[0m\u001b[0;34m\u001b[0m\u001b[0;34m\u001b[0m\u001b[0m\n\u001b[0m\u001b[1;32m    188\u001b[0m         \u001b[0;32mraise\u001b[0m \u001b[0mself\u001b[0m\u001b[0;34m\u001b[0m\u001b[0;34m\u001b[0m\u001b[0m\n\u001b[1;32m    189\u001b[0m \u001b[0;34m\u001b[0m\u001b[0m\n",
            "\u001b[0;32m/usr/lib/python3.11/concurrent/futures/_base.py\u001b[0m in \u001b[0;36mresult\u001b[0;34m(self, timeout)\u001b[0m\n\u001b[1;32m    447\u001b[0m                     \u001b[0;32mraise\u001b[0m \u001b[0mCancelledError\u001b[0m\u001b[0;34m(\u001b[0m\u001b[0;34m)\u001b[0m\u001b[0;34m\u001b[0m\u001b[0;34m\u001b[0m\u001b[0m\n\u001b[1;32m    448\u001b[0m                 \u001b[0;32melif\u001b[0m \u001b[0mself\u001b[0m\u001b[0;34m.\u001b[0m\u001b[0m_state\u001b[0m \u001b[0;34m==\u001b[0m \u001b[0mFINISHED\u001b[0m\u001b[0;34m:\u001b[0m\u001b[0;34m\u001b[0m\u001b[0;34m\u001b[0m\u001b[0m\n\u001b[0;32m--> 449\u001b[0;31m                     \u001b[0;32mreturn\u001b[0m \u001b[0mself\u001b[0m\u001b[0;34m.\u001b[0m\u001b[0m__get_result\u001b[0m\u001b[0;34m(\u001b[0m\u001b[0;34m)\u001b[0m\u001b[0;34m\u001b[0m\u001b[0;34m\u001b[0m\u001b[0m\n\u001b[0m\u001b[1;32m    450\u001b[0m \u001b[0;34m\u001b[0m\u001b[0m\n\u001b[1;32m    451\u001b[0m                 \u001b[0mself\u001b[0m\u001b[0;34m.\u001b[0m\u001b[0m_condition\u001b[0m\u001b[0;34m.\u001b[0m\u001b[0mwait\u001b[0m\u001b[0;34m(\u001b[0m\u001b[0mtimeout\u001b[0m\u001b[0;34m)\u001b[0m\u001b[0;34m\u001b[0m\u001b[0;34m\u001b[0m\u001b[0m\n",
            "\u001b[0;32m/usr/lib/python3.11/concurrent/futures/_base.py\u001b[0m in \u001b[0;36m__get_result\u001b[0;34m(self)\u001b[0m\n\u001b[1;32m    399\u001b[0m         \u001b[0;32mif\u001b[0m \u001b[0mself\u001b[0m\u001b[0;34m.\u001b[0m\u001b[0m_exception\u001b[0m\u001b[0;34m:\u001b[0m\u001b[0;34m\u001b[0m\u001b[0;34m\u001b[0m\u001b[0m\n\u001b[1;32m    400\u001b[0m             \u001b[0;32mtry\u001b[0m\u001b[0;34m:\u001b[0m\u001b[0;34m\u001b[0m\u001b[0;34m\u001b[0m\u001b[0m\n\u001b[0;32m--> 401\u001b[0;31m                 \u001b[0;32mraise\u001b[0m \u001b[0mself\u001b[0m\u001b[0;34m.\u001b[0m\u001b[0m_exception\u001b[0m\u001b[0;34m\u001b[0m\u001b[0;34m\u001b[0m\u001b[0m\n\u001b[0m\u001b[1;32m    402\u001b[0m             \u001b[0;32mfinally\u001b[0m\u001b[0;34m:\u001b[0m\u001b[0;34m\u001b[0m\u001b[0;34m\u001b[0m\u001b[0m\n\u001b[1;32m    403\u001b[0m                 \u001b[0;31m# Break a reference cycle with the exception in self._exception\u001b[0m\u001b[0;34m\u001b[0m\u001b[0;34m\u001b[0m\u001b[0m\n",
            "\u001b[0;32m/usr/local/lib/python3.11/dist-packages/tenacity/__init__.py\u001b[0m in \u001b[0;36m__call__\u001b[0;34m(self, fn, *args, **kwargs)\u001b[0m\n\u001b[1;32m    478\u001b[0m             \u001b[0;32mif\u001b[0m \u001b[0misinstance\u001b[0m\u001b[0;34m(\u001b[0m\u001b[0mdo\u001b[0m\u001b[0;34m,\u001b[0m \u001b[0mDoAttempt\u001b[0m\u001b[0;34m)\u001b[0m\u001b[0;34m:\u001b[0m\u001b[0;34m\u001b[0m\u001b[0;34m\u001b[0m\u001b[0m\n\u001b[1;32m    479\u001b[0m                 \u001b[0;32mtry\u001b[0m\u001b[0;34m:\u001b[0m\u001b[0;34m\u001b[0m\u001b[0;34m\u001b[0m\u001b[0m\n\u001b[0;32m--> 480\u001b[0;31m                     \u001b[0mresult\u001b[0m \u001b[0;34m=\u001b[0m \u001b[0mfn\u001b[0m\u001b[0;34m(\u001b[0m\u001b[0;34m*\u001b[0m\u001b[0margs\u001b[0m\u001b[0;34m,\u001b[0m \u001b[0;34m**\u001b[0m\u001b[0mkwargs\u001b[0m\u001b[0;34m)\u001b[0m\u001b[0;34m\u001b[0m\u001b[0;34m\u001b[0m\u001b[0m\n\u001b[0m\u001b[1;32m    481\u001b[0m                 \u001b[0;32mexcept\u001b[0m \u001b[0mBaseException\u001b[0m\u001b[0;34m:\u001b[0m  \u001b[0;31m# noqa: B902\u001b[0m\u001b[0;34m\u001b[0m\u001b[0;34m\u001b[0m\u001b[0m\n\u001b[1;32m    482\u001b[0m                     \u001b[0mretry_state\u001b[0m\u001b[0;34m.\u001b[0m\u001b[0mset_exception\u001b[0m\u001b[0;34m(\u001b[0m\u001b[0msys\u001b[0m\u001b[0;34m.\u001b[0m\u001b[0mexc_info\u001b[0m\u001b[0;34m(\u001b[0m\u001b[0;34m)\u001b[0m\u001b[0;34m)\u001b[0m  \u001b[0;31m# type: ignore[arg-type]\u001b[0m\u001b[0;34m\u001b[0m\u001b[0;34m\u001b[0m\u001b[0m\n",
            "\u001b[0;32m/usr/local/lib/python3.11/dist-packages/langchain_google_genai/chat_models.py\u001b[0m in \u001b[0;36m_chat_with_retry\u001b[0;34m(**kwargs)\u001b[0m\n\u001b[1;32m    192\u001b[0m             ) from e\n\u001b[1;32m    193\u001b[0m         \u001b[0;32mexcept\u001b[0m \u001b[0mException\u001b[0m \u001b[0;32mas\u001b[0m \u001b[0me\u001b[0m\u001b[0;34m:\u001b[0m\u001b[0;34m\u001b[0m\u001b[0;34m\u001b[0m\u001b[0m\n\u001b[0;32m--> 194\u001b[0;31m             \u001b[0;32mraise\u001b[0m \u001b[0me\u001b[0m\u001b[0;34m\u001b[0m\u001b[0;34m\u001b[0m\u001b[0m\n\u001b[0m\u001b[1;32m    195\u001b[0m \u001b[0;34m\u001b[0m\u001b[0m\n\u001b[1;32m    196\u001b[0m     \u001b[0;32mreturn\u001b[0m \u001b[0m_chat_with_retry\u001b[0m\u001b[0;34m(\u001b[0m\u001b[0;34m**\u001b[0m\u001b[0mkwargs\u001b[0m\u001b[0;34m)\u001b[0m\u001b[0;34m\u001b[0m\u001b[0;34m\u001b[0m\u001b[0m\n",
            "\u001b[0;32m/usr/local/lib/python3.11/dist-packages/langchain_google_genai/chat_models.py\u001b[0m in \u001b[0;36m_chat_with_retry\u001b[0;34m(**kwargs)\u001b[0m\n\u001b[1;32m    176\u001b[0m     \u001b[0;32mdef\u001b[0m \u001b[0m_chat_with_retry\u001b[0m\u001b[0;34m(\u001b[0m\u001b[0;34m**\u001b[0m\u001b[0mkwargs\u001b[0m\u001b[0;34m:\u001b[0m \u001b[0mAny\u001b[0m\u001b[0;34m)\u001b[0m \u001b[0;34m->\u001b[0m \u001b[0mAny\u001b[0m\u001b[0;34m:\u001b[0m\u001b[0;34m\u001b[0m\u001b[0;34m\u001b[0m\u001b[0m\n\u001b[1;32m    177\u001b[0m         \u001b[0;32mtry\u001b[0m\u001b[0;34m:\u001b[0m\u001b[0;34m\u001b[0m\u001b[0;34m\u001b[0m\u001b[0m\n\u001b[0;32m--> 178\u001b[0;31m             \u001b[0;32mreturn\u001b[0m \u001b[0mgeneration_method\u001b[0m\u001b[0;34m(\u001b[0m\u001b[0;34m**\u001b[0m\u001b[0mkwargs\u001b[0m\u001b[0;34m)\u001b[0m\u001b[0;34m\u001b[0m\u001b[0;34m\u001b[0m\u001b[0m\n\u001b[0m\u001b[1;32m    179\u001b[0m         \u001b[0;31m# Do not retry for these errors.\u001b[0m\u001b[0;34m\u001b[0m\u001b[0;34m\u001b[0m\u001b[0m\n\u001b[1;32m    180\u001b[0m         \u001b[0;32mexcept\u001b[0m \u001b[0mgoogle\u001b[0m\u001b[0;34m.\u001b[0m\u001b[0mapi_core\u001b[0m\u001b[0;34m.\u001b[0m\u001b[0mexceptions\u001b[0m\u001b[0;34m.\u001b[0m\u001b[0mFailedPrecondition\u001b[0m \u001b[0;32mas\u001b[0m \u001b[0mexc\u001b[0m\u001b[0;34m:\u001b[0m\u001b[0;34m\u001b[0m\u001b[0;34m\u001b[0m\u001b[0m\n",
            "\u001b[0;32m/usr/local/lib/python3.11/dist-packages/google/ai/generativelanguage_v1beta/services/generative_service/client.py\u001b[0m in \u001b[0;36mgenerate_content\u001b[0;34m(self, request, model, contents, retry, timeout, metadata)\u001b[0m\n\u001b[1;32m    833\u001b[0m \u001b[0;34m\u001b[0m\u001b[0m\n\u001b[1;32m    834\u001b[0m         \u001b[0;31m# Send the request.\u001b[0m\u001b[0;34m\u001b[0m\u001b[0;34m\u001b[0m\u001b[0m\n\u001b[0;32m--> 835\u001b[0;31m         response = rpc(\n\u001b[0m\u001b[1;32m    836\u001b[0m             \u001b[0mrequest\u001b[0m\u001b[0;34m,\u001b[0m\u001b[0;34m\u001b[0m\u001b[0;34m\u001b[0m\u001b[0m\n\u001b[1;32m    837\u001b[0m             \u001b[0mretry\u001b[0m\u001b[0;34m=\u001b[0m\u001b[0mretry\u001b[0m\u001b[0;34m,\u001b[0m\u001b[0;34m\u001b[0m\u001b[0;34m\u001b[0m\u001b[0m\n",
            "\u001b[0;32m/usr/local/lib/python3.11/dist-packages/google/api_core/gapic_v1/method.py\u001b[0m in \u001b[0;36m__call__\u001b[0;34m(self, timeout, retry, compression, *args, **kwargs)\u001b[0m\n\u001b[1;32m    129\u001b[0m             \u001b[0mkwargs\u001b[0m\u001b[0;34m[\u001b[0m\u001b[0;34m\"compression\"\u001b[0m\u001b[0;34m]\u001b[0m \u001b[0;34m=\u001b[0m \u001b[0mcompression\u001b[0m\u001b[0;34m\u001b[0m\u001b[0;34m\u001b[0m\u001b[0m\n\u001b[1;32m    130\u001b[0m \u001b[0;34m\u001b[0m\u001b[0m\n\u001b[0;32m--> 131\u001b[0;31m         \u001b[0;32mreturn\u001b[0m \u001b[0mwrapped_func\u001b[0m\u001b[0;34m(\u001b[0m\u001b[0;34m*\u001b[0m\u001b[0margs\u001b[0m\u001b[0;34m,\u001b[0m \u001b[0;34m**\u001b[0m\u001b[0mkwargs\u001b[0m\u001b[0;34m)\u001b[0m\u001b[0;34m\u001b[0m\u001b[0;34m\u001b[0m\u001b[0m\n\u001b[0m\u001b[1;32m    132\u001b[0m \u001b[0;34m\u001b[0m\u001b[0m\n\u001b[1;32m    133\u001b[0m \u001b[0;34m\u001b[0m\u001b[0m\n",
            "\u001b[0;32m/usr/local/lib/python3.11/dist-packages/google/api_core/retry/retry_unary.py\u001b[0m in \u001b[0;36mretry_wrapped_func\u001b[0;34m(*args, **kwargs)\u001b[0m\n\u001b[1;32m    292\u001b[0m                 \u001b[0mself\u001b[0m\u001b[0;34m.\u001b[0m\u001b[0m_initial\u001b[0m\u001b[0;34m,\u001b[0m \u001b[0mself\u001b[0m\u001b[0;34m.\u001b[0m\u001b[0m_maximum\u001b[0m\u001b[0;34m,\u001b[0m \u001b[0mmultiplier\u001b[0m\u001b[0;34m=\u001b[0m\u001b[0mself\u001b[0m\u001b[0;34m.\u001b[0m\u001b[0m_multiplier\u001b[0m\u001b[0;34m\u001b[0m\u001b[0;34m\u001b[0m\u001b[0m\n\u001b[1;32m    293\u001b[0m             )\n\u001b[0;32m--> 294\u001b[0;31m             return retry_target(\n\u001b[0m\u001b[1;32m    295\u001b[0m                 \u001b[0mtarget\u001b[0m\u001b[0;34m,\u001b[0m\u001b[0;34m\u001b[0m\u001b[0;34m\u001b[0m\u001b[0m\n\u001b[1;32m    296\u001b[0m                 \u001b[0mself\u001b[0m\u001b[0;34m.\u001b[0m\u001b[0m_predicate\u001b[0m\u001b[0;34m,\u001b[0m\u001b[0;34m\u001b[0m\u001b[0;34m\u001b[0m\u001b[0m\n",
            "\u001b[0;32m/usr/local/lib/python3.11/dist-packages/google/api_core/retry/retry_unary.py\u001b[0m in \u001b[0;36mretry_target\u001b[0;34m(target, predicate, sleep_generator, timeout, on_error, exception_factory, **kwargs)\u001b[0m\n\u001b[1;32m    154\u001b[0m         \u001b[0;32mexcept\u001b[0m \u001b[0mException\u001b[0m \u001b[0;32mas\u001b[0m \u001b[0mexc\u001b[0m\u001b[0;34m:\u001b[0m\u001b[0;34m\u001b[0m\u001b[0;34m\u001b[0m\u001b[0m\n\u001b[1;32m    155\u001b[0m             \u001b[0;31m# defer to shared logic for handling errors\u001b[0m\u001b[0;34m\u001b[0m\u001b[0;34m\u001b[0m\u001b[0m\n\u001b[0;32m--> 156\u001b[0;31m             next_sleep = _retry_error_helper(\n\u001b[0m\u001b[1;32m    157\u001b[0m                 \u001b[0mexc\u001b[0m\u001b[0;34m,\u001b[0m\u001b[0;34m\u001b[0m\u001b[0;34m\u001b[0m\u001b[0m\n\u001b[1;32m    158\u001b[0m                 \u001b[0mdeadline\u001b[0m\u001b[0;34m,\u001b[0m\u001b[0;34m\u001b[0m\u001b[0;34m\u001b[0m\u001b[0m\n",
            "\u001b[0;32m/usr/local/lib/python3.11/dist-packages/google/api_core/retry/retry_base.py\u001b[0m in \u001b[0;36m_retry_error_helper\u001b[0;34m(exc, deadline, sleep_iterator, error_list, predicate_fn, on_error_fn, exc_factory_fn, original_timeout)\u001b[0m\n\u001b[1;32m    212\u001b[0m             \u001b[0moriginal_timeout\u001b[0m\u001b[0;34m,\u001b[0m\u001b[0;34m\u001b[0m\u001b[0;34m\u001b[0m\u001b[0m\n\u001b[1;32m    213\u001b[0m         )\n\u001b[0;32m--> 214\u001b[0;31m         \u001b[0;32mraise\u001b[0m \u001b[0mfinal_exc\u001b[0m \u001b[0;32mfrom\u001b[0m \u001b[0msource_exc\u001b[0m\u001b[0;34m\u001b[0m\u001b[0;34m\u001b[0m\u001b[0m\n\u001b[0m\u001b[1;32m    215\u001b[0m     \u001b[0;32mif\u001b[0m \u001b[0mon_error_fn\u001b[0m \u001b[0;32mis\u001b[0m \u001b[0;32mnot\u001b[0m \u001b[0;32mNone\u001b[0m\u001b[0;34m:\u001b[0m\u001b[0;34m\u001b[0m\u001b[0;34m\u001b[0m\u001b[0m\n\u001b[1;32m    216\u001b[0m         \u001b[0mon_error_fn\u001b[0m\u001b[0;34m(\u001b[0m\u001b[0mexc\u001b[0m\u001b[0;34m)\u001b[0m\u001b[0;34m\u001b[0m\u001b[0;34m\u001b[0m\u001b[0m\n",
            "\u001b[0;32m/usr/local/lib/python3.11/dist-packages/google/api_core/retry/retry_unary.py\u001b[0m in \u001b[0;36mretry_target\u001b[0;34m(target, predicate, sleep_generator, timeout, on_error, exception_factory, **kwargs)\u001b[0m\n\u001b[1;32m    145\u001b[0m     \u001b[0;32mwhile\u001b[0m \u001b[0;32mTrue\u001b[0m\u001b[0;34m:\u001b[0m\u001b[0;34m\u001b[0m\u001b[0;34m\u001b[0m\u001b[0m\n\u001b[1;32m    146\u001b[0m         \u001b[0;32mtry\u001b[0m\u001b[0;34m:\u001b[0m\u001b[0;34m\u001b[0m\u001b[0;34m\u001b[0m\u001b[0m\n\u001b[0;32m--> 147\u001b[0;31m             \u001b[0mresult\u001b[0m \u001b[0;34m=\u001b[0m \u001b[0mtarget\u001b[0m\u001b[0;34m(\u001b[0m\u001b[0;34m)\u001b[0m\u001b[0;34m\u001b[0m\u001b[0;34m\u001b[0m\u001b[0m\n\u001b[0m\u001b[1;32m    148\u001b[0m             \u001b[0;32mif\u001b[0m \u001b[0minspect\u001b[0m\u001b[0;34m.\u001b[0m\u001b[0misawaitable\u001b[0m\u001b[0;34m(\u001b[0m\u001b[0mresult\u001b[0m\u001b[0;34m)\u001b[0m\u001b[0;34m:\u001b[0m\u001b[0;34m\u001b[0m\u001b[0;34m\u001b[0m\u001b[0m\n\u001b[1;32m    149\u001b[0m                 \u001b[0mwarnings\u001b[0m\u001b[0;34m.\u001b[0m\u001b[0mwarn\u001b[0m\u001b[0;34m(\u001b[0m\u001b[0m_ASYNC_RETRY_WARNING\u001b[0m\u001b[0;34m)\u001b[0m\u001b[0;34m\u001b[0m\u001b[0;34m\u001b[0m\u001b[0m\n",
            "\u001b[0;32m/usr/local/lib/python3.11/dist-packages/google/api_core/timeout.py\u001b[0m in \u001b[0;36mfunc_with_timeout\u001b[0;34m(*args, **kwargs)\u001b[0m\n\u001b[1;32m    128\u001b[0m                 \u001b[0mkwargs\u001b[0m\u001b[0;34m[\u001b[0m\u001b[0;34m\"timeout\"\u001b[0m\u001b[0;34m]\u001b[0m \u001b[0;34m=\u001b[0m \u001b[0mremaining_timeout\u001b[0m\u001b[0;34m\u001b[0m\u001b[0;34m\u001b[0m\u001b[0m\n\u001b[1;32m    129\u001b[0m \u001b[0;34m\u001b[0m\u001b[0m\n\u001b[0;32m--> 130\u001b[0;31m             \u001b[0;32mreturn\u001b[0m \u001b[0mfunc\u001b[0m\u001b[0;34m(\u001b[0m\u001b[0;34m*\u001b[0m\u001b[0margs\u001b[0m\u001b[0;34m,\u001b[0m \u001b[0;34m**\u001b[0m\u001b[0mkwargs\u001b[0m\u001b[0;34m)\u001b[0m\u001b[0;34m\u001b[0m\u001b[0;34m\u001b[0m\u001b[0m\n\u001b[0m\u001b[1;32m    131\u001b[0m \u001b[0;34m\u001b[0m\u001b[0m\n\u001b[1;32m    132\u001b[0m         \u001b[0;32mreturn\u001b[0m \u001b[0mfunc_with_timeout\u001b[0m\u001b[0;34m\u001b[0m\u001b[0;34m\u001b[0m\u001b[0m\n",
            "\u001b[0;32m/usr/local/lib/python3.11/dist-packages/google/api_core/grpc_helpers.py\u001b[0m in \u001b[0;36merror_remapped_callable\u001b[0;34m(*args, **kwargs)\u001b[0m\n\u001b[1;32m     76\u001b[0m             \u001b[0;32mreturn\u001b[0m \u001b[0mcallable_\u001b[0m\u001b[0;34m(\u001b[0m\u001b[0;34m*\u001b[0m\u001b[0margs\u001b[0m\u001b[0;34m,\u001b[0m \u001b[0;34m**\u001b[0m\u001b[0mkwargs\u001b[0m\u001b[0;34m)\u001b[0m\u001b[0;34m\u001b[0m\u001b[0;34m\u001b[0m\u001b[0m\n\u001b[1;32m     77\u001b[0m         \u001b[0;32mexcept\u001b[0m \u001b[0mgrpc\u001b[0m\u001b[0;34m.\u001b[0m\u001b[0mRpcError\u001b[0m \u001b[0;32mas\u001b[0m \u001b[0mexc\u001b[0m\u001b[0;34m:\u001b[0m\u001b[0;34m\u001b[0m\u001b[0;34m\u001b[0m\u001b[0m\n\u001b[0;32m---> 78\u001b[0;31m             \u001b[0;32mraise\u001b[0m \u001b[0mexceptions\u001b[0m\u001b[0;34m.\u001b[0m\u001b[0mfrom_grpc_error\u001b[0m\u001b[0;34m(\u001b[0m\u001b[0mexc\u001b[0m\u001b[0;34m)\u001b[0m \u001b[0;32mfrom\u001b[0m \u001b[0mexc\u001b[0m\u001b[0;34m\u001b[0m\u001b[0;34m\u001b[0m\u001b[0m\n\u001b[0m\u001b[1;32m     79\u001b[0m \u001b[0;34m\u001b[0m\u001b[0m\n\u001b[1;32m     80\u001b[0m     \u001b[0;32mreturn\u001b[0m \u001b[0merror_remapped_callable\u001b[0m\u001b[0;34m\u001b[0m\u001b[0;34m\u001b[0m\u001b[0m\n",
            "\u001b[0;31mResourceExhausted\u001b[0m: 429 You exceeded your current quota, please check your plan and billing details. For more information on this error, head to: https://ai.google.dev/gemini-api/docs/rate-limits. [violations {\n  quota_metric: \"generativelanguage.googleapis.com/generate_content_free_tier_requests\"\n  quota_id: \"GenerateRequestsPerDayPerProjectPerModel-FreeTier\"\n  quota_dimensions {\n    key: \"model\"\n    value: \"gemini-1.5-flash\"\n  }\n  quota_dimensions {\n    key: \"location\"\n    value: \"global\"\n  }\n  quota_value: 50\n}\n, links {\n  description: \"Learn more about Gemini API quotas\"\n  url: \"https://ai.google.dev/gemini-api/docs/rate-limits\"\n}\n, retry_delay {\n  seconds: 41\n}\n]"
          ]
        }
      ],
      "source": [
        "from bert_score import score\n",
        "\n",
        "# Inisialisasi list untuk menyimpan skor\n",
        "f1_scores = []\n",
        "num_samples = 10  # Jumlah sampel yang ingin dihitung\n",
        "\n",
        "for i, (q, a) in enumerate(zip(data['question'], data['answer'])):\n",
        "    if i >= num_samples:\n",
        "        break  # Berhenti setelah 10 iterasi\n",
        "\n",
        "    query = q\n",
        "    docs = retriever.invoke(query)\n",
        "    response = chain.invoke({\"question\": query, \"context\": docs})\n",
        "\n",
        "    references = [a]\n",
        "    generated = [response.content]\n",
        "\n",
        "    P, R, F1 = score(generated, references, lang=\"id\")\n",
        "    current_f1 = F1.mean().item()\n",
        "    f1_scores.append(current_f1)\n",
        "\n",
        "    print(f\"BERTScore F1 untuk pertanyaan ke-{i+1} '{q}': {current_f1:.3f}\")\n",
        "\n",
        "# Hitung rata-rata dari 10 sampel\n",
        "if f1_scores:\n",
        "    average_f1 = sum(f1_scores) / len(f1_scores)\n",
        "    print(f\"\\nRata-rata BERTScore F1 dari {len(f1_scores)} pertanyaan pertama: {average_f1:.3f}\")\n",
        "else:\n",
        "    print(\"Tidak ada skor yang dihitung.\")"
      ]
    },
    {
      "cell_type": "code",
      "execution_count": null,
      "metadata": {
        "id": "gndnH-LQWrWg"
      },
      "outputs": [],
      "source": []
    }
  ],
  "metadata": {
    "colab": {
      "provenance": []
    },
    "kernelspec": {
      "display_name": "Python 3",
      "name": "python3"
    },
    "language_info": {
      "name": "python"
    }
  },
  "nbformat": 4,
  "nbformat_minor": 0
}
